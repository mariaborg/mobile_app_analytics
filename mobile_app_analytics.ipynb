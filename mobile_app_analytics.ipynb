{
 "cells": [
  {
   "cell_type": "markdown",
   "metadata": {},
   "source": [
    "# Событийная аналитика пользователей мобильного приложения"
   ]
  },
  {
   "cell_type": "markdown",
   "metadata": {},
   "source": [
    "Молодой стартап, который продаёт продукты питания, собрал данные о действиях пользователей своего мобильного приложения. Необходимо разобраться, как ведут себя пользователи при использовании приложения и проследить их путь до покупки, составив воронку продаж. В конце следует выявить влияние изменененных шрифтов на поведение пользователей. "
   ]
  },
  {
   "cell_type": "markdown",
   "metadata": {},
   "source": [
    "<b>Цель проекта</b>: \n",
    "1. Выявить шаги, на которых застревают пользователи.\n",
    "2. Посмотреть, сколько пользователей уходят на каждом из шагов.\n",
    "3. Составить воронку продаж и визуализировать ее.\n",
    "4. Исследовать, как новые шрифты повлияли на основные пользовательские метрики."
   ]
  },
  {
   "cell_type": "markdown",
   "metadata": {},
   "source": [
    "<b>Ход исследования</b>\n",
    "\n",
    "Данные для исследования я выгружу из файла <code>'/datasets/logs_exp.csv'</code>, после чего сделаю предобработку данных: проверю данные на актуальность, дубликаты, приведу их к нужному типу данных.\n",
    "\n",
    "После я изучу данные подробнее: посмотрю, сколько человек попало в контрольные и экспериментальную группы, проверю, какие события описаны в файле, сколько событий приходится на одного пользователя и найду, за какой период представлены данные. \n",
    "\n",
    "На следующем шаге я составлю воронку событий и продемонстрирую типичный пользовательский опыт с приложением.\n",
    "\n",
    "Последним этапом я проведу AB-тест и опишу результат от внедрения новых шрифтов."
   ]
  },
  {
   "cell_type": "markdown",
   "metadata": {},
   "source": [
    "<b>Навигация</b>\n",
    "\n",
    "- [Загрузка файла с данными](#section_id1)\n",
    "\n",
    "\n",
    "- [Подготовка данных](#section_id21)\n",
    "    - [Подготовка столбцов](#section_id22)\n",
    "    - [Преобразование типов данных](#section_id23)\n",
    "    - [Проверка данных на дубликаты](#section_id24)\n",
    "    \n",
    "  \n",
    "- [Изучение и проверка данных](#section_id3)\n",
    "    - [События в датафрейме и количество пользователей](#section_id31)\n",
    "    - [Распределение количества событий по дням](#section_id32)\n",
    "    - [Фильтрация данных](#section_id33)\n",
    "    \n",
    "    \n",
    "- [Изучение воронки событий](#section_id4)\n",
    "    - [Самые популярные события](#section_id41)\n",
    "    - [Количество пользователей на каждое событие](#section_id42)\n",
    "    - [Воронка продаж](#section_id43)\n",
    "    - [Процент пользователей, которые доходят от первого события до оплаты](#section_id44)\n",
    "    \n",
    "    \n",
    "- [Изучение результатов эксперимента со шрифтами](#section_id5)\n",
    "    - [Проверка контрольных групп на равенство](#section_id51)\n",
    "    - [Проверка на разбиение по группам](#section_id52)\n",
    "    \n",
    "    \n",
    "- [Общие выводы](#section_id6)"
   ]
  },
  {
   "cell_type": "markdown",
   "metadata": {},
   "source": []
  },
  {
   "cell_type": "markdown",
   "metadata": {},
   "source": [
    "<a id='section_id1'></a>\n",
    "## Загрузка файла с данными"
   ]
  },
  {
   "cell_type": "code",
   "execution_count": 1,
   "metadata": {},
   "outputs": [],
   "source": [
    "import pandas as pd\n",
    "import seaborn\n",
    "import matplotlib.pyplot as plt \n",
    "from scipy import stats as st\n",
    "import numpy as np\n",
    "import math as mth\n",
    "import datetime\n",
    "from plotly import graph_objs as go \n",
    "import plotly.express as px"
   ]
  },
  {
   "cell_type": "code",
   "execution_count": 2,
   "metadata": {},
   "outputs": [],
   "source": [
    "data = pd.read_csv('/datasets/logs_exp.csv', sep='\\t')"
   ]
  },
  {
   "cell_type": "code",
   "execution_count": 3,
   "metadata": {},
   "outputs": [
    {
     "data": {
      "text/html": [
       "<div>\n",
       "<style scoped>\n",
       "    .dataframe tbody tr th:only-of-type {\n",
       "        vertical-align: middle;\n",
       "    }\n",
       "\n",
       "    .dataframe tbody tr th {\n",
       "        vertical-align: top;\n",
       "    }\n",
       "\n",
       "    .dataframe thead th {\n",
       "        text-align: right;\n",
       "    }\n",
       "</style>\n",
       "<table border=\"1\" class=\"dataframe\">\n",
       "  <thead>\n",
       "    <tr style=\"text-align: right;\">\n",
       "      <th></th>\n",
       "      <th>EventName</th>\n",
       "      <th>DeviceIDHash</th>\n",
       "      <th>EventTimestamp</th>\n",
       "      <th>ExpId</th>\n",
       "    </tr>\n",
       "  </thead>\n",
       "  <tbody>\n",
       "    <tr>\n",
       "      <th>0</th>\n",
       "      <td>MainScreenAppear</td>\n",
       "      <td>4575588528974610257</td>\n",
       "      <td>1564029816</td>\n",
       "      <td>246</td>\n",
       "    </tr>\n",
       "    <tr>\n",
       "      <th>1</th>\n",
       "      <td>MainScreenAppear</td>\n",
       "      <td>7416695313311560658</td>\n",
       "      <td>1564053102</td>\n",
       "      <td>246</td>\n",
       "    </tr>\n",
       "    <tr>\n",
       "      <th>2</th>\n",
       "      <td>PaymentScreenSuccessful</td>\n",
       "      <td>3518123091307005509</td>\n",
       "      <td>1564054127</td>\n",
       "      <td>248</td>\n",
       "    </tr>\n",
       "    <tr>\n",
       "      <th>3</th>\n",
       "      <td>CartScreenAppear</td>\n",
       "      <td>3518123091307005509</td>\n",
       "      <td>1564054127</td>\n",
       "      <td>248</td>\n",
       "    </tr>\n",
       "    <tr>\n",
       "      <th>4</th>\n",
       "      <td>PaymentScreenSuccessful</td>\n",
       "      <td>6217807653094995999</td>\n",
       "      <td>1564055322</td>\n",
       "      <td>248</td>\n",
       "    </tr>\n",
       "    <tr>\n",
       "      <th>5</th>\n",
       "      <td>CartScreenAppear</td>\n",
       "      <td>6217807653094995999</td>\n",
       "      <td>1564055323</td>\n",
       "      <td>248</td>\n",
       "    </tr>\n",
       "    <tr>\n",
       "      <th>6</th>\n",
       "      <td>OffersScreenAppear</td>\n",
       "      <td>8351860793733343758</td>\n",
       "      <td>1564066242</td>\n",
       "      <td>246</td>\n",
       "    </tr>\n",
       "    <tr>\n",
       "      <th>7</th>\n",
       "      <td>MainScreenAppear</td>\n",
       "      <td>5682100281902512875</td>\n",
       "      <td>1564085677</td>\n",
       "      <td>246</td>\n",
       "    </tr>\n",
       "    <tr>\n",
       "      <th>8</th>\n",
       "      <td>MainScreenAppear</td>\n",
       "      <td>1850981295691852772</td>\n",
       "      <td>1564086702</td>\n",
       "      <td>247</td>\n",
       "    </tr>\n",
       "    <tr>\n",
       "      <th>9</th>\n",
       "      <td>MainScreenAppear</td>\n",
       "      <td>5407636962369102641</td>\n",
       "      <td>1564112112</td>\n",
       "      <td>246</td>\n",
       "    </tr>\n",
       "  </tbody>\n",
       "</table>\n",
       "</div>"
      ],
      "text/plain": [
       "                 EventName         DeviceIDHash  EventTimestamp  ExpId\n",
       "0         MainScreenAppear  4575588528974610257      1564029816    246\n",
       "1         MainScreenAppear  7416695313311560658      1564053102    246\n",
       "2  PaymentScreenSuccessful  3518123091307005509      1564054127    248\n",
       "3         CartScreenAppear  3518123091307005509      1564054127    248\n",
       "4  PaymentScreenSuccessful  6217807653094995999      1564055322    248\n",
       "5         CartScreenAppear  6217807653094995999      1564055323    248\n",
       "6       OffersScreenAppear  8351860793733343758      1564066242    246\n",
       "7         MainScreenAppear  5682100281902512875      1564085677    246\n",
       "8         MainScreenAppear  1850981295691852772      1564086702    247\n",
       "9         MainScreenAppear  5407636962369102641      1564112112    246"
      ]
     },
     "execution_count": 3,
     "metadata": {},
     "output_type": "execute_result"
    }
   ],
   "source": [
    "data.head(10)"
   ]
  },
  {
   "cell_type": "markdown",
   "metadata": {},
   "source": [
    "Познакомимся с датафреймом поближе на следующих шагах."
   ]
  },
  {
   "cell_type": "markdown",
   "metadata": {},
   "source": [
    "<a id='section_id2'></a>\n",
    "## Подготовка данных"
   ]
  },
  {
   "cell_type": "markdown",
   "metadata": {},
   "source": [
    "<a id='section_id21'></a>\n",
    "### Подготовка столбцов"
   ]
  },
  {
   "cell_type": "code",
   "execution_count": 4,
   "metadata": {},
   "outputs": [],
   "source": [
    "data.columns = ['event', 'userId', 'time', 'groupId']"
   ]
  },
  {
   "cell_type": "code",
   "execution_count": 5,
   "metadata": {},
   "outputs": [
    {
     "name": "stdout",
     "output_type": "stream",
     "text": [
      "<class 'pandas.core.frame.DataFrame'>\n",
      "RangeIndex: 244126 entries, 0 to 244125\n",
      "Data columns (total 4 columns):\n",
      " #   Column   Non-Null Count   Dtype \n",
      "---  ------   --------------   ----- \n",
      " 0   event    244126 non-null  object\n",
      " 1   userId   244126 non-null  int64 \n",
      " 2   time     244126 non-null  int64 \n",
      " 3   groupId  244126 non-null  int64 \n",
      "dtypes: int64(3), object(1)\n",
      "memory usage: 7.5+ MB\n"
     ]
    }
   ],
   "source": [
    "data.info()"
   ]
  },
  {
   "cell_type": "markdown",
   "metadata": {},
   "source": [
    "В датафрейме 244126 строк и 4 столбца: с названием события, айди пользователя, временем события и номером группы, в которую попал пользователь (246 и 247 - контрольные группы, а 248 экспериментальная) "
   ]
  },
  {
   "cell_type": "markdown",
   "metadata": {},
   "source": [
    "<a id='section_id22'></a>\n",
    "### Преобразование типов данных"
   ]
  },
  {
   "cell_type": "markdown",
   "metadata": {},
   "source": [
    "Изменим тип данных для столбца time и добавим столбец с датой."
   ]
  },
  {
   "cell_type": "code",
   "execution_count": 6,
   "metadata": {},
   "outputs": [],
   "source": [
    "data['time'] = pd.to_datetime(data['time'], unit='s')"
   ]
  },
  {
   "cell_type": "code",
   "execution_count": 7,
   "metadata": {},
   "outputs": [],
   "source": [
    "data['date'] = pd.to_datetime(data['time'].dt.date)"
   ]
  },
  {
   "cell_type": "code",
   "execution_count": 8,
   "metadata": {},
   "outputs": [
    {
     "data": {
      "text/html": [
       "<div>\n",
       "<style scoped>\n",
       "    .dataframe tbody tr th:only-of-type {\n",
       "        vertical-align: middle;\n",
       "    }\n",
       "\n",
       "    .dataframe tbody tr th {\n",
       "        vertical-align: top;\n",
       "    }\n",
       "\n",
       "    .dataframe thead th {\n",
       "        text-align: right;\n",
       "    }\n",
       "</style>\n",
       "<table border=\"1\" class=\"dataframe\">\n",
       "  <thead>\n",
       "    <tr style=\"text-align: right;\">\n",
       "      <th></th>\n",
       "      <th>event</th>\n",
       "      <th>userId</th>\n",
       "      <th>time</th>\n",
       "      <th>groupId</th>\n",
       "      <th>date</th>\n",
       "    </tr>\n",
       "  </thead>\n",
       "  <tbody>\n",
       "    <tr>\n",
       "      <th>0</th>\n",
       "      <td>MainScreenAppear</td>\n",
       "      <td>4575588528974610257</td>\n",
       "      <td>2019-07-25 04:43:36</td>\n",
       "      <td>246</td>\n",
       "      <td>2019-07-25</td>\n",
       "    </tr>\n",
       "    <tr>\n",
       "      <th>1</th>\n",
       "      <td>MainScreenAppear</td>\n",
       "      <td>7416695313311560658</td>\n",
       "      <td>2019-07-25 11:11:42</td>\n",
       "      <td>246</td>\n",
       "      <td>2019-07-25</td>\n",
       "    </tr>\n",
       "    <tr>\n",
       "      <th>2</th>\n",
       "      <td>PaymentScreenSuccessful</td>\n",
       "      <td>3518123091307005509</td>\n",
       "      <td>2019-07-25 11:28:47</td>\n",
       "      <td>248</td>\n",
       "      <td>2019-07-25</td>\n",
       "    </tr>\n",
       "    <tr>\n",
       "      <th>3</th>\n",
       "      <td>CartScreenAppear</td>\n",
       "      <td>3518123091307005509</td>\n",
       "      <td>2019-07-25 11:28:47</td>\n",
       "      <td>248</td>\n",
       "      <td>2019-07-25</td>\n",
       "    </tr>\n",
       "    <tr>\n",
       "      <th>4</th>\n",
       "      <td>PaymentScreenSuccessful</td>\n",
       "      <td>6217807653094995999</td>\n",
       "      <td>2019-07-25 11:48:42</td>\n",
       "      <td>248</td>\n",
       "      <td>2019-07-25</td>\n",
       "    </tr>\n",
       "    <tr>\n",
       "      <th>5</th>\n",
       "      <td>CartScreenAppear</td>\n",
       "      <td>6217807653094995999</td>\n",
       "      <td>2019-07-25 11:48:43</td>\n",
       "      <td>248</td>\n",
       "      <td>2019-07-25</td>\n",
       "    </tr>\n",
       "    <tr>\n",
       "      <th>6</th>\n",
       "      <td>OffersScreenAppear</td>\n",
       "      <td>8351860793733343758</td>\n",
       "      <td>2019-07-25 14:50:42</td>\n",
       "      <td>246</td>\n",
       "      <td>2019-07-25</td>\n",
       "    </tr>\n",
       "    <tr>\n",
       "      <th>7</th>\n",
       "      <td>MainScreenAppear</td>\n",
       "      <td>5682100281902512875</td>\n",
       "      <td>2019-07-25 20:14:37</td>\n",
       "      <td>246</td>\n",
       "      <td>2019-07-25</td>\n",
       "    </tr>\n",
       "    <tr>\n",
       "      <th>8</th>\n",
       "      <td>MainScreenAppear</td>\n",
       "      <td>1850981295691852772</td>\n",
       "      <td>2019-07-25 20:31:42</td>\n",
       "      <td>247</td>\n",
       "      <td>2019-07-25</td>\n",
       "    </tr>\n",
       "    <tr>\n",
       "      <th>9</th>\n",
       "      <td>MainScreenAppear</td>\n",
       "      <td>5407636962369102641</td>\n",
       "      <td>2019-07-26 03:35:12</td>\n",
       "      <td>246</td>\n",
       "      <td>2019-07-26</td>\n",
       "    </tr>\n",
       "  </tbody>\n",
       "</table>\n",
       "</div>"
      ],
      "text/plain": [
       "                     event               userId                time  groupId  \\\n",
       "0         MainScreenAppear  4575588528974610257 2019-07-25 04:43:36      246   \n",
       "1         MainScreenAppear  7416695313311560658 2019-07-25 11:11:42      246   \n",
       "2  PaymentScreenSuccessful  3518123091307005509 2019-07-25 11:28:47      248   \n",
       "3         CartScreenAppear  3518123091307005509 2019-07-25 11:28:47      248   \n",
       "4  PaymentScreenSuccessful  6217807653094995999 2019-07-25 11:48:42      248   \n",
       "5         CartScreenAppear  6217807653094995999 2019-07-25 11:48:43      248   \n",
       "6       OffersScreenAppear  8351860793733343758 2019-07-25 14:50:42      246   \n",
       "7         MainScreenAppear  5682100281902512875 2019-07-25 20:14:37      246   \n",
       "8         MainScreenAppear  1850981295691852772 2019-07-25 20:31:42      247   \n",
       "9         MainScreenAppear  5407636962369102641 2019-07-26 03:35:12      246   \n",
       "\n",
       "        date  \n",
       "0 2019-07-25  \n",
       "1 2019-07-25  \n",
       "2 2019-07-25  \n",
       "3 2019-07-25  \n",
       "4 2019-07-25  \n",
       "5 2019-07-25  \n",
       "6 2019-07-25  \n",
       "7 2019-07-25  \n",
       "8 2019-07-25  \n",
       "9 2019-07-26  "
      ]
     },
     "execution_count": 8,
     "metadata": {},
     "output_type": "execute_result"
    }
   ],
   "source": [
    "data.head(10)"
   ]
  },
  {
   "cell_type": "markdown",
   "metadata": {},
   "source": [
    "<a id='section_id23'></a>\n",
    "### Проверка данных на дубликаты"
   ]
  },
  {
   "cell_type": "markdown",
   "metadata": {},
   "source": [
    "Проверим получившийся датафрейм на строки-дубликаты."
   ]
  },
  {
   "cell_type": "code",
   "execution_count": 9,
   "metadata": {},
   "outputs": [
    {
     "data": {
      "text/html": [
       "<div>\n",
       "<style scoped>\n",
       "    .dataframe tbody tr th:only-of-type {\n",
       "        vertical-align: middle;\n",
       "    }\n",
       "\n",
       "    .dataframe tbody tr th {\n",
       "        vertical-align: top;\n",
       "    }\n",
       "\n",
       "    .dataframe thead th {\n",
       "        text-align: right;\n",
       "    }\n",
       "</style>\n",
       "<table border=\"1\" class=\"dataframe\">\n",
       "  <thead>\n",
       "    <tr style=\"text-align: right;\">\n",
       "      <th></th>\n",
       "      <th>event</th>\n",
       "      <th>userId</th>\n",
       "      <th>time</th>\n",
       "      <th>groupId</th>\n",
       "      <th>date</th>\n",
       "    </tr>\n",
       "  </thead>\n",
       "  <tbody>\n",
       "    <tr>\n",
       "      <th>453</th>\n",
       "      <td>MainScreenAppear</td>\n",
       "      <td>5613408041324010552</td>\n",
       "      <td>2019-07-30 08:19:44</td>\n",
       "      <td>248</td>\n",
       "      <td>2019-07-30</td>\n",
       "    </tr>\n",
       "    <tr>\n",
       "      <th>2350</th>\n",
       "      <td>CartScreenAppear</td>\n",
       "      <td>1694940645335807244</td>\n",
       "      <td>2019-07-31 21:51:39</td>\n",
       "      <td>248</td>\n",
       "      <td>2019-07-31</td>\n",
       "    </tr>\n",
       "    <tr>\n",
       "      <th>3573</th>\n",
       "      <td>MainScreenAppear</td>\n",
       "      <td>434103746454591587</td>\n",
       "      <td>2019-08-01 02:59:37</td>\n",
       "      <td>248</td>\n",
       "      <td>2019-08-01</td>\n",
       "    </tr>\n",
       "    <tr>\n",
       "      <th>4076</th>\n",
       "      <td>MainScreenAppear</td>\n",
       "      <td>3761373764179762633</td>\n",
       "      <td>2019-08-01 03:47:46</td>\n",
       "      <td>247</td>\n",
       "      <td>2019-08-01</td>\n",
       "    </tr>\n",
       "    <tr>\n",
       "      <th>4803</th>\n",
       "      <td>MainScreenAppear</td>\n",
       "      <td>2835328739789306622</td>\n",
       "      <td>2019-08-01 04:44:01</td>\n",
       "      <td>248</td>\n",
       "      <td>2019-08-01</td>\n",
       "    </tr>\n",
       "    <tr>\n",
       "      <th>...</th>\n",
       "      <td>...</td>\n",
       "      <td>...</td>\n",
       "      <td>...</td>\n",
       "      <td>...</td>\n",
       "      <td>...</td>\n",
       "    </tr>\n",
       "    <tr>\n",
       "      <th>242329</th>\n",
       "      <td>MainScreenAppear</td>\n",
       "      <td>8870358373313968633</td>\n",
       "      <td>2019-08-07 19:26:44</td>\n",
       "      <td>247</td>\n",
       "      <td>2019-08-07</td>\n",
       "    </tr>\n",
       "    <tr>\n",
       "      <th>242332</th>\n",
       "      <td>PaymentScreenSuccessful</td>\n",
       "      <td>4718002964983105693</td>\n",
       "      <td>2019-08-07 19:26:45</td>\n",
       "      <td>247</td>\n",
       "      <td>2019-08-07</td>\n",
       "    </tr>\n",
       "    <tr>\n",
       "      <th>242360</th>\n",
       "      <td>PaymentScreenSuccessful</td>\n",
       "      <td>2382591782303281935</td>\n",
       "      <td>2019-08-07 19:27:29</td>\n",
       "      <td>246</td>\n",
       "      <td>2019-08-07</td>\n",
       "    </tr>\n",
       "    <tr>\n",
       "      <th>242362</th>\n",
       "      <td>CartScreenAppear</td>\n",
       "      <td>2382591782303281935</td>\n",
       "      <td>2019-08-07 19:27:29</td>\n",
       "      <td>246</td>\n",
       "      <td>2019-08-07</td>\n",
       "    </tr>\n",
       "    <tr>\n",
       "      <th>242635</th>\n",
       "      <td>MainScreenAppear</td>\n",
       "      <td>4097782667445790512</td>\n",
       "      <td>2019-08-07 19:36:58</td>\n",
       "      <td>246</td>\n",
       "      <td>2019-08-07</td>\n",
       "    </tr>\n",
       "  </tbody>\n",
       "</table>\n",
       "<p>413 rows × 5 columns</p>\n",
       "</div>"
      ],
      "text/plain": [
       "                          event               userId                time  \\\n",
       "453            MainScreenAppear  5613408041324010552 2019-07-30 08:19:44   \n",
       "2350           CartScreenAppear  1694940645335807244 2019-07-31 21:51:39   \n",
       "3573           MainScreenAppear   434103746454591587 2019-08-01 02:59:37   \n",
       "4076           MainScreenAppear  3761373764179762633 2019-08-01 03:47:46   \n",
       "4803           MainScreenAppear  2835328739789306622 2019-08-01 04:44:01   \n",
       "...                         ...                  ...                 ...   \n",
       "242329         MainScreenAppear  8870358373313968633 2019-08-07 19:26:44   \n",
       "242332  PaymentScreenSuccessful  4718002964983105693 2019-08-07 19:26:45   \n",
       "242360  PaymentScreenSuccessful  2382591782303281935 2019-08-07 19:27:29   \n",
       "242362         CartScreenAppear  2382591782303281935 2019-08-07 19:27:29   \n",
       "242635         MainScreenAppear  4097782667445790512 2019-08-07 19:36:58   \n",
       "\n",
       "        groupId       date  \n",
       "453         248 2019-07-30  \n",
       "2350        248 2019-07-31  \n",
       "3573        248 2019-08-01  \n",
       "4076        247 2019-08-01  \n",
       "4803        248 2019-08-01  \n",
       "...         ...        ...  \n",
       "242329      247 2019-08-07  \n",
       "242332      247 2019-08-07  \n",
       "242360      246 2019-08-07  \n",
       "242362      246 2019-08-07  \n",
       "242635      246 2019-08-07  \n",
       "\n",
       "[413 rows x 5 columns]"
      ]
     },
     "execution_count": 9,
     "metadata": {},
     "output_type": "execute_result"
    }
   ],
   "source": [
    "duplicateRows = data[data.duplicated()]\n",
    "duplicateRows"
   ]
  },
  {
   "cell_type": "markdown",
   "metadata": {},
   "source": [
    "Удалим 413 строк-дубликатов."
   ]
  },
  {
   "cell_type": "code",
   "execution_count": 10,
   "metadata": {},
   "outputs": [],
   "source": [
    "data.drop(index = duplicateRows.index, inplace=True)"
   ]
  },
  {
   "cell_type": "code",
   "execution_count": 11,
   "metadata": {},
   "outputs": [
    {
     "data": {
      "text/plain": [
       "243713"
      ]
     },
     "execution_count": 11,
     "metadata": {},
     "output_type": "execute_result"
    }
   ],
   "source": [
    "data.shape[0]"
   ]
  },
  {
   "cell_type": "markdown",
   "metadata": {},
   "source": [
    "Теперь в датафрейме информация о 243713 разных событиях."
   ]
  },
  {
   "cell_type": "markdown",
   "metadata": {},
   "source": [
    "Данные очищены от повторяющихся строк, столбцы с датами приведены к нужному типу, пропуски отсутствуют."
   ]
  },
  {
   "cell_type": "markdown",
   "metadata": {},
   "source": [
    "<a id='section_id3'></a>\n",
    "## Анализ данных"
   ]
  },
  {
   "cell_type": "markdown",
   "metadata": {},
   "source": [
    "<a id='section_id31'></a>\n",
    "### События в датафрейме и количество пользователей"
   ]
  },
  {
   "cell_type": "code",
   "execution_count": 61,
   "metadata": {},
   "outputs": [
    {
     "name": "stdout",
     "output_type": "stream",
     "text": [
      "События: MainScreenAppear, PaymentScreenSuccessful, CartScreenAppear, OffersScreenAppear, Tutorial\n"
     ]
    }
   ],
   "source": [
    "events = data['event'].unique()\n",
    "print(f'События: {\", \".join(events)}')"
   ]
  },
  {
   "cell_type": "markdown",
   "metadata": {},
   "source": [
    "Всего в датафрейме 5 событий: попадание на главную страницу, страницу с успешной оплатой, с корзиной, с предложением об оплате и туториалом."
   ]
  },
  {
   "cell_type": "code",
   "execution_count": 63,
   "metadata": {},
   "outputs": [
    {
     "name": "stdout",
     "output_type": "stream",
     "text": [
      "Количество пользователей: 7551\n"
     ]
    }
   ],
   "source": [
    "users = data['userId'].nunique()\n",
    "print(f'Количество пользователей: {users}')"
   ]
  },
  {
   "cell_type": "markdown",
   "metadata": {},
   "source": [
    "Всего в логе информация о действиях 7551 пользователей."
   ]
  },
  {
   "cell_type": "code",
   "execution_count": 64,
   "metadata": {},
   "outputs": [
    {
     "name": "stdout",
     "output_type": "stream",
     "text": [
      "Среднее количество событий на одного пользователя: 32.27559263673685\n"
     ]
    }
   ],
   "source": [
    "events_per_user = (data.groupby('userId')['event'].count())\n",
    "print(f'Среднее количество событий на одного пользователя: {events_per_user.mean()}')"
   ]
  },
  {
   "cell_type": "markdown",
   "metadata": {},
   "source": [
    "На одного пользователя в среднем приходится 33 события. Посмотрим на медиану и выбросы, построив диаграмму размаха."
   ]
  },
  {
   "cell_type": "code",
   "execution_count": 74,
   "metadata": {},
   "outputs": [
    {
     "data": {
      "image/png": "[encoded data removed]",
      "text/plain": [
       "<Figure size 1080x432 with 1 Axes>"
      ]
     },
     "metadata": {
      "needs_background": "light"
     },
     "output_type": "display_data"
    }
   ],
   "source": [
    "ax = events_per_user.reset_index().boxplot(column=['event'], figsize=(15, 6))\n",
    "ax.set_ylim(0, 150)\n",
    "plt.title('Диаграмма размаха')\n",
    "plt.ylabel('Количество событий на пользователя')\n",
    "plt.show()"
   ]
  },
  {
   "cell_type": "markdown",
   "metadata": {},
   "source": [
    "Медиана расположена на отметке в 20 событий на пользователя, первый квантиль расположен около 10 (25% пользователей не совершают более 10 событий), а третий почти доходит до 40 (75% пользователей не совершают более 40 событий). Выбросы начинаются выше 80 событий на пользователя и, судя по диаграмме, это не единичные случаи."
   ]
  },
  {
   "cell_type": "markdown",
   "metadata": {},
   "source": [
    "<a id='section_id32'></a>\n",
    "### Распределение количества событий по дням"
   ]
  },
  {
   "cell_type": "code",
   "execution_count": 75,
   "metadata": {},
   "outputs": [],
   "source": [
    "events_per_user = events_per_user.reset_index()\n",
    "events_per_user.columns = ['users', 'events']"
   ]
  },
  {
   "cell_type": "code",
   "execution_count": 76,
   "metadata": {},
   "outputs": [
    {
     "name": "stdout",
     "output_type": "stream",
     "text": [
      "Начало анализа: 2019-07-25 00:00:00, конец анализа: 2019-08-07 00:00:00\n"
     ]
    }
   ],
   "source": [
    "print(f'Начало анализа: {data[\"date\"].min()}, конец анализа: {data[\"date\"].max()}')"
   ]
  },
  {
   "cell_type": "markdown",
   "metadata": {},
   "source": [
    "Первые данные в датафрейме за 25 июля 2019 года, последний день в выборке - 7 августа 2019 года."
   ]
  },
  {
   "cell_type": "markdown",
   "metadata": {},
   "source": [
    "Посмотрим на общий график распределения количества событий по дням."
   ]
  },
  {
   "cell_type": "code",
   "execution_count": 18,
   "metadata": {},
   "outputs": [
    {
     "data": {
      "image/png": "[encoded data removed]",
      "text/plain": [
       "<Figure size 1080x432 with 1 Axes>"
      ]
     },
     "metadata": {
      "needs_background": "light"
     },
     "output_type": "display_data"
    }
   ],
   "source": [
    "data['date'].hist(bins=15, figsize=(15,6))\n",
    "plt.title('Количество событий')\n",
    "plt.xticks(rotation=45) \n",
    "plt.xlabel('Дата')\n",
    "plt.ylabel('События');"
   ]
  },
  {
   "cell_type": "markdown",
   "metadata": {},
   "source": [
    "Посмотрим более мелкие детали, отобразив данные за 31 июля и 1 августа, чтобы понять, когда именно был запущен тест."
   ]
  },
  {
   "cell_type": "code",
   "execution_count": 19,
   "metadata": {},
   "outputs": [
    {
     "data": {
      "image/png": "[encoded data removed]",
      "text/plain": [
       "<Figure size 1080x432 with 1 Axes>"
      ]
     },
     "metadata": {
      "needs_background": "light"
     },
     "output_type": "display_data"
    }
   ],
   "source": [
    "two_dates = data.query('date > \"2019-07-30\" and date < \"2019-08-02\"')\n",
    "two_dates['time'].hist(bins=7, figsize=(15,6))\n",
    "plt.title('Количество событий')\n",
    "plt.xticks(rotation=45) \n",
    "plt.xlabel('Дата')\n",
    "plt.ylabel('События');"
   ]
  },
  {
   "cell_type": "markdown",
   "metadata": {},
   "source": [
    "Скорее всего, тест был запущен утром первого числа августа, так как за этот период резко возрастает количество событий - с 2000 до 10.000. "
   ]
  },
  {
   "cell_type": "markdown",
   "metadata": {},
   "source": [
    "Отбросим данные, которые содержат информацию о событиях до 2019-08-01."
   ]
  },
  {
   "cell_type": "code",
   "execution_count": 20,
   "metadata": {},
   "outputs": [
    {
     "data": {
      "image/png": "[encoded data removed]",
      "text/plain": [
       "<Figure size 1080x432 with 1 Axes>"
      ]
     },
     "metadata": {
      "needs_background": "light"
     },
     "output_type": "display_data"
    }
   ],
   "source": [
    "new_data = data.query('date > \"2019-07-31\"')\n",
    "new_data['time'].hist(bins=100, figsize=(15,6))\n",
    "plt.title('Количество событий')\n",
    "plt.xticks(rotation=45) \n",
    "plt.xlabel('Дата')\n",
    "plt.ylabel('События');"
   ]
  },
  {
   "cell_type": "markdown",
   "metadata": {},
   "source": [
    "На этой гистограмме наглядно видно, что большая часть данных собрана днем - утром и ночью (края графиков) данных меньше."
   ]
  },
  {
   "cell_type": "markdown",
   "metadata": {},
   "source": [
    "Количество событий держится на высоком уровне для каждой даты - в среднем около отметки в 35.000. Посмотрим, сколько событий происходило до этой даты."
   ]
  },
  {
   "cell_type": "code",
   "execution_count": 21,
   "metadata": {},
   "outputs": [
    {
     "data": {
      "image/png": "[encoded data removed]",
      "text/plain": [
       "<Figure size 1080x432 with 1 Axes>"
      ]
     },
     "metadata": {
      "needs_background": "light"
     },
     "output_type": "display_data"
    }
   ],
   "source": [
    "old_data = data.query('date <= \"2019-07-31\"')\n",
    "old_data['date'].hist(bins=7, figsize=(15,6))\n",
    "plt.title('Количество событий')\n",
    "plt.xticks(rotation=45) \n",
    "plt.xlabel('Дата')\n",
    "plt.ylabel('События');"
   ]
  },
  {
   "cell_type": "code",
   "execution_count": 22,
   "metadata": {},
   "outputs": [
    {
     "data": {
      "text/plain": [
       "date\n",
       "2019-07-25       9\n",
       "2019-07-26      31\n",
       "2019-07-27      55\n",
       "2019-07-28     105\n",
       "2019-07-29     184\n",
       "2019-07-30     412\n",
       "2019-07-31    2030\n",
       "Name: event, dtype: int64"
      ]
     },
     "execution_count": 22,
     "metadata": {},
     "output_type": "execute_result"
    }
   ],
   "source": [
    "events_per_day = old_data.groupby('date')['event'].count()\n",
    "events_per_day"
   ]
  },
  {
   "cell_type": "markdown",
   "metadata": {},
   "source": [
    "Самое большое количество событий пришлось на последний день - 2000 за день. Это лишь 6% от среднего количества в следующем месяце, поэтому данные в июле можно отбросить."
   ]
  },
  {
   "cell_type": "markdown",
   "metadata": {},
   "source": [
    "<a id='section_id33'></a>\n",
    "### Фильтрация данных"
   ]
  },
  {
   "cell_type": "code",
   "execution_count": 78,
   "metadata": {},
   "outputs": [
    {
     "name": "stdout",
     "output_type": "stream",
     "text": [
      "Потерянные данные в %: 1.1595606307418973\n"
     ]
    }
   ],
   "source": [
    "deleted_data_rate = sum(old_data.groupby('date')['event'].count()) * 100 / sum(data.groupby('date')['event'].count())\n",
    "print(f'Потерянные данные в %: {deleted_data_rate}')"
   ]
  },
  {
   "cell_type": "markdown",
   "metadata": {},
   "source": [
    "Процент потерянных данных после того, как были отброшены старые, невысок - около 1%."
   ]
  },
  {
   "cell_type": "markdown",
   "metadata": {},
   "source": [
    "Проверим, что после фильтрации в датафрейме присутствуют пользователи из всех трёх экспериментальных групп."
   ]
  },
  {
   "cell_type": "code",
   "execution_count": 24,
   "metadata": {},
   "outputs": [
    {
     "data": {
      "text/plain": [
       "groupId\n",
       "246    2484\n",
       "247    2513\n",
       "248    2537\n",
       "Name: userId, dtype: int64"
      ]
     },
     "execution_count": 24,
     "metadata": {},
     "output_type": "execute_result"
    }
   ],
   "source": [
    "new_data_users = new_data.groupby('groupId')['userId'].nunique()\n",
    "new_data_users"
   ]
  },
  {
   "cell_type": "code",
   "execution_count": 25,
   "metadata": {},
   "outputs": [
    {
     "data": {
      "text/plain": [
       "groupId\n",
       "246    2489\n",
       "247    2520\n",
       "248    2542\n",
       "Name: userId, dtype: int64"
      ]
     },
     "execution_count": 25,
     "metadata": {},
     "output_type": "execute_result"
    }
   ],
   "source": [
    "old_data_users = data.groupby('groupId')['userId'].nunique()\n",
    "old_data_users"
   ]
  },
  {
   "cell_type": "markdown",
   "metadata": {},
   "source": [
    "По сгруппированным данным видно, что пользователи остались в группах в таких же пропорциях, как в оригинальном датафрейме. Посчитаем долю удаленных пользователей по группам."
   ]
  },
  {
   "cell_type": "code",
   "execution_count": 26,
   "metadata": {},
   "outputs": [
    {
     "data": {
      "text/plain": [
       "groupId\n",
       "246    0.200884\n",
       "247    0.277778\n",
       "248    0.196696\n",
       "Name: userId, dtype: float64"
      ]
     },
     "execution_count": 26,
     "metadata": {},
     "output_type": "execute_result"
    }
   ],
   "source": [
    "deleted_users_rate = (old_data_users - new_data_users) * 100 / old_data_users\n",
    "deleted_users_rate"
   ]
  },
  {
   "cell_type": "markdown",
   "metadata": {},
   "source": [
    "После фильтрации данных в каждой группе убавилось меньше полпроцента пользователей - можно идти дальше."
   ]
  },
  {
   "cell_type": "markdown",
   "metadata": {},
   "source": [
    "<a id='section_id4'></a>\n",
    "## Изучение воронки событий"
   ]
  },
  {
   "cell_type": "markdown",
   "metadata": {},
   "source": [
    "<a id='section_id41'></a>\n",
    "### Самые популярные события"
   ]
  },
  {
   "cell_type": "code",
   "execution_count": 27,
   "metadata": {
    "scrolled": false
   },
   "outputs": [
    {
     "data": {
      "text/plain": [
       "MainScreenAppear           117328\n",
       "OffersScreenAppear          46333\n",
       "CartScreenAppear            42303\n",
       "PaymentScreenSuccessful     33918\n",
       "Tutorial                     1005\n",
       "Name: event, dtype: int64"
      ]
     },
     "execution_count": 27,
     "metadata": {},
     "output_type": "execute_result"
    }
   ],
   "source": [
    "events_freq = new_data['event'].value_counts().sort_values(ascending=False)\n",
    "events_freq"
   ]
  },
  {
   "cell_type": "code",
   "execution_count": 79,
   "metadata": {},
   "outputs": [
    {
     "data": {
      "image/png": "[encoded data removed]",
      "text/plain": [
       "<Figure size 1080x432 with 1 Axes>"
      ]
     },
     "metadata": {
      "needs_background": "light"
     },
     "output_type": "display_data"
    }
   ],
   "source": [
    "events_freq.plot(kind='bar', figsize=(15,6))\n",
    "plt.title('Самые популярные события')\n",
    "plt.xticks(rotation=30) \n",
    "plt.xlabel('События')\n",
    "plt.ylabel('Частота');"
   ]
  },
  {
   "cell_type": "markdown",
   "metadata": {},
   "source": [
    "Самое часто встречающееся событие, ожидаемо, попадание на страницу главного экрана (около половины всех событий). Реже пользователи попадают на экран с предложением товара и корзиной (это около 20% и 18%  от всех событий на каждое соответственно), еще меньше пользователей доходят до страницы с успешной оплатой (около 15%) и только 1000 (менее 1%) пользователей попадали на страницу с обучением."
   ]
  },
  {
   "cell_type": "markdown",
   "metadata": {},
   "source": [
    "<a id='section_id42'></a>\n",
    "### Количество пользователей на каждое событие"
   ]
  },
  {
   "cell_type": "code",
   "execution_count": 84,
   "metadata": {},
   "outputs": [
    {
     "data": {
      "text/html": [
       "<div>\n",
       "<style scoped>\n",
       "    .dataframe tbody tr th:only-of-type {\n",
       "        vertical-align: middle;\n",
       "    }\n",
       "\n",
       "    .dataframe tbody tr th {\n",
       "        vertical-align: top;\n",
       "    }\n",
       "\n",
       "    .dataframe thead th {\n",
       "        text-align: right;\n",
       "    }\n",
       "</style>\n",
       "<table border=\"1\" class=\"dataframe\">\n",
       "  <thead>\n",
       "    <tr style=\"text-align: right;\">\n",
       "      <th></th>\n",
       "      <th>userId</th>\n",
       "      <th>rate</th>\n",
       "      <th>%</th>\n",
       "    </tr>\n",
       "    <tr>\n",
       "      <th>event</th>\n",
       "      <th></th>\n",
       "      <th></th>\n",
       "      <th></th>\n",
       "    </tr>\n",
       "  </thead>\n",
       "  <tbody>\n",
       "    <tr>\n",
       "      <th>MainScreenAppear</th>\n",
       "      <td>7419</td>\n",
       "      <td>0.98</td>\n",
       "      <td>98.47</td>\n",
       "    </tr>\n",
       "    <tr>\n",
       "      <th>OffersScreenAppear</th>\n",
       "      <td>4593</td>\n",
       "      <td>0.61</td>\n",
       "      <td>60.96</td>\n",
       "    </tr>\n",
       "    <tr>\n",
       "      <th>CartScreenAppear</th>\n",
       "      <td>3734</td>\n",
       "      <td>0.50</td>\n",
       "      <td>49.56</td>\n",
       "    </tr>\n",
       "    <tr>\n",
       "      <th>PaymentScreenSuccessful</th>\n",
       "      <td>3539</td>\n",
       "      <td>0.47</td>\n",
       "      <td>46.97</td>\n",
       "    </tr>\n",
       "    <tr>\n",
       "      <th>Tutorial</th>\n",
       "      <td>840</td>\n",
       "      <td>0.11</td>\n",
       "      <td>11.15</td>\n",
       "    </tr>\n",
       "  </tbody>\n",
       "</table>\n",
       "</div>"
      ],
      "text/plain": [
       "                         userId  rate      %\n",
       "event                                       \n",
       "MainScreenAppear           7419  0.98  98.47\n",
       "OffersScreenAppear         4593  0.61  60.96\n",
       "CartScreenAppear           3734  0.50  49.56\n",
       "PaymentScreenSuccessful    3539  0.47  46.97\n",
       "Tutorial                    840  0.11  11.15"
      ]
     },
     "execution_count": 84,
     "metadata": {},
     "output_type": "execute_result"
    }
   ],
   "source": [
    "pt_data = (new_data\n",
    "           .pivot_table(values='userId', index='event', aggfunc='nunique')\n",
    "           .sort_values(by='userId', ascending=False))\n",
    "\n",
    "pt_data['rate'] = round(pt_data['userId'] / len(new_data['userId'].unique()), 2)\n",
    "pt_data['%'] = round(pt_data['userId'] * 100 / len(new_data['userId'].unique()), 2)\n",
    "pt_data"
   ]
  },
  {
   "cell_type": "markdown",
   "metadata": {},
   "source": [
    "Как и ожидалось, почти все пользователи попадают на главную страницу - это 98.5% пользователей. 61% пользователей переходят на страницу с предложением (товаром), 50% доходят до карзины, 46% ее оплачивают. Также 11% пользователей видят страницу с обучением. \n",
    "\n",
    "Предположительно в таком порядке и происходит воронка продаж: главная страница -> страница с предложением -> страница с корзиной -> страница с подтверждением оплаты. \n",
    "\n",
    "Десятая часть пользователей также проходит обучение, однако оно не является частью воронки, это опциональный шаг."
   ]
  },
  {
   "cell_type": "markdown",
   "metadata": {},
   "source": [
    "<a id='section_id43'></a>\n",
    "### Воронка продаж"
   ]
  },
  {
   "cell_type": "code",
   "execution_count": 85,
   "metadata": {},
   "outputs": [],
   "source": [
    "pt_data['clients'] = round(pt_data['userId'] * 100 / pt_data['userId'].shift(), 2).fillna('100')"
   ]
  },
  {
   "cell_type": "code",
   "execution_count": 86,
   "metadata": {},
   "outputs": [
    {
     "data": {
      "text/html": [
       "<div>\n",
       "<style scoped>\n",
       "    .dataframe tbody tr th:only-of-type {\n",
       "        vertical-align: middle;\n",
       "    }\n",
       "\n",
       "    .dataframe tbody tr th {\n",
       "        vertical-align: top;\n",
       "    }\n",
       "\n",
       "    .dataframe thead th {\n",
       "        text-align: right;\n",
       "    }\n",
       "</style>\n",
       "<table border=\"1\" class=\"dataframe\">\n",
       "  <thead>\n",
       "    <tr style=\"text-align: right;\">\n",
       "      <th></th>\n",
       "      <th>userId</th>\n",
       "      <th>rate</th>\n",
       "      <th>%</th>\n",
       "      <th>clients</th>\n",
       "    </tr>\n",
       "    <tr>\n",
       "      <th>event</th>\n",
       "      <th></th>\n",
       "      <th></th>\n",
       "      <th></th>\n",
       "      <th></th>\n",
       "    </tr>\n",
       "  </thead>\n",
       "  <tbody>\n",
       "    <tr>\n",
       "      <th>MainScreenAppear</th>\n",
       "      <td>7419</td>\n",
       "      <td>0.98</td>\n",
       "      <td>98.47</td>\n",
       "      <td>100</td>\n",
       "    </tr>\n",
       "    <tr>\n",
       "      <th>OffersScreenAppear</th>\n",
       "      <td>4593</td>\n",
       "      <td>0.61</td>\n",
       "      <td>60.96</td>\n",
       "      <td>61.91</td>\n",
       "    </tr>\n",
       "    <tr>\n",
       "      <th>CartScreenAppear</th>\n",
       "      <td>3734</td>\n",
       "      <td>0.50</td>\n",
       "      <td>49.56</td>\n",
       "      <td>81.3</td>\n",
       "    </tr>\n",
       "    <tr>\n",
       "      <th>PaymentScreenSuccessful</th>\n",
       "      <td>3539</td>\n",
       "      <td>0.47</td>\n",
       "      <td>46.97</td>\n",
       "      <td>94.78</td>\n",
       "    </tr>\n",
       "  </tbody>\n",
       "</table>\n",
       "</div>"
      ],
      "text/plain": [
       "                         userId  rate      % clients\n",
       "event                                               \n",
       "MainScreenAppear           7419  0.98  98.47     100\n",
       "OffersScreenAppear         4593  0.61  60.96   61.91\n",
       "CartScreenAppear           3734  0.50  49.56    81.3\n",
       "PaymentScreenSuccessful    3539  0.47  46.97   94.78"
      ]
     },
     "execution_count": 86,
     "metadata": {},
     "output_type": "execute_result"
    }
   ],
   "source": [
    "pt_data[:4]"
   ]
  },
  {
   "cell_type": "markdown",
   "metadata": {},
   "source": [
    "На шаг с предложением товара после главной страницы переходит 62% пользователей, далее со страницы с товаром на страницу с корзиной переходит 81% пользователей, откуда 95% оставшихся доходят до корзины. "
   ]
  },
  {
   "cell_type": "markdown",
   "metadata": {},
   "source": [
    "Добавим визуализацию воронки продаж."
   ]
  },
  {
   "cell_type": "code",
   "execution_count": 90,
   "metadata": {},
   "outputs": [
    {
     "data": {
      "application/vnd.plotly.v1+json": {
       "config": {
        "plotlyServerURL": "https://plot.ly"
       },
       "data": [
        {
         "hoverinfo": "percent initial+percent previous",
         "textinfo": "value+percent previous+percent initial",
         "type": "funnel",
         "x": [
          7419,
          4593,
          3734,
          3539
         ],
         "y": [
          "MainScreenAppear",
          "OffersScreenAppear",
          "CartScreenAppear",
          "PaymentScreenSuccessful"
         ]
        }
       ],
       "layout": {
        "template": {
         "data": {
          "bar": [
           {
            "error_x": {
             "color": "#2a3f5f"
            },
            "error_y": {
             "color": "#2a3f5f"
            },
            "marker": {
             "line": {
              "color": "#E5ECF6",
              "width": 0.5
             },
             "pattern": {
              "fillmode": "overlay",
              "size": 10,
              "solidity": 0.2
             }
            },
            "type": "bar"
           }
          ],
          "barpolar": [
           {
            "marker": {
             "line": {
              "color": "#E5ECF6",
              "width": 0.5
             },
             "pattern": {
              "fillmode": "overlay",
              "size": 10,
              "solidity": 0.2
             }
            },
            "type": "barpolar"
           }
          ],
          "carpet": [
           {
            "aaxis": {
             "endlinecolor": "#2a3f5f",
             "gridcolor": "white",
             "linecolor": "white",
             "minorgridcolor": "white",
             "startlinecolor": "#2a3f5f"
            },
            "baxis": {
             "endlinecolor": "#2a3f5f",
             "gridcolor": "white",
             "linecolor": "white",
             "minorgridcolor": "white",
             "startlinecolor": "#2a3f5f"
            },
            "type": "carpet"
           }
          ],
          "choropleth": [
           {
            "colorbar": {
             "outlinewidth": 0,
             "ticks": ""
            },
            "type": "choropleth"
           }
          ],
          "contour": [
           {
            "colorbar": {
             "outlinewidth": 0,
             "ticks": ""
            },
            "colorscale": [
             [
              0,
              "#0d0887"
             ],
             [
              0.1111111111111111,
              "#46039f"
             ],
             [
              0.2222222222222222,
              "#7201a8"
             ],
             [
              0.3333333333333333,
              "#9c179e"
             ],
             [
              0.4444444444444444,
              "#bd3786"
             ],
             [
              0.5555555555555556,
              "#d8576b"
             ],
             [
              0.6666666666666666,
              "#ed7953"
             ],
             [
              0.7777777777777778,
              "#fb9f3a"
             ],
             [
              0.8888888888888888,
              "#fdca26"
             ],
             [
              1,
              "#f0f921"
             ]
            ],
            "type": "contour"
           }
          ],
          "contourcarpet": [
           {
            "colorbar": {
             "outlinewidth": 0,
             "ticks": ""
            },
            "type": "contourcarpet"
           }
          ],
          "heatmap": [
           {
            "colorbar": {
             "outlinewidth": 0,
             "ticks": ""
            },
            "colorscale": [
             [
              0,
              "#0d0887"
             ],
             [
              0.1111111111111111,
              "#46039f"
             ],
             [
              0.2222222222222222,
              "#7201a8"
             ],
             [
              0.3333333333333333,
              "#9c179e"
             ],
             [
              0.4444444444444444,
              "#bd3786"
             ],
             [
              0.5555555555555556,
              "#d8576b"
             ],
             [
              0.6666666666666666,
              "#ed7953"
             ],
             [
              0.7777777777777778,
              "#fb9f3a"
             ],
             [
              0.8888888888888888,
              "#fdca26"
             ],
             [
              1,
              "#f0f921"
             ]
            ],
            "type": "heatmap"
           }
          ],
          "heatmapgl": [
           {
            "colorbar": {
             "outlinewidth": 0,
             "ticks": ""
            },
            "colorscale": [
             [
              0,
              "#0d0887"
             ],
             [
              0.1111111111111111,
              "#46039f"
             ],
             [
              0.2222222222222222,
              "#7201a8"
             ],
             [
              0.3333333333333333,
              "#9c179e"
             ],
             [
              0.4444444444444444,
              "#bd3786"
             ],
             [
              0.5555555555555556,
              "#d8576b"
             ],
             [
              0.6666666666666666,
              "#ed7953"
             ],
             [
              0.7777777777777778,
              "#fb9f3a"
             ],
             [
              0.8888888888888888,
              "#fdca26"
             ],
             [
              1,
              "#f0f921"
             ]
            ],
            "type": "heatmapgl"
           }
          ],
          "histogram": [
           {
            "marker": {
             "pattern": {
              "fillmode": "overlay",
              "size": 10,
              "solidity": 0.2
             }
            },
            "type": "histogram"
           }
          ],
          "histogram2d": [
           {
            "colorbar": {
             "outlinewidth": 0,
             "ticks": ""
            },
            "colorscale": [
             [
              0,
              "#0d0887"
             ],
             [
              0.1111111111111111,
              "#46039f"
             ],
             [
              0.2222222222222222,
              "#7201a8"
             ],
             [
              0.3333333333333333,
              "#9c179e"
             ],
             [
              0.4444444444444444,
              "#bd3786"
             ],
             [
              0.5555555555555556,
              "#d8576b"
             ],
             [
              0.6666666666666666,
              "#ed7953"
             ],
             [
              0.7777777777777778,
              "#fb9f3a"
             ],
             [
              0.8888888888888888,
              "#fdca26"
             ],
             [
              1,
              "#f0f921"
             ]
            ],
            "type": "histogram2d"
           }
          ],
          "histogram2dcontour": [
           {
            "colorbar": {
             "outlinewidth": 0,
             "ticks": ""
            },
            "colorscale": [
             [
              0,
              "#0d0887"
             ],
             [
              0.1111111111111111,
              "#46039f"
             ],
             [
              0.2222222222222222,
              "#7201a8"
             ],
             [
              0.3333333333333333,
              "#9c179e"
             ],
             [
              0.4444444444444444,
              "#bd3786"
             ],
             [
              0.5555555555555556,
              "#d8576b"
             ],
             [
              0.6666666666666666,
              "#ed7953"
             ],
             [
              0.7777777777777778,
              "#fb9f3a"
             ],
             [
              0.8888888888888888,
              "#fdca26"
             ],
             [
              1,
              "#f0f921"
             ]
            ],
            "type": "histogram2dcontour"
           }
          ],
          "mesh3d": [
           {
            "colorbar": {
             "outlinewidth": 0,
             "ticks": ""
            },
            "type": "mesh3d"
           }
          ],
          "parcoords": [
           {
            "line": {
             "colorbar": {
              "outlinewidth": 0,
              "ticks": ""
             }
            },
            "type": "parcoords"
           }
          ],
          "pie": [
           {
            "automargin": true,
            "type": "pie"
           }
          ],
          "scatter": [
           {
            "marker": {
             "colorbar": {
              "outlinewidth": 0,
              "ticks": ""
             }
            },
            "type": "scatter"
           }
          ],
          "scatter3d": [
           {
            "line": {
             "colorbar": {
              "outlinewidth": 0,
              "ticks": ""
             }
            },
            "marker": {
             "colorbar": {
              "outlinewidth": 0,
              "ticks": ""
             }
            },
            "type": "scatter3d"
           }
          ],
          "scattercarpet": [
           {
            "marker": {
             "colorbar": {
              "outlinewidth": 0,
              "ticks": ""
             }
            },
            "type": "scattercarpet"
           }
          ],
          "scattergeo": [
           {
            "marker": {
             "colorbar": {
              "outlinewidth": 0,
              "ticks": ""
             }
            },
            "type": "scattergeo"
           }
          ],
          "scattergl": [
           {
            "marker": {
             "colorbar": {
              "outlinewidth": 0,
              "ticks": ""
             }
            },
            "type": "scattergl"
           }
          ],
          "scattermapbox": [
           {
            "marker": {
             "colorbar": {
              "outlinewidth": 0,
              "ticks": ""
             }
            },
            "type": "scattermapbox"
           }
          ],
          "scatterpolar": [
           {
            "marker": {
             "colorbar": {
              "outlinewidth": 0,
              "ticks": ""
             }
            },
            "type": "scatterpolar"
           }
          ],
          "scatterpolargl": [
           {
            "marker": {
             "colorbar": {
              "outlinewidth": 0,
              "ticks": ""
             }
            },
            "type": "scatterpolargl"
           }
          ],
          "scatterternary": [
           {
            "marker": {
             "colorbar": {
              "outlinewidth": 0,
              "ticks": ""
             }
            },
            "type": "scatterternary"
           }
          ],
          "surface": [
           {
            "colorbar": {
             "outlinewidth": 0,
             "ticks": ""
            },
            "colorscale": [
             [
              0,
              "#0d0887"
             ],
             [
              0.1111111111111111,
              "#46039f"
             ],
             [
              0.2222222222222222,
              "#7201a8"
             ],
             [
              0.3333333333333333,
              "#9c179e"
             ],
             [
              0.4444444444444444,
              "#bd3786"
             ],
             [
              0.5555555555555556,
              "#d8576b"
             ],
             [
              0.6666666666666666,
              "#ed7953"
             ],
             [
              0.7777777777777778,
              "#fb9f3a"
             ],
             [
              0.8888888888888888,
              "#fdca26"
             ],
             [
              1,
              "#f0f921"
             ]
            ],
            "type": "surface"
           }
          ],
          "table": [
           {
            "cells": {
             "fill": {
              "color": "#EBF0F8"
             },
             "line": {
              "color": "white"
             }
            },
            "header": {
             "fill": {
              "color": "#C8D4E3"
             },
             "line": {
              "color": "white"
             }
            },
            "type": "table"
           }
          ]
         },
         "layout": {
          "annotationdefaults": {
           "arrowcolor": "#2a3f5f",
           "arrowhead": 0,
           "arrowwidth": 1
          },
          "autotypenumbers": "strict",
          "coloraxis": {
           "colorbar": {
            "outlinewidth": 0,
            "ticks": ""
           }
          },
          "colorscale": {
           "diverging": [
            [
             0,
             "#8e0152"
            ],
            [
             0.1,
             "#c51b7d"
            ],
            [
             0.2,
             "#de77ae"
            ],
            [
             0.3,
             "#f1b6da"
            ],
            [
             0.4,
             "#fde0ef"
            ],
            [
             0.5,
             "#f7f7f7"
            ],
            [
             0.6,
             "#e6f5d0"
            ],
            [
             0.7,
             "#b8e186"
            ],
            [
             0.8,
             "#7fbc41"
            ],
            [
             0.9,
             "#4d9221"
            ],
            [
             1,
             "#276419"
            ]
           ],
           "sequential": [
            [
             0,
             "#0d0887"
            ],
            [
             0.1111111111111111,
             "#46039f"
            ],
            [
             0.2222222222222222,
             "#7201a8"
            ],
            [
             0.3333333333333333,
             "#9c179e"
            ],
            [
             0.4444444444444444,
             "#bd3786"
            ],
            [
             0.5555555555555556,
             "#d8576b"
            ],
            [
             0.6666666666666666,
             "#ed7953"
            ],
            [
             0.7777777777777778,
             "#fb9f3a"
            ],
            [
             0.8888888888888888,
             "#fdca26"
            ],
            [
             1,
             "#f0f921"
            ]
           ],
           "sequentialminus": [
            [
             0,
             "#0d0887"
            ],
            [
             0.1111111111111111,
             "#46039f"
            ],
            [
             0.2222222222222222,
             "#7201a8"
            ],
            [
             0.3333333333333333,
             "#9c179e"
            ],
            [
             0.4444444444444444,
             "#bd3786"
            ],
            [
             0.5555555555555556,
             "#d8576b"
            ],
            [
             0.6666666666666666,
             "#ed7953"
            ],
            [
             0.7777777777777778,
             "#fb9f3a"
            ],
            [
             0.8888888888888888,
             "#fdca26"
            ],
            [
             1,
             "#f0f921"
            ]
           ]
          },
          "colorway": [
           "#636efa",
           "#EF553B",
           "#00cc96",
           "#ab63fa",
           "#FFA15A",
           "#19d3f3",
           "#FF6692",
           "#B6E880",
           "#FF97FF",
           "#FECB52"
          ],
          "font": {
           "color": "#2a3f5f"
          },
          "geo": {
           "bgcolor": "white",
           "lakecolor": "white",
           "landcolor": "#E5ECF6",
           "showlakes": true,
           "showland": true,
           "subunitcolor": "white"
          },
          "hoverlabel": {
           "align": "left"
          },
          "hovermode": "closest",
          "mapbox": {
           "style": "light"
          },
          "paper_bgcolor": "white",
          "plot_bgcolor": "#E5ECF6",
          "polar": {
           "angularaxis": {
            "gridcolor": "white",
            "linecolor": "white",
            "ticks": ""
           },
           "bgcolor": "#E5ECF6",
           "radialaxis": {
            "gridcolor": "white",
            "linecolor": "white",
            "ticks": ""
           }
          },
          "scene": {
           "xaxis": {
            "backgroundcolor": "#E5ECF6",
            "gridcolor": "white",
            "gridwidth": 2,
            "linecolor": "white",
            "showbackground": true,
            "ticks": "",
            "zerolinecolor": "white"
           },
           "yaxis": {
            "backgroundcolor": "#E5ECF6",
            "gridcolor": "white",
            "gridwidth": 2,
            "linecolor": "white",
            "showbackground": true,
            "ticks": "",
            "zerolinecolor": "white"
           },
           "zaxis": {
            "backgroundcolor": "#E5ECF6",
            "gridcolor": "white",
            "gridwidth": 2,
            "linecolor": "white",
            "showbackground": true,
            "ticks": "",
            "zerolinecolor": "white"
           }
          },
          "shapedefaults": {
           "line": {
            "color": "#2a3f5f"
           }
          },
          "ternary": {
           "aaxis": {
            "gridcolor": "white",
            "linecolor": "white",
            "ticks": ""
           },
           "baxis": {
            "gridcolor": "white",
            "linecolor": "white",
            "ticks": ""
           },
           "bgcolor": "#E5ECF6",
           "caxis": {
            "gridcolor": "white",
            "linecolor": "white",
            "ticks": ""
           }
          },
          "title": {
           "x": 0.05
          },
          "xaxis": {
           "automargin": true,
           "gridcolor": "white",
           "linecolor": "white",
           "ticks": "",
           "title": {
            "standoff": 15
           },
           "zerolinecolor": "white",
           "zerolinewidth": 2
          },
          "yaxis": {
           "automargin": true,
           "gridcolor": "white",
           "linecolor": "white",
           "ticks": "",
           "title": {
            "standoff": 15
           },
           "zerolinecolor": "white",
           "zerolinewidth": 2
          }
         }
        },
        "title": {
         "text": "Воронка продаж",
         "x": 0.539,
         "xanchor": "center",
         "y": 0.87,
         "yanchor": "top"
        }
       }
      },
      "text/html": [
       "<div>                            <div id=\"8238478c-1fe8-43b6-9c89-fe14a699aede\" class=\"plotly-graph-div\" style=\"height:525px; width:100%;\"></div>            <script type=\"text/javascript\">                require([\"plotly\"], function(Plotly) {                    window.PLOTLYENV=window.PLOTLYENV || {};                                    if (document.getElementById(\"8238478c-1fe8-43b6-9c89-fe14a699aede\")) {                    Plotly.newPlot(                        \"8238478c-1fe8-43b6-9c89-fe14a699aede\",                        [{\"hoverinfo\":\"percent initial+percent previous\",\"textinfo\":\"value+percent previous+percent initial\",\"x\":[7419,4593,3734,3539],\"y\":[\"MainScreenAppear\",\"OffersScreenAppear\",\"CartScreenAppear\",\"PaymentScreenSuccessful\"],\"type\":\"funnel\"}],                        {\"template\":{\"data\":{\"bar\":[{\"error_x\":{\"color\":\"#2a3f5f\"},\"error_y\":{\"color\":\"#2a3f5f\"},\"marker\":{\"line\":{\"color\":\"#E5ECF6\",\"width\":0.5},\"pattern\":{\"fillmode\":\"overlay\",\"size\":10,\"solidity\":0.2}},\"type\":\"bar\"}],\"barpolar\":[{\"marker\":{\"line\":{\"color\":\"#E5ECF6\",\"width\":0.5},\"pattern\":{\"fillmode\":\"overlay\",\"size\":10,\"solidity\":0.2}},\"type\":\"barpolar\"}],\"carpet\":[{\"aaxis\":{\"endlinecolor\":\"#2a3f5f\",\"gridcolor\":\"white\",\"linecolor\":\"white\",\"minorgridcolor\":\"white\",\"startlinecolor\":\"#2a3f5f\"},\"baxis\":{\"endlinecolor\":\"#2a3f5f\",\"gridcolor\":\"white\",\"linecolor\":\"white\",\"minorgridcolor\":\"white\",\"startlinecolor\":\"#2a3f5f\"},\"type\":\"carpet\"}],\"choropleth\":[{\"colorbar\":{\"outlinewidth\":0,\"ticks\":\"\"},\"type\":\"choropleth\"}],\"contour\":[{\"colorbar\":{\"outlinewidth\":0,\"ticks\":\"\"},\"colorscale\":[[0.0,\"#0d0887\"],[0.1111111111111111,\"#46039f\"],[0.2222222222222222,\"#7201a8\"],[0.3333333333333333,\"#9c179e\"],[0.4444444444444444,\"#bd3786\"],[0.5555555555555556,\"#d8576b\"],[0.6666666666666666,\"#ed7953\"],[0.7777777777777778,\"#fb9f3a\"],[0.8888888888888888,\"#fdca26\"],[1.0,\"#f0f921\"]],\"type\":\"contour\"}],\"contourcarpet\":[{\"colorbar\":{\"outlinewidth\":0,\"ticks\":\"\"},\"type\":\"contourcarpet\"}],\"heatmap\":[{\"colorbar\":{\"outlinewidth\":0,\"ticks\":\"\"},\"colorscale\":[[0.0,\"#0d0887\"],[0.1111111111111111,\"#46039f\"],[0.2222222222222222,\"#7201a8\"],[0.3333333333333333,\"#9c179e\"],[0.4444444444444444,\"#bd3786\"],[0.5555555555555556,\"#d8576b\"],[0.6666666666666666,\"#ed7953\"],[0.7777777777777778,\"#fb9f3a\"],[0.8888888888888888,\"#fdca26\"],[1.0,\"#f0f921\"]],\"type\":\"heatmap\"}],\"heatmapgl\":[{\"colorbar\":{\"outlinewidth\":0,\"ticks\":\"\"},\"colorscale\":[[0.0,\"#0d0887\"],[0.1111111111111111,\"#46039f\"],[0.2222222222222222,\"#7201a8\"],[0.3333333333333333,\"#9c179e\"],[0.4444444444444444,\"#bd3786\"],[0.5555555555555556,\"#d8576b\"],[0.6666666666666666,\"#ed7953\"],[0.7777777777777778,\"#fb9f3a\"],[0.8888888888888888,\"#fdca26\"],[1.0,\"#f0f921\"]],\"type\":\"heatmapgl\"}],\"histogram\":[{\"marker\":{\"pattern\":{\"fillmode\":\"overlay\",\"size\":10,\"solidity\":0.2}},\"type\":\"histogram\"}],\"histogram2d\":[{\"colorbar\":{\"outlinewidth\":0,\"ticks\":\"\"},\"colorscale\":[[0.0,\"#0d0887\"],[0.1111111111111111,\"#46039f\"],[0.2222222222222222,\"#7201a8\"],[0.3333333333333333,\"#9c179e\"],[0.4444444444444444,\"#bd3786\"],[0.5555555555555556,\"#d8576b\"],[0.6666666666666666,\"#ed7953\"],[0.7777777777777778,\"#fb9f3a\"],[0.8888888888888888,\"#fdca26\"],[1.0,\"#f0f921\"]],\"type\":\"histogram2d\"}],\"histogram2dcontour\":[{\"colorbar\":{\"outlinewidth\":0,\"ticks\":\"\"},\"colorscale\":[[0.0,\"#0d0887\"],[0.1111111111111111,\"#46039f\"],[0.2222222222222222,\"#7201a8\"],[0.3333333333333333,\"#9c179e\"],[0.4444444444444444,\"#bd3786\"],[0.5555555555555556,\"#d8576b\"],[0.6666666666666666,\"#ed7953\"],[0.7777777777777778,\"#fb9f3a\"],[0.8888888888888888,\"#fdca26\"],[1.0,\"#f0f921\"]],\"type\":\"histogram2dcontour\"}],\"mesh3d\":[{\"colorbar\":{\"outlinewidth\":0,\"ticks\":\"\"},\"type\":\"mesh3d\"}],\"parcoords\":[{\"line\":{\"colorbar\":{\"outlinewidth\":0,\"ticks\":\"\"}},\"type\":\"parcoords\"}],\"pie\":[{\"automargin\":true,\"type\":\"pie\"}],\"scatter\":[{\"marker\":{\"colorbar\":{\"outlinewidth\":0,\"ticks\":\"\"}},\"type\":\"scatter\"}],\"scatter3d\":[{\"line\":{\"colorbar\":{\"outlinewidth\":0,\"ticks\":\"\"}},\"marker\":{\"colorbar\":{\"outlinewidth\":0,\"ticks\":\"\"}},\"type\":\"scatter3d\"}],\"scattercarpet\":[{\"marker\":{\"colorbar\":{\"outlinewidth\":0,\"ticks\":\"\"}},\"type\":\"scattercarpet\"}],\"scattergeo\":[{\"marker\":{\"colorbar\":{\"outlinewidth\":0,\"ticks\":\"\"}},\"type\":\"scattergeo\"}],\"scattergl\":[{\"marker\":{\"colorbar\":{\"outlinewidth\":0,\"ticks\":\"\"}},\"type\":\"scattergl\"}],\"scattermapbox\":[{\"marker\":{\"colorbar\":{\"outlinewidth\":0,\"ticks\":\"\"}},\"type\":\"scattermapbox\"}],\"scatterpolar\":[{\"marker\":{\"colorbar\":{\"outlinewidth\":0,\"ticks\":\"\"}},\"type\":\"scatterpolar\"}],\"scatterpolargl\":[{\"marker\":{\"colorbar\":{\"outlinewidth\":0,\"ticks\":\"\"}},\"type\":\"scatterpolargl\"}],\"scatterternary\":[{\"marker\":{\"colorbar\":{\"outlinewidth\":0,\"ticks\":\"\"}},\"type\":\"scatterternary\"}],\"surface\":[{\"colorbar\":{\"outlinewidth\":0,\"ticks\":\"\"},\"colorscale\":[[0.0,\"#0d0887\"],[0.1111111111111111,\"#46039f\"],[0.2222222222222222,\"#7201a8\"],[0.3333333333333333,\"#9c179e\"],[0.4444444444444444,\"#bd3786\"],[0.5555555555555556,\"#d8576b\"],[0.6666666666666666,\"#ed7953\"],[0.7777777777777778,\"#fb9f3a\"],[0.8888888888888888,\"#fdca26\"],[1.0,\"#f0f921\"]],\"type\":\"surface\"}],\"table\":[{\"cells\":{\"fill\":{\"color\":\"#EBF0F8\"},\"line\":{\"color\":\"white\"}},\"header\":{\"fill\":{\"color\":\"#C8D4E3\"},\"line\":{\"color\":\"white\"}},\"type\":\"table\"}]},\"layout\":{\"annotationdefaults\":{\"arrowcolor\":\"#2a3f5f\",\"arrowhead\":0,\"arrowwidth\":1},\"autotypenumbers\":\"strict\",\"coloraxis\":{\"colorbar\":{\"outlinewidth\":0,\"ticks\":\"\"}},\"colorscale\":{\"diverging\":[[0,\"#8e0152\"],[0.1,\"#c51b7d\"],[0.2,\"#de77ae\"],[0.3,\"#f1b6da\"],[0.4,\"#fde0ef\"],[0.5,\"#f7f7f7\"],[0.6,\"#e6f5d0\"],[0.7,\"#b8e186\"],[0.8,\"#7fbc41\"],[0.9,\"#4d9221\"],[1,\"#276419\"]],\"sequential\":[[0.0,\"#0d0887\"],[0.1111111111111111,\"#46039f\"],[0.2222222222222222,\"#7201a8\"],[0.3333333333333333,\"#9c179e\"],[0.4444444444444444,\"#bd3786\"],[0.5555555555555556,\"#d8576b\"],[0.6666666666666666,\"#ed7953\"],[0.7777777777777778,\"#fb9f3a\"],[0.8888888888888888,\"#fdca26\"],[1.0,\"#f0f921\"]],\"sequentialminus\":[[0.0,\"#0d0887\"],[0.1111111111111111,\"#46039f\"],[0.2222222222222222,\"#7201a8\"],[0.3333333333333333,\"#9c179e\"],[0.4444444444444444,\"#bd3786\"],[0.5555555555555556,\"#d8576b\"],[0.6666666666666666,\"#ed7953\"],[0.7777777777777778,\"#fb9f3a\"],[0.8888888888888888,\"#fdca26\"],[1.0,\"#f0f921\"]]},\"colorway\":[\"#636efa\",\"#EF553B\",\"#00cc96\",\"#ab63fa\",\"#FFA15A\",\"#19d3f3\",\"#FF6692\",\"#B6E880\",\"#FF97FF\",\"#FECB52\"],\"font\":{\"color\":\"#2a3f5f\"},\"geo\":{\"bgcolor\":\"white\",\"lakecolor\":\"white\",\"landcolor\":\"#E5ECF6\",\"showlakes\":true,\"showland\":true,\"subunitcolor\":\"white\"},\"hoverlabel\":{\"align\":\"left\"},\"hovermode\":\"closest\",\"mapbox\":{\"style\":\"light\"},\"paper_bgcolor\":\"white\",\"plot_bgcolor\":\"#E5ECF6\",\"polar\":{\"angularaxis\":{\"gridcolor\":\"white\",\"linecolor\":\"white\",\"ticks\":\"\"},\"bgcolor\":\"#E5ECF6\",\"radialaxis\":{\"gridcolor\":\"white\",\"linecolor\":\"white\",\"ticks\":\"\"}},\"scene\":{\"xaxis\":{\"backgroundcolor\":\"#E5ECF6\",\"gridcolor\":\"white\",\"gridwidth\":2,\"linecolor\":\"white\",\"showbackground\":true,\"ticks\":\"\",\"zerolinecolor\":\"white\"},\"yaxis\":{\"backgroundcolor\":\"#E5ECF6\",\"gridcolor\":\"white\",\"gridwidth\":2,\"linecolor\":\"white\",\"showbackground\":true,\"ticks\":\"\",\"zerolinecolor\":\"white\"},\"zaxis\":{\"backgroundcolor\":\"#E5ECF6\",\"gridcolor\":\"white\",\"gridwidth\":2,\"linecolor\":\"white\",\"showbackground\":true,\"ticks\":\"\",\"zerolinecolor\":\"white\"}},\"shapedefaults\":{\"line\":{\"color\":\"#2a3f5f\"}},\"ternary\":{\"aaxis\":{\"gridcolor\":\"white\",\"linecolor\":\"white\",\"ticks\":\"\"},\"baxis\":{\"gridcolor\":\"white\",\"linecolor\":\"white\",\"ticks\":\"\"},\"bgcolor\":\"#E5ECF6\",\"caxis\":{\"gridcolor\":\"white\",\"linecolor\":\"white\",\"ticks\":\"\"}},\"title\":{\"x\":0.05},\"xaxis\":{\"automargin\":true,\"gridcolor\":\"white\",\"linecolor\":\"white\",\"ticks\":\"\",\"title\":{\"standoff\":15},\"zerolinecolor\":\"white\",\"zerolinewidth\":2},\"yaxis\":{\"automargin\":true,\"gridcolor\":\"white\",\"linecolor\":\"white\",\"ticks\":\"\",\"title\":{\"standoff\":15},\"zerolinecolor\":\"white\",\"zerolinewidth\":2}}},\"title\":{\"text\":\"\\u0412\\u043e\\u0440\\u043e\\u043d\\u043a\\u0430 \\u043f\\u0440\\u043e\\u0434\\u0430\\u0436\",\"y\":0.87,\"x\":0.539,\"xanchor\":\"center\",\"yanchor\":\"top\"}},                        {\"responsive\": true}                    ).then(function(){\n",
       "                            \n",
       "var gd = document.getElementById('8238478c-1fe8-43b6-9c89-fe14a699aede');\n",
       "var x = new MutationObserver(function (mutations, observer) {{\n",
       "        var display = window.getComputedStyle(gd).display;\n",
       "        if (!display || display === 'none') {{\n",
       "            console.log([gd, 'removed!']);\n",
       "            Plotly.purge(gd);\n",
       "            observer.disconnect();\n",
       "        }}\n",
       "}});\n",
       "\n",
       "// Listen for the removal of the full notebook cells\n",
       "var notebookContainer = gd.closest('#notebook-container');\n",
       "if (notebookContainer) {{\n",
       "    x.observe(notebookContainer, {childList: true});\n",
       "}}\n",
       "\n",
       "// Listen for the clearing of the current output cell\n",
       "var outputEl = gd.closest('.output');\n",
       "if (outputEl) {{\n",
       "    x.observe(outputEl, {childList: true});\n",
       "}}\n",
       "\n",
       "                        })                };                });            </script>        </div>"
      ]
     },
     "metadata": {},
     "output_type": "display_data"
    }
   ],
   "source": [
    "fig = go.Figure()\n",
    "fig = go.Figure(go.Funnel(\n",
    "    y = pt_data[:4].reset_index()['event'],\n",
    "    x = pt_data[:4].reset_index()['userId'],\n",
    "    textinfo = \"value+percent previous + percent initial\",\n",
    "    hoverinfo = \"percent initial+percent previous\")\n",
    "    )\n",
    "\n",
    "\n",
    "\n",
    "fig.update_layout(\n",
    "    title={\n",
    "        'text': \"Воронка продаж\",\n",
    "        'y':0.87,\n",
    "        'x':0.539,\n",
    "        'xanchor': 'center',\n",
    "        'yanchor': 'top'})\n",
    "fig.show()"
   ]
  },
  {
   "cell_type": "markdown",
   "metadata": {},
   "source": [
    "<a id='section_id44'></a>\n",
    "### Процент пользователей, которые доходят от первого события до оплаты"
   ]
  },
  {
   "cell_type": "markdown",
   "metadata": {},
   "source": [
    "Проверим, сколько пользователей доходит от первого события до оплаты"
   ]
  },
  {
   "cell_type": "code",
   "execution_count": 34,
   "metadata": {},
   "outputs": [
    {
     "name": "stdout",
     "output_type": "stream",
     "text": [
      "До оплаты с главной страницы доходят 47.7% пользователей\n"
     ]
    }
   ],
   "source": [
    "print(f\"До оплаты с главной страницы доходят {round(pt_data['userId'][3] * 100 / pt_data['userId'][0], 2)}% пользователей\")"
   ]
  },
  {
   "cell_type": "markdown",
   "metadata": {},
   "source": [
    "В этом разделе описаны и показаны воронки событий с количеством пользователей на каждой странице, выявлен процент пользователей, которые доходят с главной страницы до оплаты. <b>Показатель перехода с главной страницы на страницу с товаром можно попробовать увеличить, настроив более персонализированную рекламу и опираясь на покупки и предыдущие запросы пользователя.</b>\n"
   ]
  },
  {
   "cell_type": "markdown",
   "metadata": {},
   "source": [
    "<a id='section_id5'></a>\n",
    "## Изучение результатов эксперимента"
   ]
  },
  {
   "cell_type": "code",
   "execution_count": 35,
   "metadata": {},
   "outputs": [
    {
     "data": {
      "text/plain": [
       "groupId\n",
       "246    2484\n",
       "247    2513\n",
       "248    2537\n",
       "Name: userId, dtype: int64"
      ]
     },
     "execution_count": 35,
     "metadata": {},
     "output_type": "execute_result"
    }
   ],
   "source": [
    "group_users = new_data.groupby('groupId')['userId'].nunique()\n",
    "group_users"
   ]
  },
  {
   "cell_type": "markdown",
   "metadata": {},
   "source": [
    "В 246 группе 2484 пользователя, 247 - 2513, а в 248 - 2537."
   ]
  },
  {
   "cell_type": "markdown",
   "metadata": {},
   "source": [
    "Проверим, не участвуют ли пользователи сразу в нескольких группах."
   ]
  },
  {
   "cell_type": "code",
   "execution_count": 36,
   "metadata": {},
   "outputs": [
    {
     "data": {
      "text/html": [
       "<div>\n",
       "<style scoped>\n",
       "    .dataframe tbody tr th:only-of-type {\n",
       "        vertical-align: middle;\n",
       "    }\n",
       "\n",
       "    .dataframe tbody tr th {\n",
       "        vertical-align: top;\n",
       "    }\n",
       "\n",
       "    .dataframe thead th {\n",
       "        text-align: right;\n",
       "    }\n",
       "</style>\n",
       "<table border=\"1\" class=\"dataframe\">\n",
       "  <thead>\n",
       "    <tr style=\"text-align: right;\">\n",
       "      <th></th>\n",
       "      <th>groupId</th>\n",
       "    </tr>\n",
       "    <tr>\n",
       "      <th>userId</th>\n",
       "      <th></th>\n",
       "    </tr>\n",
       "  </thead>\n",
       "  <tbody>\n",
       "  </tbody>\n",
       "</table>\n",
       "</div>"
      ],
      "text/plain": [
       "Empty DataFrame\n",
       "Columns: [groupId]\n",
       "Index: []"
      ]
     },
     "execution_count": 36,
     "metadata": {},
     "output_type": "execute_result"
    }
   ],
   "source": [
    "intersections = (data\n",
    "                 .groupby('userId')\n",
    "                 .agg({'groupId': 'nunique'})\n",
    "                 .query('groupId > 1')\n",
    "                )\n",
    "intersections"
   ]
  },
  {
   "cell_type": "markdown",
   "metadata": {},
   "source": [
    "Пользователей, которые входят в 2 и более групп, не нашлось."
   ]
  },
  {
   "cell_type": "markdown",
   "metadata": {},
   "source": [
    "<a id='section_id51'></a>\n",
    "### Проверка контрольных групп на равенство"
   ]
  },
  {
   "cell_type": "markdown",
   "metadata": {},
   "source": [
    "Сформулируем нулевую и альтернативную гипотезы о наличие равенства между контрольными группами 246 и 247. \n",
    "\n",
    "H0: Между выборками отсутствует статистическая разница.\n",
    "\n",
    "H1: Между выборками присутствует статистическая разница. "
   ]
  },
  {
   "cell_type": "markdown",
   "metadata": {},
   "source": [
    "Пусть в successes будет количество пользователей, которые дошли до события.\n",
    "В trials поместим количество пользователей, которые изначально были распределены в соответствующую группу.\n",
    "\n",
    "С поправкой Бонферрони возьмем альфу за 0.003, предполагая, что мы будем тестировать группы на различия 16 раз."
   ]
  },
  {
   "cell_type": "code",
   "execution_count": 37,
   "metadata": {},
   "outputs": [
    {
     "data": {
      "text/plain": [
       "event\n",
       "MainScreenAppear           2450\n",
       "OffersScreenAppear         1542\n",
       "CartScreenAppear           1266\n",
       "PaymentScreenSuccessful    1200\n",
       "Tutorial                    278\n",
       "Name: userId, dtype: int64"
      ]
     },
     "execution_count": 37,
     "metadata": {},
     "output_type": "execute_result"
    }
   ],
   "source": [
    "first_group = new_data.query('groupId == 246')\n",
    "first_group_data = first_group.groupby('event')['userId'].nunique()\n",
    "first_group_data = first_group_data.sort_values(ascending=False)\n",
    "first_group_data"
   ]
  },
  {
   "cell_type": "code",
   "execution_count": 38,
   "metadata": {},
   "outputs": [
    {
     "data": {
      "text/plain": [
       "event\n",
       "MainScreenAppear           2476\n",
       "OffersScreenAppear         1520\n",
       "CartScreenAppear           1238\n",
       "PaymentScreenSuccessful    1158\n",
       "Tutorial                    283\n",
       "Name: userId, dtype: int64"
      ]
     },
     "execution_count": 38,
     "metadata": {},
     "output_type": "execute_result"
    }
   ],
   "source": [
    "second_group = new_data.query('groupId == 247')\n",
    "second_group_data = second_group.groupby('event')['userId'].nunique()\n",
    "second_group_data = second_group_data.sort_values(ascending=False)\n",
    "second_group_data"
   ]
  },
  {
   "cell_type": "code",
   "execution_count": 39,
   "metadata": {},
   "outputs": [],
   "source": [
    "alpha = .003\n",
    "\n",
    "successes = np.array([first_group_data[0], second_group_data[0]])\n",
    "trials = np.array([group_users.iloc[0], group_users.iloc[1]])\n",
    "\n",
    "p1 = successes[0]/trials[0]\n",
    "\n",
    "p2 = successes[1]/trials[1]\n",
    "\n",
    "p_combined = (successes[0] + successes[1]) / (trials[0] + trials[1])\n",
    "\n",
    "difference = p1 - p2 \n",
    "\n",
    "z_value = difference / mth.sqrt(p_combined * (1 - p_combined) * (1/trials[0] + 1/trials[1]))\n",
    "\n",
    "distr = st.norm(0, 1)"
   ]
  },
  {
   "cell_type": "code",
   "execution_count": 40,
   "metadata": {},
   "outputs": [
    {
     "name": "stdout",
     "output_type": "stream",
     "text": [
      "p-значение:  0.7570597232046099\n",
      "Не получилось отвергнуть нулевую гипотезу, нет оснований считать доли разными\n"
     ]
    }
   ],
   "source": [
    "p_value = (1 - distr.cdf(abs(z_value))) * 2\n",
    "\n",
    "print('p-значение: ', p_value)\n",
    "\n",
    "if p_value < alpha:\n",
    "    print('Отвергаем нулевую гипотезу: между долями есть значимая разница')\n",
    "else:\n",
    "    print(\n",
    "        'Не получилось отвергнуть нулевую гипотезу, нет оснований считать доли разными'\n",
    "    )"
   ]
  },
  {
   "cell_type": "markdown",
   "metadata": {},
   "source": [
    "По результатам теста А-групп на равенство долей признаем нулевую гипотезу об отсутствии различий между выборками."
   ]
  },
  {
   "cell_type": "markdown",
   "metadata": {},
   "source": [
    "<a id='section_id52'></a>\n",
    "### Проверка на разбиение по группам"
   ]
  },
  {
   "cell_type": "code",
   "execution_count": 41,
   "metadata": {},
   "outputs": [],
   "source": [
    "all_events = new_data.pivot_table(index='event', values='userId', columns='groupId', aggfunc='nunique')"
   ]
  },
  {
   "cell_type": "markdown",
   "metadata": {},
   "source": [
    "Посмотрим на каждое событие в разрезе количества пользователей, совершивших его, и проверим, есть ли статистически достоверное различие между группами по доле пользователей, совершивших событие. Проделаем тест для каждого события. Сначала сравним контрольные группы."
   ]
  },
  {
   "cell_type": "code",
   "execution_count": 42,
   "metadata": {},
   "outputs": [
    {
     "data": {
      "text/html": [
       "<div>\n",
       "<style scoped>\n",
       "    .dataframe tbody tr th:only-of-type {\n",
       "        vertical-align: middle;\n",
       "    }\n",
       "\n",
       "    .dataframe tbody tr th {\n",
       "        vertical-align: top;\n",
       "    }\n",
       "\n",
       "    .dataframe thead th {\n",
       "        text-align: right;\n",
       "    }\n",
       "</style>\n",
       "<table border=\"1\" class=\"dataframe\">\n",
       "  <thead>\n",
       "    <tr style=\"text-align: right;\">\n",
       "      <th></th>\n",
       "      <th>246</th>\n",
       "      <th>247</th>\n",
       "      <th>248</th>\n",
       "    </tr>\n",
       "    <tr>\n",
       "      <th>event</th>\n",
       "      <th></th>\n",
       "      <th></th>\n",
       "      <th></th>\n",
       "    </tr>\n",
       "  </thead>\n",
       "  <tbody>\n",
       "    <tr>\n",
       "      <th>CartScreenAppear</th>\n",
       "      <td>1266</td>\n",
       "      <td>1238</td>\n",
       "      <td>1230</td>\n",
       "    </tr>\n",
       "    <tr>\n",
       "      <th>MainScreenAppear</th>\n",
       "      <td>2450</td>\n",
       "      <td>2476</td>\n",
       "      <td>2493</td>\n",
       "    </tr>\n",
       "    <tr>\n",
       "      <th>OffersScreenAppear</th>\n",
       "      <td>1542</td>\n",
       "      <td>1520</td>\n",
       "      <td>1531</td>\n",
       "    </tr>\n",
       "    <tr>\n",
       "      <th>PaymentScreenSuccessful</th>\n",
       "      <td>1200</td>\n",
       "      <td>1158</td>\n",
       "      <td>1181</td>\n",
       "    </tr>\n",
       "    <tr>\n",
       "      <th>Tutorial</th>\n",
       "      <td>278</td>\n",
       "      <td>283</td>\n",
       "      <td>279</td>\n",
       "    </tr>\n",
       "  </tbody>\n",
       "</table>\n",
       "</div>"
      ],
      "text/plain": [
       "                          246   247   248\n",
       "event                                    \n",
       "CartScreenAppear         1266  1238  1230\n",
       "MainScreenAppear         2450  2476  2493\n",
       "OffersScreenAppear       1542  1520  1531\n",
       "PaymentScreenSuccessful  1200  1158  1181\n",
       "Tutorial                  278   283   279"
      ]
     },
     "execution_count": 42,
     "metadata": {},
     "output_type": "execute_result"
    }
   ],
   "source": [
    "all_events.columns = [246, 247, 248]\n",
    "all_events"
   ]
  },
  {
   "cell_type": "markdown",
   "metadata": {},
   "source": [
    "Сформулируем гипотезы о статистически достоверном различии между двумя контрольными группами."
   ]
  },
  {
   "cell_type": "markdown",
   "metadata": {},
   "source": [
    "H0: Между выборками отсутствует статистическая разница.\n",
    "\n",
    "H1: Между выборками присутствует статистическая разница. "
   ]
  },
  {
   "cell_type": "markdown",
   "metadata": {},
   "source": [
    "Напишем функцию, чтобы автоматизировать проверку."
   ]
  },
  {
   "cell_type": "code",
   "execution_count": 43,
   "metadata": {},
   "outputs": [],
   "source": [
    "def check_diff(df):\n",
    "    alpha = .003\n",
    "\n",
    "    successes = np.array([df[246], df[247]])\n",
    "    trials = np.array([group_users.iloc[0], group_users.iloc[1]])\n",
    "\n",
    "    p1 = successes[0]/trials[0]\n",
    "\n",
    "    p2 = successes[1]/trials[1]\n",
    "\n",
    "    p_combined = (successes[0] + successes[1]) / (trials[0] + trials[1])\n",
    "\n",
    "    difference = p1 - p2 \n",
    "\n",
    "    z_value = difference / mth.sqrt(p_combined * (1 - p_combined) * (1/trials[0] + 1/trials[1]))\n",
    "\n",
    "    distr = st.norm(0, 1)\n",
    "    \n",
    "    p_value = (1 - distr.cdf(abs(z_value))) * 2\n",
    "    \n",
    "\n",
    "    if p_value < alpha:\n",
    "        return f'p-значение: {p_value}.\\nОтвергаем нулевую гипотезу: между долями есть значимая разница'\n",
    "    else:\n",
    "        return f'p-значение: {p_value}.\\nНе получилось отвергнуть нулевую гипотезу, нет оснований считать доли разными'"
   ]
  },
  {
   "cell_type": "code",
   "execution_count": 44,
   "metadata": {},
   "outputs": [
    {
     "name": "stdout",
     "output_type": "stream",
     "text": [
      "Результат для события CartScreenAppear: p-значение: 0.22883372237997213.\n",
      "Не получилось отвергнуть нулевую гипотезу, нет оснований считать доли разными\n",
      "\n",
      "Результат для события MainScreenAppear: p-значение: 0.7570597232046099.\n",
      "Не получилось отвергнуть нулевую гипотезу, нет оснований считать доли разными\n",
      "\n",
      "Результат для события OffersScreenAppear: p-значение: 0.2480954578522181.\n",
      "Не получилось отвергнуть нулевую гипотезу, нет оснований считать доли разными\n",
      "\n",
      "Результат для события PaymentScreenSuccessful: p-значение: 0.11456679313141849.\n",
      "Не получилось отвергнуть нулевую гипотезу, нет оснований считать доли разными\n",
      "\n"
     ]
    }
   ],
   "source": [
    "for i in range(4):\n",
    "    print(f'Результат для события {all_events.index[i]}: {check_diff(all_events.iloc[i])}\\n')"
   ]
  },
  {
   "cell_type": "markdown",
   "metadata": {},
   "source": [
    "Делаем вывод, что разбиение на группы работает корректно, доли не отличаются статистически. "
   ]
  },
  {
   "cell_type": "markdown",
   "metadata": {},
   "source": [
    "Теперь проверим каждую контрольную группу с экспериментальной."
   ]
  },
  {
   "cell_type": "code",
   "execution_count": 45,
   "metadata": {},
   "outputs": [],
   "source": [
    "def check_diff_246_experiment(df):\n",
    "    \n",
    "    alpha = .003\n",
    "\n",
    "    successes = np.array([df[246], df[248]])\n",
    "    trials = np.array([group_users.iloc[0], group_users.iloc[2]])\n",
    "\n",
    "    p1 = successes[0]/trials[0]\n",
    "\n",
    "    p2 = successes[1]/trials[1]\n",
    "\n",
    "    p_combined = (successes[0] + successes[1]) / (trials[0] + trials[1])\n",
    "\n",
    "    difference = p1 - p2 \n",
    "\n",
    "    z_value = difference / mth.sqrt(p_combined * (1 - p_combined) * (1/trials[0] + 1/trials[1]))\n",
    "\n",
    "    distr = st.norm(0, 1)\n",
    "    \n",
    "    p_value = (1 - distr.cdf(abs(z_value))) * 2\n",
    "    \n",
    "    if p_value < alpha:\n",
    "        return f'p-значение: {p_value}.\\nОтвергаем нулевую гипотезу: между долями есть значимая разница'\n",
    "    else:\n",
    "        return f'p-значение: {p_value}.\\nНе получилось отвергнуть нулевую гипотезу, нет оснований считать доли разными'"
   ]
  },
  {
   "cell_type": "code",
   "execution_count": 46,
   "metadata": {},
   "outputs": [
    {
     "name": "stdout",
     "output_type": "stream",
     "text": [
      "Результат для события CartScreenAppear: p-значение: 0.07842923237520116.\n",
      "Не получилось отвергнуть нулевую гипотезу, нет оснований считать доли разными\n",
      "\n",
      "Результат для события MainScreenAppear: p-значение: 0.2949721933554552.\n",
      "Не получилось отвергнуть нулевую гипотезу, нет оснований считать доли разными\n",
      "\n",
      "Результат для события OffersScreenAppear: p-значение: 0.20836205402738917.\n",
      "Не получилось отвергнуть нулевую гипотезу, нет оснований считать доли разными\n",
      "\n",
      "Результат для события PaymentScreenSuccessful: p-значение: 0.2122553275697796.\n",
      "Не получилось отвергнуть нулевую гипотезу, нет оснований считать доли разными\n",
      "\n"
     ]
    }
   ],
   "source": [
    "for i in range(4):\n",
    "    print(f'Результат для события {all_events.index[i]}: {check_diff_246_experiment(all_events.iloc[i])}\\n')"
   ]
  },
  {
   "cell_type": "markdown",
   "metadata": {},
   "source": [
    "Статистически значимых различий нет. Сравним экспериментальную группу со шрифтами с 247 группой."
   ]
  },
  {
   "cell_type": "code",
   "execution_count": 47,
   "metadata": {},
   "outputs": [],
   "source": [
    "def check_diff_247_experiment(df):\n",
    "    \n",
    "    alpha = .003\n",
    "\n",
    "    successes = np.array([df[247], df[248]])\n",
    "    trials = np.array([group_users.iloc[1], group_users.iloc[2]])\n",
    "\n",
    "    p1 = successes[0]/trials[0]\n",
    "\n",
    "    p2 = successes[1]/trials[1]\n",
    "\n",
    "    p_combined = (successes[0] + successes[1]) / (trials[0] + trials[1])\n",
    "\n",
    "    difference = p1 - p2 \n",
    "\n",
    "    z_value = difference / mth.sqrt(p_combined * (1 - p_combined) * (1/trials[0] + 1/trials[1]))\n",
    "\n",
    "    distr = st.norm(0, 1)\n",
    "    \n",
    "    p_value = (1 - distr.cdf(abs(z_value))) * 2\n",
    "\n",
    "    if p_value < alpha:\n",
    "        return f'p-значение: {p_value}.\\nОтвергаем нулевую гипотезу: между долями есть значимая разница'\n",
    "    else:\n",
    "        return f'p-значение: {p_value}.\\nНе получилось отвергнуть нулевую гипотезу, нет оснований считать доли разными'"
   ]
  },
  {
   "cell_type": "code",
   "execution_count": 48,
   "metadata": {},
   "outputs": [
    {
     "name": "stdout",
     "output_type": "stream",
     "text": [
      "Результат для события CartScreenAppear: p-значение: 0.5786197879539783.\n",
      "Не получилось отвергнуть нулевую гипотезу, нет оснований считать доли разными\n",
      "\n",
      "Результат для события MainScreenAppear: p-значение: 0.4587053616621515.\n",
      "Не получилось отвергнуть нулевую гипотезу, нет оснований считать доли разными\n",
      "\n",
      "Результат для события OffersScreenAppear: p-значение: 0.9197817830592261.\n",
      "Не получилось отвергнуть нулевую гипотезу, нет оснований считать доли разными\n",
      "\n",
      "Результат для события PaymentScreenSuccessful: p-значение: 0.7373415053803964.\n",
      "Не получилось отвергнуть нулевую гипотезу, нет оснований считать доли разными\n",
      "\n"
     ]
    }
   ],
   "source": [
    "for i in range(4):\n",
    "    print(f'Результат для события {all_events.index[i]}: {check_diff_247_experiment(all_events.iloc[i])}\\n')"
   ]
  },
  {
   "cell_type": "markdown",
   "metadata": {},
   "source": [
    "Различий снова нет. Объединим две контрольные группы и сравним с экспериментальной."
   ]
  },
  {
   "cell_type": "code",
   "execution_count": 49,
   "metadata": {},
   "outputs": [],
   "source": [
    "def check_diff_controls_experiment(df):\n",
    "    \n",
    "    alpha = .003\n",
    "\n",
    "    successes = np.array([df[246] + df[247], df[248]])\n",
    "    trials = np.array([group_users.iloc[1] + group_users.iloc[0], group_users.iloc[2]])\n",
    "\n",
    "    p1 = successes[0]/trials[0]\n",
    "\n",
    "    p2 = successes[1]/trials[1]\n",
    "\n",
    "    p_combined = (successes[0] + successes[1]) / (trials[0] + trials[1])\n",
    "\n",
    "    difference = p1 - p2 \n",
    "\n",
    "    z_value = difference / mth.sqrt(p_combined * (1 - p_combined) * (1/trials[0] + 1/trials[1]))\n",
    "\n",
    "    distr = st.norm(0, 1)\n",
    "    \n",
    "    p_value = (1 - distr.cdf(abs(z_value))) * 2\n",
    "\n",
    "    if p_value < alpha:\n",
    "        return f'p-значение: {p_value}.\\nОтвергаем нулевую гипотезу: между долями есть значимая разница'\n",
    "    else:\n",
    "        return f'p-значение: {p_value}.\\nНе получилось отвергнуть нулевую гипотезу, нет оснований считать доли разными'"
   ]
  },
  {
   "cell_type": "code",
   "execution_count": 50,
   "metadata": {},
   "outputs": [
    {
     "name": "stdout",
     "output_type": "stream",
     "text": [
      "Результат для события CartScreenAppear: p-значение: 0.18175875284404386.\n",
      "Не получилось отвергнуть нулевую гипотезу, нет оснований считать доли разными\n",
      "\n",
      "Результат для события MainScreenAppear: p-значение: 0.29424526837179577.\n",
      "Не получилось отвергнуть нулевую гипотезу, нет оснований считать доли разными\n",
      "\n",
      "Результат для события OffersScreenAppear: p-значение: 0.43425549655188256.\n",
      "Не получилось отвергнуть нулевую гипотезу, нет оснований считать доли разными\n",
      "\n",
      "Результат для события PaymentScreenSuccessful: p-значение: 0.6004294282308704.\n",
      "Не получилось отвергнуть нулевую гипотезу, нет оснований считать доли разными\n",
      "\n"
     ]
    }
   ],
   "source": [
    "for i in range(4):\n",
    "    print(f'Результат для события {all_events.index[i]}: {check_diff_controls_experiment(all_events.iloc[i])}\\n')"
   ]
  },
  {
   "cell_type": "markdown",
   "metadata": {},
   "source": [
    "У объединенных контрольных групп и экспериментальной так же нет статистически достоверных различий. Можно сделать вывод, что шрифты не повлияли на поведение пользователей. "
   ]
  },
  {
   "cell_type": "markdown",
   "metadata": {},
   "source": [
    "Всего проведено 16 проверок статистических гипотез, различий не выявлено. Уровень значимости выбран на отметке в 0.003, так как по поправке Бонферрони для снижения вероятности получения ложноположительного результата необходимо выбранный уровень значимости (0.05) поделить на количество проверок гипотез."
   ]
  },
  {
   "cell_type": "markdown",
   "metadata": {},
   "source": [
    "<a id='section_id6'></a>\n",
    "# Общие выводы"
   ]
  },
  {
   "cell_type": "markdown",
   "metadata": {},
   "source": [
    "В ходе проекта отсеяны информативные данные для анализа, выявлена воронка продаж, количество и процент пользователей, которые отсеиваются на каждом шаге и установлено, что измененные шрифты значимо не повлияли на поведение пользователей ни в одном из 16 тестов. \n",
    "\n",
    "Рекомендуется обратить внимание на страницу с предложением и доработать ее, так как отсев пользователей в 40% довольно высокий показатель. Гипотеза с новыми шрифтами не показала эффективности и не должна быть принята к разработке."
   ]
  }
 ],
 "metadata": {
  "ExecuteTimeLog": [
   {
    "duration": 56,
    "start_time": "2023-09-09T12:07:32.707Z"
   },
   {
    "duration": 437,
    "start_time": "2023-09-09T12:07:36.224Z"
   },
   {
    "duration": 646,
    "start_time": "2023-09-09T12:07:36.683Z"
   },
   {
    "duration": 15,
    "start_time": "2023-09-09T12:07:39.891Z"
   },
   {
    "duration": 187,
    "start_time": "2023-09-09T12:07:48.623Z"
   },
   {
    "duration": 11,
    "start_time": "2023-09-09T12:07:49.221Z"
   },
   {
    "duration": 8,
    "start_time": "2023-09-09T12:08:00.639Z"
   },
   {
    "duration": 3,
    "start_time": "2023-09-09T12:09:24.585Z"
   },
   {
    "duration": 3,
    "start_time": "2023-09-09T12:09:34.111Z"
   },
   {
    "duration": 20,
    "start_time": "2023-09-09T12:10:19.758Z"
   },
   {
    "duration": 11,
    "start_time": "2023-09-09T12:14:13.706Z"
   },
   {
    "duration": 22,
    "start_time": "2023-09-09T12:14:20.051Z"
   },
   {
    "duration": 8,
    "start_time": "2023-09-09T12:14:25.745Z"
   },
   {
    "duration": 67,
    "start_time": "2023-09-09T12:51:58.522Z"
   },
   {
    "duration": 14,
    "start_time": "2023-09-09T12:52:01.668Z"
   },
   {
    "duration": 8,
    "start_time": "2023-09-09T12:52:32.433Z"
   },
   {
    "duration": 44,
    "start_time": "2023-09-09T12:52:48.604Z"
   },
   {
    "duration": 80,
    "start_time": "2023-09-09T12:52:49.042Z"
   },
   {
    "duration": 9,
    "start_time": "2023-09-09T12:52:49.262Z"
   },
   {
    "duration": 19,
    "start_time": "2023-09-09T12:53:54.767Z"
   },
   {
    "duration": 69,
    "start_time": "2023-09-09T12:57:52.503Z"
   },
   {
    "duration": 11,
    "start_time": "2023-09-09T12:59:18.162Z"
   },
   {
    "duration": 31,
    "start_time": "2023-09-09T13:00:01.251Z"
   },
   {
    "duration": 19,
    "start_time": "2023-09-09T13:00:06.843Z"
   },
   {
    "duration": 6,
    "start_time": "2023-09-09T13:00:39.842Z"
   },
   {
    "duration": 20,
    "start_time": "2023-09-09T13:01:15.557Z"
   },
   {
    "duration": 20,
    "start_time": "2023-09-09T13:01:27.349Z"
   },
   {
    "duration": 31,
    "start_time": "2023-09-09T13:02:40.130Z"
   },
   {
    "duration": 56,
    "start_time": "2023-09-09T13:07:59.828Z"
   },
   {
    "duration": 388,
    "start_time": "2023-09-09T13:08:30.857Z"
   },
   {
    "duration": 27,
    "start_time": "2023-09-09T13:08:38.873Z"
   },
   {
    "duration": 37,
    "start_time": "2023-09-09T13:08:54.475Z"
   },
   {
    "duration": 27,
    "start_time": "2023-09-09T13:09:06.542Z"
   },
   {
    "duration": 25,
    "start_time": "2023-09-09T14:12:01.760Z"
   },
   {
    "duration": 24,
    "start_time": "2023-09-09T14:12:11.770Z"
   },
   {
    "duration": 25,
    "start_time": "2023-09-09T14:12:21.901Z"
   },
   {
    "duration": 21,
    "start_time": "2023-09-09T14:19:42.326Z"
   },
   {
    "duration": 48,
    "start_time": "2023-09-09T14:20:14.617Z"
   },
   {
    "duration": 20,
    "start_time": "2023-09-09T14:20:23.460Z"
   },
   {
    "duration": 46,
    "start_time": "2023-09-09T14:21:09.586Z"
   },
   {
    "duration": 408,
    "start_time": "2023-09-10T16:03:51.320Z"
   },
   {
    "duration": 517,
    "start_time": "2023-09-10T16:03:51.730Z"
   },
   {
    "duration": 18,
    "start_time": "2023-09-10T16:03:52.249Z"
   },
   {
    "duration": 5,
    "start_time": "2023-09-10T16:03:52.270Z"
   },
   {
    "duration": 32,
    "start_time": "2023-09-10T16:03:52.276Z"
   },
   {
    "duration": 13,
    "start_time": "2023-09-10T16:03:52.576Z"
   },
   {
    "duration": 92,
    "start_time": "2023-09-10T16:03:52.731Z"
   },
   {
    "duration": 10,
    "start_time": "2023-09-10T16:03:52.894Z"
   },
   {
    "duration": 23,
    "start_time": "2023-09-10T16:03:53.271Z"
   },
   {
    "duration": 10,
    "start_time": "2023-09-10T16:03:54.323Z"
   },
   {
    "duration": 31,
    "start_time": "2023-09-10T16:03:54.661Z"
   },
   {
    "duration": 48,
    "start_time": "2023-09-10T16:03:55.024Z"
   },
   {
    "duration": 87,
    "start_time": "2023-09-10T16:03:55.912Z"
   },
   {
    "duration": 1010,
    "start_time": "2023-09-10T16:06:43.105Z"
   },
   {
    "duration": 92,
    "start_time": "2023-09-10T16:08:01.412Z"
   },
   {
    "duration": 13,
    "start_time": "2023-09-10T16:08:58.846Z"
   },
   {
    "duration": 88,
    "start_time": "2023-09-10T16:09:01.135Z"
   },
   {
    "duration": 20,
    "start_time": "2023-09-10T16:09:01.994Z"
   },
   {
    "duration": 12,
    "start_time": "2023-09-10T16:09:41.740Z"
   },
   {
    "duration": 13,
    "start_time": "2023-09-10T16:09:49.999Z"
   },
   {
    "duration": 13,
    "start_time": "2023-09-10T16:09:53.953Z"
   },
   {
    "duration": 12,
    "start_time": "2023-09-10T16:10:07.624Z"
   },
   {
    "duration": 27,
    "start_time": "2023-09-10T16:13:17.831Z"
   },
   {
    "duration": 21,
    "start_time": "2023-09-10T16:13:54.729Z"
   },
   {
    "duration": 12,
    "start_time": "2023-09-10T16:14:05.675Z"
   },
   {
    "duration": 11,
    "start_time": "2023-09-10T16:14:13.195Z"
   },
   {
    "duration": 13,
    "start_time": "2023-09-10T16:14:38.035Z"
   },
   {
    "duration": 12,
    "start_time": "2023-09-10T16:15:17.485Z"
   },
   {
    "duration": 64,
    "start_time": "2023-09-10T18:36:57.477Z"
   },
   {
    "duration": 1345,
    "start_time": "2023-09-10T18:37:36.362Z"
   },
   {
    "duration": 60,
    "start_time": "2023-09-10T18:37:40.014Z"
   },
   {
    "duration": 9,
    "start_time": "2023-09-10T18:37:40.463Z"
   },
   {
    "duration": 3,
    "start_time": "2023-09-10T18:37:43.361Z"
   },
   {
    "duration": 742,
    "start_time": "2023-09-10T18:37:43.561Z"
   },
   {
    "duration": 14,
    "start_time": "2023-09-10T18:37:44.305Z"
   },
   {
    "duration": 3,
    "start_time": "2023-09-10T18:37:44.321Z"
   },
   {
    "duration": 33,
    "start_time": "2023-09-10T18:37:44.326Z"
   },
   {
    "duration": 14,
    "start_time": "2023-09-10T18:37:44.811Z"
   },
   {
    "duration": 115,
    "start_time": "2023-09-10T18:37:45.010Z"
   },
   {
    "duration": 9,
    "start_time": "2023-09-10T18:37:45.189Z"
   },
   {
    "duration": 32,
    "start_time": "2023-09-10T18:37:45.563Z"
   },
   {
    "duration": 10,
    "start_time": "2023-09-10T18:37:45.952Z"
   },
   {
    "duration": 26,
    "start_time": "2023-09-10T18:37:46.309Z"
   },
   {
    "duration": 33,
    "start_time": "2023-09-10T18:37:46.665Z"
   },
   {
    "duration": 88,
    "start_time": "2023-09-10T18:37:47.015Z"
   },
   {
    "duration": 10,
    "start_time": "2023-09-10T18:37:47.200Z"
   },
   {
    "duration": 2,
    "start_time": "2023-09-10T18:38:32.866Z"
   },
   {
    "duration": 171,
    "start_time": "2023-09-10T18:38:33.329Z"
   },
   {
    "duration": 7,
    "start_time": "2023-09-10T18:38:33.554Z"
   },
   {
    "duration": 3,
    "start_time": "2023-09-10T18:38:33.918Z"
   },
   {
    "duration": 28,
    "start_time": "2023-09-10T18:38:34.087Z"
   },
   {
    "duration": 8,
    "start_time": "2023-09-10T18:38:34.570Z"
   },
   {
    "duration": 82,
    "start_time": "2023-09-10T18:38:34.770Z"
   },
   {
    "duration": 63,
    "start_time": "2023-09-10T18:38:34.910Z"
   },
   {
    "duration": 17,
    "start_time": "2023-09-10T18:38:35.268Z"
   },
   {
    "duration": 8,
    "start_time": "2023-09-10T18:38:35.647Z"
   },
   {
    "duration": 20,
    "start_time": "2023-09-10T18:38:36.070Z"
   },
   {
    "duration": 30,
    "start_time": "2023-09-10T18:38:36.462Z"
   },
   {
    "duration": 88,
    "start_time": "2023-09-10T18:38:36.856Z"
   },
   {
    "duration": 117,
    "start_time": "2023-09-10T18:38:37.069Z"
   },
   {
    "duration": 25,
    "start_time": "2023-09-10T18:38:37.463Z"
   },
   {
    "duration": 111,
    "start_time": "2023-09-10T18:39:36.922Z"
   },
   {
    "duration": 122,
    "start_time": "2023-09-10T18:39:39.869Z"
   },
   {
    "duration": 115,
    "start_time": "2023-09-10T18:39:47.724Z"
   },
   {
    "duration": 63,
    "start_time": "2023-09-10T18:40:07.990Z"
   },
   {
    "duration": 1596,
    "start_time": "2023-09-10T20:42:26.524Z"
   },
   {
    "duration": 562,
    "start_time": "2023-09-10T20:42:28.122Z"
   },
   {
    "duration": 14,
    "start_time": "2023-09-10T20:42:28.686Z"
   },
   {
    "duration": 3,
    "start_time": "2023-09-10T20:42:28.702Z"
   },
   {
    "duration": 26,
    "start_time": "2023-09-10T20:42:28.707Z"
   },
   {
    "duration": 17,
    "start_time": "2023-09-10T20:42:28.743Z"
   },
   {
    "duration": 107,
    "start_time": "2023-09-10T20:42:28.763Z"
   },
   {
    "duration": 15,
    "start_time": "2023-09-10T20:42:28.872Z"
   },
   {
    "duration": 27,
    "start_time": "2023-09-10T20:42:28.888Z"
   },
   {
    "duration": 12,
    "start_time": "2023-09-10T20:42:29.002Z"
   },
   {
    "duration": 23,
    "start_time": "2023-09-10T20:42:29.389Z"
   },
   {
    "duration": 42,
    "start_time": "2023-09-10T20:42:29.857Z"
   },
   {
    "duration": 120,
    "start_time": "2023-09-10T20:42:30.224Z"
   },
   {
    "duration": 257,
    "start_time": "2023-09-10T20:42:30.425Z"
   },
   {
    "duration": 80,
    "start_time": "2023-09-10T20:42:37.646Z"
   },
   {
    "duration": 157,
    "start_time": "2023-09-10T20:42:43.671Z"
   },
   {
    "duration": 76,
    "start_time": "2023-09-10T20:42:56.977Z"
   },
   {
    "duration": 138,
    "start_time": "2023-09-10T20:43:00.206Z"
   },
   {
    "duration": 13,
    "start_time": "2023-09-10T20:43:13.004Z"
   },
   {
    "duration": 75,
    "start_time": "2023-09-10T20:43:26.585Z"
   },
   {
    "duration": 13,
    "start_time": "2023-09-10T20:43:30.305Z"
   },
   {
    "duration": 55,
    "start_time": "2023-09-10T20:44:11.975Z"
   },
   {
    "duration": 402,
    "start_time": "2023-09-10T20:44:45.457Z"
   },
   {
    "duration": 13,
    "start_time": "2023-09-10T20:44:53.315Z"
   },
   {
    "duration": 64,
    "start_time": "2023-09-10T20:45:09.912Z"
   },
   {
    "duration": 75,
    "start_time": "2023-09-10T20:45:19.039Z"
   },
   {
    "duration": 70,
    "start_time": "2023-09-10T20:45:26.701Z"
   },
   {
    "duration": 67,
    "start_time": "2023-09-10T20:45:46.395Z"
   },
   {
    "duration": 63,
    "start_time": "2023-09-10T20:45:50.080Z"
   },
   {
    "duration": 61,
    "start_time": "2023-09-10T20:45:58.193Z"
   },
   {
    "duration": 11,
    "start_time": "2023-09-10T20:46:32.507Z"
   },
   {
    "duration": 21,
    "start_time": "2023-09-10T20:46:37.855Z"
   },
   {
    "duration": 21,
    "start_time": "2023-09-10T20:46:45.351Z"
   },
   {
    "duration": 108,
    "start_time": "2023-09-11T13:13:28.701Z"
   },
   {
    "duration": 48,
    "start_time": "2023-09-11T13:13:46.480Z"
   },
   {
    "duration": 1422,
    "start_time": "2023-09-11T13:13:49.813Z"
   },
   {
    "duration": 537,
    "start_time": "2023-09-11T13:13:51.237Z"
   },
   {
    "duration": 12,
    "start_time": "2023-09-11T13:13:51.776Z"
   },
   {
    "duration": 37,
    "start_time": "2023-09-11T13:13:51.791Z"
   },
   {
    "duration": 39,
    "start_time": "2023-09-11T13:13:51.829Z"
   },
   {
    "duration": 14,
    "start_time": "2023-09-11T13:13:51.870Z"
   },
   {
    "duration": 95,
    "start_time": "2023-09-11T13:13:51.886Z"
   },
   {
    "duration": 11,
    "start_time": "2023-09-11T13:13:51.983Z"
   },
   {
    "duration": 57,
    "start_time": "2023-09-11T13:13:51.996Z"
   },
   {
    "duration": 13,
    "start_time": "2023-09-11T13:13:54.925Z"
   },
   {
    "duration": 23,
    "start_time": "2023-09-11T13:13:55.705Z"
   },
   {
    "duration": 32,
    "start_time": "2023-09-11T13:13:56.707Z"
   },
   {
    "duration": 524,
    "start_time": "2023-09-11T13:14:15.112Z"
   },
   {
    "duration": 474,
    "start_time": "2023-09-11T13:14:20.589Z"
   },
   {
    "duration": 464,
    "start_time": "2023-09-11T13:14:35.422Z"
   },
   {
    "duration": 452,
    "start_time": "2023-09-11T13:14:43.105Z"
   },
   {
    "duration": 465,
    "start_time": "2023-09-11T13:14:49.950Z"
   },
   {
    "duration": 524,
    "start_time": "2023-09-11T13:15:13.289Z"
   },
   {
    "duration": 498,
    "start_time": "2023-09-11T13:15:19.062Z"
   },
   {
    "duration": 477,
    "start_time": "2023-09-11T13:15:23.595Z"
   },
   {
    "duration": 575,
    "start_time": "2023-09-11T13:15:29.926Z"
   },
   {
    "duration": 472,
    "start_time": "2023-09-11T13:15:35.438Z"
   },
   {
    "duration": 531,
    "start_time": "2023-09-11T13:16:04.775Z"
   },
   {
    "duration": 479,
    "start_time": "2023-09-11T13:16:22.971Z"
   },
   {
    "duration": 524,
    "start_time": "2023-09-11T13:16:56.870Z"
   },
   {
    "duration": 509,
    "start_time": "2023-09-11T13:17:11.721Z"
   },
   {
    "duration": 510,
    "start_time": "2023-09-11T13:17:44.791Z"
   },
   {
    "duration": 43,
    "start_time": "2023-09-11T13:19:37.096Z"
   },
   {
    "duration": 54,
    "start_time": "2023-09-11T13:19:54.800Z"
   },
   {
    "duration": 1659,
    "start_time": "2023-09-11T13:20:02.117Z"
   },
   {
    "duration": 56,
    "start_time": "2023-09-11T13:20:10.673Z"
   },
   {
    "duration": 349,
    "start_time": "2023-09-11T13:20:22.961Z"
   },
   {
    "duration": 36,
    "start_time": "2023-09-11T13:22:04.651Z"
   },
   {
    "duration": 113,
    "start_time": "2023-09-11T13:22:28.393Z"
   },
   {
    "duration": 24,
    "start_time": "2023-09-11T13:22:31.958Z"
   },
   {
    "duration": 20,
    "start_time": "2023-09-11T13:22:35.885Z"
   },
   {
    "duration": 517,
    "start_time": "2023-09-11T13:23:02.274Z"
   },
   {
    "duration": 203,
    "start_time": "2023-09-11T13:23:10.494Z"
   },
   {
    "duration": 210,
    "start_time": "2023-09-11T13:23:24.980Z"
   },
   {
    "duration": 315,
    "start_time": "2023-09-11T13:23:31.144Z"
   },
   {
    "duration": 214,
    "start_time": "2023-09-11T13:23:37.114Z"
   },
   {
    "duration": 223,
    "start_time": "2023-09-11T13:23:42.008Z"
   },
   {
    "duration": 226,
    "start_time": "2023-09-11T13:24:17.983Z"
   },
   {
    "duration": 222,
    "start_time": "2023-09-11T13:25:42.442Z"
   },
   {
    "duration": 17,
    "start_time": "2023-09-11T13:28:11.118Z"
   },
   {
    "duration": 18,
    "start_time": "2023-09-11T13:28:27.510Z"
   },
   {
    "duration": 7,
    "start_time": "2023-09-11T13:28:42.068Z"
   },
   {
    "duration": 6,
    "start_time": "2023-09-11T13:29:13.420Z"
   },
   {
    "duration": 8,
    "start_time": "2023-09-11T13:31:31.770Z"
   },
   {
    "duration": 21,
    "start_time": "2023-09-11T13:31:50.901Z"
   },
   {
    "duration": 22,
    "start_time": "2023-09-11T13:31:55.178Z"
   },
   {
    "duration": 32,
    "start_time": "2023-09-11T13:32:02.273Z"
   },
   {
    "duration": 10,
    "start_time": "2023-09-11T13:33:18.048Z"
   },
   {
    "duration": 24,
    "start_time": "2023-09-11T13:33:28.814Z"
   },
   {
    "duration": 19,
    "start_time": "2023-09-11T13:35:49.297Z"
   },
   {
    "duration": 19,
    "start_time": "2023-09-11T13:36:00.579Z"
   },
   {
    "duration": 19,
    "start_time": "2023-09-11T13:36:16.622Z"
   },
   {
    "duration": 19,
    "start_time": "2023-09-11T13:41:55.586Z"
   },
   {
    "duration": 191,
    "start_time": "2023-09-11T13:42:29.415Z"
   },
   {
    "duration": 1311,
    "start_time": "2023-09-11T13:43:04.101Z"
   },
   {
    "duration": 199,
    "start_time": "2023-09-11T13:43:05.414Z"
   },
   {
    "duration": 16,
    "start_time": "2023-09-11T13:43:05.615Z"
   },
   {
    "duration": 8,
    "start_time": "2023-09-11T13:43:05.633Z"
   },
   {
    "duration": 33,
    "start_time": "2023-09-11T13:43:05.644Z"
   },
   {
    "duration": 32,
    "start_time": "2023-09-11T13:43:05.678Z"
   },
   {
    "duration": 139,
    "start_time": "2023-09-11T13:43:05.712Z"
   },
   {
    "duration": 60,
    "start_time": "2023-09-11T13:43:05.853Z"
   },
   {
    "duration": 50,
    "start_time": "2023-09-11T13:43:05.915Z"
   },
   {
    "duration": 13,
    "start_time": "2023-09-11T13:43:05.966Z"
   },
   {
    "duration": 95,
    "start_time": "2023-09-11T13:43:05.981Z"
   },
   {
    "duration": 61,
    "start_time": "2023-09-11T13:43:06.078Z"
   },
   {
    "duration": 353,
    "start_time": "2023-09-11T13:43:06.141Z"
   },
   {
    "duration": 267,
    "start_time": "2023-09-11T13:43:06.501Z"
   },
   {
    "duration": 250,
    "start_time": "2023-09-11T13:43:06.770Z"
   },
   {
    "duration": 9,
    "start_time": "2023-09-11T13:43:07.023Z"
   },
   {
    "duration": 57,
    "start_time": "2023-09-11T13:43:07.034Z"
   },
   {
    "duration": 45,
    "start_time": "2023-09-11T13:43:07.093Z"
   },
   {
    "duration": 59,
    "start_time": "2023-09-11T13:43:07.139Z"
   },
   {
    "duration": 47,
    "start_time": "2023-09-11T13:43:07.199Z"
   },
   {
    "duration": 97,
    "start_time": "2023-09-11T13:43:07.248Z"
   },
   {
    "duration": 29,
    "start_time": "2023-09-11T13:43:11.342Z"
   },
   {
    "duration": 65,
    "start_time": "2023-09-11T13:45:20.832Z"
   },
   {
    "duration": 65,
    "start_time": "2023-09-11T13:45:29.150Z"
   },
   {
    "duration": 132,
    "start_time": "2023-09-11T13:47:32.304Z"
   },
   {
    "duration": 12,
    "start_time": "2023-09-11T13:47:48.723Z"
   },
   {
    "duration": 10,
    "start_time": "2023-09-11T13:48:02.177Z"
   },
   {
    "duration": 18,
    "start_time": "2023-09-11T13:49:50.382Z"
   },
   {
    "duration": 84,
    "start_time": "2023-09-11T13:50:25.404Z"
   },
   {
    "duration": 79,
    "start_time": "2023-09-11T13:50:42.876Z"
   },
   {
    "duration": 82,
    "start_time": "2023-09-11T13:51:01.072Z"
   },
   {
    "duration": 81,
    "start_time": "2023-09-11T13:51:11.372Z"
   },
   {
    "duration": 80,
    "start_time": "2023-09-11T13:51:19.522Z"
   },
   {
    "duration": 1991,
    "start_time": "2023-09-11T13:52:22.229Z"
   },
   {
    "duration": 37,
    "start_time": "2023-09-11T13:53:22.314Z"
   },
   {
    "duration": 128,
    "start_time": "2023-09-11T13:53:34.218Z"
   },
   {
    "duration": 124,
    "start_time": "2023-09-11T13:53:40.380Z"
   },
   {
    "duration": 110,
    "start_time": "2023-09-11T13:54:34.475Z"
   },
   {
    "duration": 124,
    "start_time": "2023-09-11T13:54:53.213Z"
   },
   {
    "duration": 138,
    "start_time": "2023-09-11T13:56:49.326Z"
   },
   {
    "duration": 79,
    "start_time": "2023-09-11T13:56:58.198Z"
   },
   {
    "duration": 76,
    "start_time": "2023-09-11T13:57:17.860Z"
   },
   {
    "duration": 86,
    "start_time": "2023-09-11T13:57:26.385Z"
   },
   {
    "duration": 167,
    "start_time": "2023-09-11T13:59:31.679Z"
   },
   {
    "duration": 222,
    "start_time": "2023-09-11T13:59:38.546Z"
   },
   {
    "duration": 209,
    "start_time": "2023-09-11T14:00:16.472Z"
   },
   {
    "duration": 86,
    "start_time": "2023-09-11T14:04:58.276Z"
   },
   {
    "duration": 200,
    "start_time": "2023-09-11T14:04:59.262Z"
   },
   {
    "duration": 218,
    "start_time": "2023-09-11T14:05:22.458Z"
   },
   {
    "duration": 290,
    "start_time": "2023-09-11T14:05:42.843Z"
   },
   {
    "duration": 92,
    "start_time": "2023-09-11T14:08:32.776Z"
   },
   {
    "duration": 11,
    "start_time": "2023-09-11T14:08:51.195Z"
   },
   {
    "duration": 186,
    "start_time": "2023-09-11T14:08:55.332Z"
   },
   {
    "duration": 211,
    "start_time": "2023-09-11T14:09:06.984Z"
   },
   {
    "duration": 214,
    "start_time": "2023-09-11T14:10:11.736Z"
   },
   {
    "duration": 169,
    "start_time": "2023-09-11T14:10:18.780Z"
   },
   {
    "duration": 217,
    "start_time": "2023-09-11T14:10:22.100Z"
   },
   {
    "duration": 236,
    "start_time": "2023-09-11T14:10:46.896Z"
   },
   {
    "duration": 11,
    "start_time": "2023-09-11T14:22:28.318Z"
   },
   {
    "duration": 5,
    "start_time": "2023-09-11T14:22:38.510Z"
   },
   {
    "duration": 10,
    "start_time": "2023-09-11T14:22:43.114Z"
   },
   {
    "duration": 5,
    "start_time": "2023-09-11T14:22:51.669Z"
   },
   {
    "duration": 4,
    "start_time": "2023-09-11T14:22:55.022Z"
   },
   {
    "duration": 11,
    "start_time": "2023-09-11T14:22:55.389Z"
   },
   {
    "duration": 11,
    "start_time": "2023-09-11T14:24:04.278Z"
   },
   {
    "duration": 5,
    "start_time": "2023-09-11T14:24:36.943Z"
   },
   {
    "duration": 6,
    "start_time": "2023-09-11T14:24:37.377Z"
   },
   {
    "duration": 6,
    "start_time": "2023-09-11T14:24:55.858Z"
   },
   {
    "duration": 10,
    "start_time": "2023-09-11T14:24:58.737Z"
   },
   {
    "duration": 9,
    "start_time": "2023-09-11T14:25:16.089Z"
   },
   {
    "duration": 6,
    "start_time": "2023-09-11T14:25:31.997Z"
   },
   {
    "duration": 9,
    "start_time": "2023-09-11T14:25:32.364Z"
   },
   {
    "duration": 10,
    "start_time": "2023-09-11T14:25:53.435Z"
   },
   {
    "duration": 1853,
    "start_time": "2023-09-11T14:29:38.474Z"
   },
   {
    "duration": 4,
    "start_time": "2023-09-11T14:29:47.595Z"
   },
   {
    "duration": 5,
    "start_time": "2023-09-11T14:29:55.433Z"
   },
   {
    "duration": 4,
    "start_time": "2023-09-11T14:30:08.241Z"
   },
   {
    "duration": 348,
    "start_time": "2023-09-11T14:30:54.092Z"
   },
   {
    "duration": 5,
    "start_time": "2023-09-11T14:31:14.730Z"
   },
   {
    "duration": 46,
    "start_time": "2023-09-11T14:50:01.378Z"
   },
   {
    "duration": 4,
    "start_time": "2023-09-11T15:00:25.646Z"
   },
   {
    "duration": 28,
    "start_time": "2023-09-11T15:15:52.242Z"
   },
   {
    "duration": 33,
    "start_time": "2023-09-11T15:15:55.381Z"
   },
   {
    "duration": 13,
    "start_time": "2023-09-11T15:15:59.660Z"
   },
   {
    "duration": 29,
    "start_time": "2023-09-11T15:16:31.050Z"
   },
   {
    "duration": 22,
    "start_time": "2023-09-11T15:17:48.414Z"
   },
   {
    "duration": 32,
    "start_time": "2023-09-11T15:18:08.536Z"
   },
   {
    "duration": 36,
    "start_time": "2023-09-11T15:19:07.659Z"
   },
   {
    "duration": 36,
    "start_time": "2023-09-11T15:19:28.449Z"
   },
   {
    "duration": 30,
    "start_time": "2023-09-11T15:19:33.933Z"
   },
   {
    "duration": 30,
    "start_time": "2023-09-11T15:20:15.535Z"
   },
   {
    "duration": 4,
    "start_time": "2023-09-11T15:20:54.795Z"
   },
   {
    "duration": 10,
    "start_time": "2023-09-11T15:23:18.283Z"
   },
   {
    "duration": 5,
    "start_time": "2023-09-11T15:23:40.372Z"
   },
   {
    "duration": 5,
    "start_time": "2023-09-11T15:23:40.778Z"
   },
   {
    "duration": 45,
    "start_time": "2023-09-11T19:31:29.871Z"
   },
   {
    "duration": 1306,
    "start_time": "2023-09-11T19:31:36.244Z"
   },
   {
    "duration": 511,
    "start_time": "2023-09-11T19:31:37.552Z"
   },
   {
    "duration": 12,
    "start_time": "2023-09-11T19:31:38.064Z"
   },
   {
    "duration": 4,
    "start_time": "2023-09-11T19:31:38.078Z"
   },
   {
    "duration": 27,
    "start_time": "2023-09-11T19:31:38.084Z"
   },
   {
    "duration": 13,
    "start_time": "2023-09-11T19:31:38.113Z"
   },
   {
    "duration": 133,
    "start_time": "2023-09-11T19:31:38.128Z"
   },
   {
    "duration": 29,
    "start_time": "2023-09-11T19:31:38.263Z"
   },
   {
    "duration": 31,
    "start_time": "2023-09-11T19:31:38.294Z"
   },
   {
    "duration": 22,
    "start_time": "2023-09-11T19:31:38.326Z"
   },
   {
    "duration": 24,
    "start_time": "2023-09-11T19:31:38.350Z"
   },
   {
    "duration": 5,
    "start_time": "2023-09-11T19:31:38.376Z"
   },
   {
    "duration": 327,
    "start_time": "2023-09-11T19:31:38.383Z"
   },
   {
    "duration": 244,
    "start_time": "2023-09-11T19:31:38.714Z"
   },
   {
    "duration": 227,
    "start_time": "2023-09-11T19:31:38.960Z"
   },
   {
    "duration": 8,
    "start_time": "2023-09-11T19:31:39.190Z"
   },
   {
    "duration": 35,
    "start_time": "2023-09-11T19:31:39.200Z"
   },
   {
    "duration": 23,
    "start_time": "2023-09-11T19:31:39.236Z"
   },
   {
    "duration": 16,
    "start_time": "2023-09-11T19:31:39.261Z"
   },
   {
    "duration": 27,
    "start_time": "2023-09-11T19:31:39.279Z"
   },
   {
    "duration": 98,
    "start_time": "2023-09-11T19:31:39.307Z"
   },
   {
    "duration": 4,
    "start_time": "2023-09-11T19:31:39.407Z"
   },
   {
    "duration": 13,
    "start_time": "2023-09-11T19:31:39.413Z"
   },
   {
    "duration": 6,
    "start_time": "2023-09-11T19:31:39.428Z"
   },
   {
    "duration": 48,
    "start_time": "2023-09-11T19:31:39.436Z"
   },
   {
    "duration": 25,
    "start_time": "2023-09-11T19:31:39.486Z"
   },
   {
    "duration": 39,
    "start_time": "2023-09-11T19:31:39.512Z"
   },
   {
    "duration": 6,
    "start_time": "2023-09-11T19:31:39.552Z"
   },
   {
    "duration": 10,
    "start_time": "2023-09-11T19:31:39.559Z"
   },
   {
    "duration": 42,
    "start_time": "2023-09-11T19:31:39.571Z"
   },
   {
    "duration": 49,
    "start_time": "2023-09-11T19:34:04.128Z"
   },
   {
    "duration": 51,
    "start_time": "2023-09-11T19:34:13.612Z"
   },
   {
    "duration": 82,
    "start_time": "2023-09-11T19:34:20.401Z"
   },
   {
    "duration": 1441,
    "start_time": "2023-09-11T19:34:29.514Z"
   },
   {
    "duration": 82,
    "start_time": "2023-09-11T19:34:36.298Z"
   },
   {
    "duration": 61,
    "start_time": "2023-09-11T19:36:12.719Z"
   },
   {
    "duration": 76,
    "start_time": "2023-09-11T19:37:23.922Z"
   },
   {
    "duration": 59,
    "start_time": "2023-09-11T19:37:28.962Z"
   },
   {
    "duration": 86,
    "start_time": "2023-09-11T19:40:11.005Z"
   },
   {
    "duration": 8,
    "start_time": "2023-09-11T19:41:43.063Z"
   },
   {
    "duration": 69,
    "start_time": "2023-09-11T19:41:46.504Z"
   },
   {
    "duration": 4,
    "start_time": "2023-09-11T19:41:47.739Z"
   },
   {
    "duration": 6,
    "start_time": "2023-09-11T19:41:52.705Z"
   },
   {
    "duration": 29,
    "start_time": "2023-09-11T19:43:04.068Z"
   },
   {
    "duration": 37,
    "start_time": "2023-09-11T19:43:10.743Z"
   },
   {
    "duration": 1183,
    "start_time": "2023-09-11T19:43:22.462Z"
   },
   {
    "duration": 978,
    "start_time": "2023-09-11T19:43:29.423Z"
   },
   {
    "duration": 31,
    "start_time": "2023-09-11T19:43:36.825Z"
   },
   {
    "duration": 39,
    "start_time": "2023-09-11T19:43:52.925Z"
   },
   {
    "duration": 32,
    "start_time": "2023-09-11T19:43:57.611Z"
   },
   {
    "duration": 33,
    "start_time": "2023-09-11T19:44:01.298Z"
   },
   {
    "duration": 40,
    "start_time": "2023-09-11T19:44:06.262Z"
   },
   {
    "duration": 1150,
    "start_time": "2023-09-11T19:44:59.094Z"
   },
   {
    "duration": 8,
    "start_time": "2023-09-11T19:45:06.332Z"
   },
   {
    "duration": 62,
    "start_time": "2023-09-11T19:45:10.437Z"
   },
   {
    "duration": 6,
    "start_time": "2023-09-11T19:45:11.538Z"
   },
   {
    "duration": 1274,
    "start_time": "2023-09-11T19:45:15.644Z"
   },
   {
    "duration": 73,
    "start_time": "2023-09-11T19:45:28.196Z"
   },
   {
    "duration": 1215,
    "start_time": "2023-09-11T19:45:41.450Z"
   },
   {
    "duration": 1287,
    "start_time": "2023-09-11T19:45:50.202Z"
   },
   {
    "duration": 1164,
    "start_time": "2023-09-11T19:46:25.797Z"
   },
   {
    "duration": 5,
    "start_time": "2023-09-11T19:46:50.436Z"
   },
   {
    "duration": 1330,
    "start_time": "2023-09-11T19:46:59.885Z"
   },
   {
    "duration": 2212,
    "start_time": "2023-09-11T19:47:08.078Z"
   },
   {
    "duration": 1286,
    "start_time": "2023-09-11T19:47:13.815Z"
   },
   {
    "duration": 894,
    "start_time": "2023-09-11T19:47:31.120Z"
   },
   {
    "duration": 890,
    "start_time": "2023-09-11T19:47:35.220Z"
   },
   {
    "duration": 7,
    "start_time": "2023-09-11T19:48:03.888Z"
   },
   {
    "duration": 5,
    "start_time": "2023-09-11T19:48:10.714Z"
   },
   {
    "duration": 5,
    "start_time": "2023-09-11T19:48:19.265Z"
   },
   {
    "duration": 4,
    "start_time": "2023-09-11T19:48:29.293Z"
   },
   {
    "duration": 1271,
    "start_time": "2023-09-11T19:49:19.484Z"
   },
   {
    "duration": 39,
    "start_time": "2023-09-11T19:49:25.789Z"
   },
   {
    "duration": 39,
    "start_time": "2023-09-11T19:49:27.965Z"
   },
   {
    "duration": 42,
    "start_time": "2023-09-11T19:49:32.448Z"
   },
   {
    "duration": 1675,
    "start_time": "2023-09-11T19:49:38.269Z"
   },
   {
    "duration": 31,
    "start_time": "2023-09-11T19:49:47.030Z"
   },
   {
    "duration": 32,
    "start_time": "2023-09-11T19:49:50.493Z"
   },
   {
    "duration": 42,
    "start_time": "2023-09-11T19:49:56.055Z"
   },
   {
    "duration": 6,
    "start_time": "2023-09-11T19:50:06.952Z"
   },
   {
    "duration": 5,
    "start_time": "2023-09-11T19:56:03.665Z"
   },
   {
    "duration": 70,
    "start_time": "2023-09-11T19:56:31.664Z"
   },
   {
    "duration": 4,
    "start_time": "2023-09-11T19:56:36.495Z"
   },
   {
    "duration": 6,
    "start_time": "2023-09-11T19:56:43.672Z"
   },
   {
    "duration": 5,
    "start_time": "2023-09-11T19:57:37.750Z"
   },
   {
    "duration": 4,
    "start_time": "2023-09-11T19:57:58.998Z"
   },
   {
    "duration": 5,
    "start_time": "2023-09-11T19:58:07.393Z"
   },
   {
    "duration": 42,
    "start_time": "2023-09-11T20:06:05.720Z"
   },
   {
    "duration": 39,
    "start_time": "2023-09-11T20:06:09.710Z"
   },
   {
    "duration": 39,
    "start_time": "2023-09-11T20:06:16.383Z"
   },
   {
    "duration": 33,
    "start_time": "2023-09-11T20:06:20.599Z"
   },
   {
    "duration": 32,
    "start_time": "2023-09-11T20:06:29.797Z"
   },
   {
    "duration": 5,
    "start_time": "2023-09-11T20:07:09.003Z"
   },
   {
    "duration": 4,
    "start_time": "2023-09-11T20:07:18.759Z"
   },
   {
    "duration": 8,
    "start_time": "2023-09-11T20:07:33.628Z"
   },
   {
    "duration": 4,
    "start_time": "2023-09-11T20:07:37.254Z"
   },
   {
    "duration": 5,
    "start_time": "2023-09-11T20:07:45.730Z"
   },
   {
    "duration": 4,
    "start_time": "2023-09-11T20:07:57.198Z"
   },
   {
    "duration": 4,
    "start_time": "2023-09-11T20:08:03.407Z"
   },
   {
    "duration": 7,
    "start_time": "2023-09-11T20:08:05.900Z"
   },
   {
    "duration": 5,
    "start_time": "2023-09-11T20:08:06.309Z"
   },
   {
    "duration": 63,
    "start_time": "2023-09-11T20:09:52.660Z"
   },
   {
    "duration": 21,
    "start_time": "2023-09-11T20:10:24.930Z"
   },
   {
    "duration": 22,
    "start_time": "2023-09-11T20:10:46.582Z"
   },
   {
    "duration": 15,
    "start_time": "2023-09-11T20:10:56.093Z"
   },
   {
    "duration": 57,
    "start_time": "2023-09-11T20:11:32.605Z"
   },
   {
    "duration": 55,
    "start_time": "2023-09-11T20:15:02.635Z"
   },
   {
    "duration": 52,
    "start_time": "2023-09-11T20:15:07.286Z"
   },
   {
    "duration": 55,
    "start_time": "2023-09-11T20:15:10.273Z"
   },
   {
    "duration": 54,
    "start_time": "2023-09-11T20:15:17.474Z"
   },
   {
    "duration": 53,
    "start_time": "2023-09-11T20:15:21.103Z"
   },
   {
    "duration": 51,
    "start_time": "2023-09-11T20:16:29.932Z"
   },
   {
    "duration": 9,
    "start_time": "2023-09-11T20:16:38.185Z"
   },
   {
    "duration": 75,
    "start_time": "2023-09-11T20:16:40.839Z"
   },
   {
    "duration": 7,
    "start_time": "2023-09-11T20:16:41.314Z"
   },
   {
    "duration": 54,
    "start_time": "2023-09-11T20:16:45.485Z"
   },
   {
    "duration": 82,
    "start_time": "2023-09-11T20:16:45.910Z"
   },
   {
    "duration": 10,
    "start_time": "2023-09-11T20:16:46.497Z"
   },
   {
    "duration": 5,
    "start_time": "2023-09-11T20:16:54.253Z"
   },
   {
    "duration": 5,
    "start_time": "2023-09-11T20:16:54.965Z"
   },
   {
    "duration": 5,
    "start_time": "2023-09-11T20:16:59.659Z"
   },
   {
    "duration": 6,
    "start_time": "2023-09-11T20:17:05.235Z"
   },
   {
    "duration": 5,
    "start_time": "2023-09-11T20:21:53.971Z"
   },
   {
    "duration": 89,
    "start_time": "2023-09-11T20:22:29.574Z"
   },
   {
    "duration": 6,
    "start_time": "2023-09-11T20:22:41.010Z"
   },
   {
    "duration": 5,
    "start_time": "2023-09-11T20:22:42.081Z"
   },
   {
    "duration": 6,
    "start_time": "2023-09-11T20:22:42.998Z"
   },
   {
    "duration": 1401,
    "start_time": "2023-09-11T20:23:16.451Z"
   },
   {
    "duration": 9,
    "start_time": "2023-09-11T20:23:32.392Z"
   },
   {
    "duration": 154,
    "start_time": "2023-09-11T20:24:17.590Z"
   },
   {
    "duration": 3,
    "start_time": "2023-09-11T20:24:21.466Z"
   },
   {
    "duration": 1324,
    "start_time": "2023-09-11T20:24:29.169Z"
   },
   {
    "duration": 1514,
    "start_time": "2023-09-11T20:25:14.695Z"
   },
   {
    "duration": 4,
    "start_time": "2023-09-11T20:25:54.125Z"
   },
   {
    "duration": 8,
    "start_time": "2023-09-11T20:26:05.219Z"
   },
   {
    "duration": 8,
    "start_time": "2023-09-11T20:27:39.389Z"
   },
   {
    "duration": 8,
    "start_time": "2023-09-11T20:27:57.179Z"
   },
   {
    "duration": 5,
    "start_time": "2023-09-11T20:29:37.159Z"
   },
   {
    "duration": 8,
    "start_time": "2023-09-11T20:29:59.874Z"
   },
   {
    "duration": 5,
    "start_time": "2023-09-11T20:30:03.401Z"
   },
   {
    "duration": 8,
    "start_time": "2023-09-11T20:30:03.951Z"
   },
   {
    "duration": 5,
    "start_time": "2023-09-11T20:30:12.751Z"
   },
   {
    "duration": 9,
    "start_time": "2023-09-11T20:30:13.266Z"
   },
   {
    "duration": 5,
    "start_time": "2023-09-11T20:33:15.896Z"
   },
   {
    "duration": 9,
    "start_time": "2023-09-11T20:33:59.740Z"
   },
   {
    "duration": 18,
    "start_time": "2023-09-11T20:34:08.544Z"
   },
   {
    "duration": 11,
    "start_time": "2023-09-11T20:34:24.584Z"
   },
   {
    "duration": 4,
    "start_time": "2023-09-11T20:35:46.062Z"
   },
   {
    "duration": 9,
    "start_time": "2023-09-11T20:36:16.705Z"
   },
   {
    "duration": 1304,
    "start_time": "2023-09-11T21:13:20.033Z"
   },
   {
    "duration": 757,
    "start_time": "2023-09-11T21:13:21.339Z"
   },
   {
    "duration": 12,
    "start_time": "2023-09-11T21:13:22.097Z"
   },
   {
    "duration": 8,
    "start_time": "2023-09-11T21:13:22.111Z"
   },
   {
    "duration": 24,
    "start_time": "2023-09-11T21:13:22.121Z"
   },
   {
    "duration": 22,
    "start_time": "2023-09-11T21:13:22.146Z"
   },
   {
    "duration": 118,
    "start_time": "2023-09-11T21:13:22.169Z"
   },
   {
    "duration": 9,
    "start_time": "2023-09-11T21:13:22.289Z"
   },
   {
    "duration": 23,
    "start_time": "2023-09-11T21:13:22.299Z"
   },
   {
    "duration": 34,
    "start_time": "2023-09-11T21:13:22.324Z"
   },
   {
    "duration": 23,
    "start_time": "2023-09-11T21:13:22.359Z"
   },
   {
    "duration": 5,
    "start_time": "2023-09-11T21:13:22.383Z"
   },
   {
    "duration": 330,
    "start_time": "2023-09-11T21:13:22.390Z"
   },
   {
    "duration": 257,
    "start_time": "2023-09-11T21:13:22.724Z"
   },
   {
    "duration": 199,
    "start_time": "2023-09-11T21:13:22.983Z"
   },
   {
    "duration": 7,
    "start_time": "2023-09-11T21:13:23.183Z"
   },
   {
    "duration": 97,
    "start_time": "2023-09-11T21:13:23.192Z"
   },
   {
    "duration": 140,
    "start_time": "2023-09-11T21:13:23.291Z"
   },
   {
    "duration": 18,
    "start_time": "2023-09-11T21:13:23.433Z"
   },
   {
    "duration": 26,
    "start_time": "2023-09-11T21:13:23.453Z"
   },
   {
    "duration": 102,
    "start_time": "2023-09-11T21:13:23.481Z"
   },
   {
    "duration": 6,
    "start_time": "2023-09-11T21:13:23.585Z"
   },
   {
    "duration": 33,
    "start_time": "2023-09-11T21:13:23.593Z"
   },
   {
    "duration": 16,
    "start_time": "2023-09-11T21:13:23.628Z"
   },
   {
    "duration": 43,
    "start_time": "2023-09-11T21:13:23.645Z"
   },
   {
    "duration": 29,
    "start_time": "2023-09-11T21:13:23.690Z"
   },
   {
    "duration": 46,
    "start_time": "2023-09-11T21:13:23.722Z"
   },
   {
    "duration": 6,
    "start_time": "2023-09-11T21:13:23.770Z"
   },
   {
    "duration": 14,
    "start_time": "2023-09-11T21:13:23.778Z"
   },
   {
    "duration": 81,
    "start_time": "2023-09-11T21:13:23.793Z"
   },
   {
    "duration": 7,
    "start_time": "2023-09-11T21:13:23.876Z"
   },
   {
    "duration": 119,
    "start_time": "2023-09-11T21:13:23.885Z"
   },
   {
    "duration": 0,
    "start_time": "2023-09-11T21:13:24.007Z"
   },
   {
    "duration": 0,
    "start_time": "2023-09-11T21:13:24.009Z"
   },
   {
    "duration": 0,
    "start_time": "2023-09-11T21:13:24.010Z"
   },
   {
    "duration": 0,
    "start_time": "2023-09-11T21:13:24.012Z"
   },
   {
    "duration": 0,
    "start_time": "2023-09-11T21:13:24.013Z"
   },
   {
    "duration": 1,
    "start_time": "2023-09-11T21:13:24.015Z"
   },
   {
    "duration": 0,
    "start_time": "2023-09-11T21:13:24.017Z"
   },
   {
    "duration": 0,
    "start_time": "2023-09-11T21:13:24.019Z"
   },
   {
    "duration": 0,
    "start_time": "2023-09-11T21:13:24.021Z"
   },
   {
    "duration": 0,
    "start_time": "2023-09-11T21:13:24.022Z"
   },
   {
    "duration": 0,
    "start_time": "2023-09-11T21:13:24.024Z"
   },
   {
    "duration": 0,
    "start_time": "2023-09-11T21:13:24.025Z"
   },
   {
    "duration": 0,
    "start_time": "2023-09-11T21:13:24.026Z"
   },
   {
    "duration": 6,
    "start_time": "2023-09-11T21:33:37.601Z"
   },
   {
    "duration": 12,
    "start_time": "2023-09-11T21:33:38.911Z"
   },
   {
    "duration": 300,
    "start_time": "2023-09-12T14:08:07.751Z"
   },
   {
    "duration": 59,
    "start_time": "2023-09-12T14:24:21.710Z"
   },
   {
    "duration": 1528,
    "start_time": "2023-09-12T14:24:26.708Z"
   },
   {
    "duration": 602,
    "start_time": "2023-09-12T14:24:28.238Z"
   },
   {
    "duration": 13,
    "start_time": "2023-09-12T14:24:28.841Z"
   },
   {
    "duration": 34,
    "start_time": "2023-09-12T14:24:28.856Z"
   },
   {
    "duration": 102,
    "start_time": "2023-09-12T14:24:28.892Z"
   },
   {
    "duration": 18,
    "start_time": "2023-09-12T14:24:28.996Z"
   },
   {
    "duration": 148,
    "start_time": "2023-09-12T14:24:29.016Z"
   },
   {
    "duration": 11,
    "start_time": "2023-09-12T14:24:29.166Z"
   },
   {
    "duration": 85,
    "start_time": "2023-09-12T14:24:30.585Z"
   },
   {
    "duration": 86,
    "start_time": "2023-09-12T14:24:36.504Z"
   },
   {
    "duration": 77,
    "start_time": "2023-09-12T14:34:44.659Z"
   },
   {
    "duration": 75,
    "start_time": "2023-09-12T14:35:12.320Z"
   },
   {
    "duration": 25,
    "start_time": "2023-09-12T14:35:23.836Z"
   },
   {
    "duration": 84,
    "start_time": "2023-09-12T14:35:39.765Z"
   },
   {
    "duration": 73,
    "start_time": "2023-09-12T14:36:03.687Z"
   },
   {
    "duration": 11,
    "start_time": "2023-09-12T14:36:07.380Z"
   },
   {
    "duration": 70,
    "start_time": "2023-09-12T14:36:08.396Z"
   },
   {
    "duration": 4,
    "start_time": "2023-09-12T14:36:11.291Z"
   },
   {
    "duration": 191,
    "start_time": "2023-09-12T14:36:11.477Z"
   },
   {
    "duration": 9,
    "start_time": "2023-09-12T14:36:11.670Z"
   },
   {
    "duration": 3,
    "start_time": "2023-09-12T14:36:11.957Z"
   },
   {
    "duration": 22,
    "start_time": "2023-09-12T14:36:12.146Z"
   },
   {
    "duration": 8,
    "start_time": "2023-09-12T14:36:13.267Z"
   },
   {
    "duration": 115,
    "start_time": "2023-09-12T14:36:13.466Z"
   },
   {
    "duration": 10,
    "start_time": "2023-09-12T14:36:14.027Z"
   },
   {
    "duration": 88,
    "start_time": "2023-09-12T14:36:15.117Z"
   },
   {
    "duration": 19,
    "start_time": "2023-09-12T14:36:34.112Z"
   },
   {
    "duration": 4,
    "start_time": "2023-09-12T14:36:40.998Z"
   },
   {
    "duration": 94,
    "start_time": "2023-09-12T14:42:53.960Z"
   },
   {
    "duration": 96,
    "start_time": "2023-09-12T14:42:57.567Z"
   },
   {
    "duration": 22,
    "start_time": "2023-09-12T14:44:46.975Z"
   },
   {
    "duration": 10,
    "start_time": "2023-09-12T14:44:52.311Z"
   },
   {
    "duration": 33,
    "start_time": "2023-09-12T14:44:56.695Z"
   },
   {
    "duration": 23,
    "start_time": "2023-09-12T14:51:49.242Z"
   },
   {
    "duration": 191,
    "start_time": "2023-09-12T14:52:15.198Z"
   },
   {
    "duration": 20,
    "start_time": "2023-09-12T14:53:00.872Z"
   },
   {
    "duration": 146,
    "start_time": "2023-09-12T14:53:06.945Z"
   },
   {
    "duration": 109,
    "start_time": "2023-09-12T14:53:51.877Z"
   },
   {
    "duration": 107,
    "start_time": "2023-09-12T14:55:15.282Z"
   },
   {
    "duration": 79,
    "start_time": "2023-09-12T14:55:18.849Z"
   },
   {
    "duration": 1679,
    "start_time": "2023-09-12T14:55:35.454Z"
   },
   {
    "duration": 33,
    "start_time": "2023-09-12T14:55:49.603Z"
   },
   {
    "duration": 28,
    "start_time": "2023-09-12T14:56:10.550Z"
   },
   {
    "duration": 25,
    "start_time": "2023-09-12T14:56:26.385Z"
   },
   {
    "duration": 22,
    "start_time": "2023-09-12T14:56:43.318Z"
   },
   {
    "duration": 4,
    "start_time": "2023-09-12T14:57:16.238Z"
   },
   {
    "duration": 50,
    "start_time": "2023-09-12T15:05:06.538Z"
   },
   {
    "duration": 290,
    "start_time": "2023-09-12T15:05:06.590Z"
   },
   {
    "duration": 8,
    "start_time": "2023-09-12T15:05:06.883Z"
   },
   {
    "duration": 206,
    "start_time": "2023-09-12T15:05:06.903Z"
   },
   {
    "duration": 87,
    "start_time": "2023-09-12T15:05:07.111Z"
   },
   {
    "duration": 25,
    "start_time": "2023-09-12T15:05:07.201Z"
   },
   {
    "duration": 144,
    "start_time": "2023-09-12T15:05:07.229Z"
   },
   {
    "duration": 10,
    "start_time": "2023-09-12T15:05:07.375Z"
   },
   {
    "duration": 103,
    "start_time": "2023-09-12T15:05:07.386Z"
   },
   {
    "duration": 34,
    "start_time": "2023-09-12T15:05:07.491Z"
   },
   {
    "duration": 29,
    "start_time": "2023-09-12T15:05:07.528Z"
   },
   {
    "duration": 77,
    "start_time": "2023-09-12T15:05:07.559Z"
   },
   {
    "duration": 9,
    "start_time": "2023-09-12T15:05:07.638Z"
   },
   {
    "duration": 44,
    "start_time": "2023-09-12T15:05:07.649Z"
   },
   {
    "duration": 29,
    "start_time": "2023-09-12T15:05:07.694Z"
   },
   {
    "duration": 10,
    "start_time": "2023-09-12T15:05:07.730Z"
   },
   {
    "duration": 20,
    "start_time": "2023-09-12T15:11:58.972Z"
   },
   {
    "duration": 8,
    "start_time": "2023-09-12T15:12:04.952Z"
   },
   {
    "duration": 315,
    "start_time": "2023-09-12T15:14:13.409Z"
   },
   {
    "duration": 14,
    "start_time": "2023-09-12T15:16:49.632Z"
   },
   {
    "duration": 1849,
    "start_time": "2023-09-12T15:17:08.617Z"
   },
   {
    "duration": 2476,
    "start_time": "2023-09-12T15:19:53.961Z"
   },
   {
    "duration": 90,
    "start_time": "2023-09-12T15:20:09.200Z"
   },
   {
    "duration": 1948,
    "start_time": "2023-09-12T15:20:31.225Z"
   },
   {
    "duration": 2083,
    "start_time": "2023-09-12T15:22:32.606Z"
   },
   {
    "duration": 2006,
    "start_time": "2023-09-12T15:27:14.453Z"
   },
   {
    "duration": 1953,
    "start_time": "2023-09-12T15:29:39.371Z"
   },
   {
    "duration": 3065,
    "start_time": "2023-09-12T15:30:01.006Z"
   },
   {
    "duration": 156,
    "start_time": "2023-09-12T15:30:26.468Z"
   },
   {
    "duration": 3,
    "start_time": "2023-09-12T15:30:36.385Z"
   },
   {
    "duration": 173,
    "start_time": "2023-09-12T15:30:36.566Z"
   },
   {
    "duration": 9,
    "start_time": "2023-09-12T15:30:36.772Z"
   },
   {
    "duration": 3,
    "start_time": "2023-09-12T15:30:37.095Z"
   },
   {
    "duration": 26,
    "start_time": "2023-09-12T15:30:37.656Z"
   },
   {
    "duration": 11,
    "start_time": "2023-09-12T15:30:38.461Z"
   },
   {
    "duration": 120,
    "start_time": "2023-09-12T15:30:38.669Z"
   },
   {
    "duration": 14,
    "start_time": "2023-09-12T15:30:42.444Z"
   },
   {
    "duration": 94,
    "start_time": "2023-09-12T15:30:42.574Z"
   },
   {
    "duration": 15,
    "start_time": "2023-09-12T15:30:43.159Z"
   },
   {
    "duration": 4,
    "start_time": "2023-09-12T15:30:43.330Z"
   },
   {
    "duration": 26,
    "start_time": "2023-09-12T15:30:44.287Z"
   },
   {
    "duration": 12,
    "start_time": "2023-09-12T15:30:44.680Z"
   },
   {
    "duration": 23,
    "start_time": "2023-09-12T15:30:45.355Z"
   },
   {
    "duration": 5,
    "start_time": "2023-09-12T15:30:46.038Z"
   },
   {
    "duration": 7,
    "start_time": "2023-09-12T15:30:46.243Z"
   },
   {
    "duration": 232,
    "start_time": "2023-09-12T15:30:46.900Z"
   },
   {
    "duration": 159,
    "start_time": "2023-09-12T15:30:48.388Z"
   },
   {
    "duration": 427,
    "start_time": "2023-09-12T15:31:04.274Z"
   },
   {
    "duration": 154,
    "start_time": "2023-09-12T15:31:37.130Z"
   },
   {
    "duration": 155,
    "start_time": "2023-09-12T15:31:48.151Z"
   },
   {
    "duration": 148,
    "start_time": "2023-09-12T15:37:19.940Z"
   },
   {
    "duration": 11,
    "start_time": "2023-09-12T15:38:51.150Z"
   },
   {
    "duration": 3,
    "start_time": "2023-09-12T15:39:15.548Z"
   },
   {
    "duration": 179,
    "start_time": "2023-09-12T15:39:16.203Z"
   },
   {
    "duration": 9,
    "start_time": "2023-09-12T15:39:16.396Z"
   },
   {
    "duration": 3,
    "start_time": "2023-09-12T15:39:16.730Z"
   },
   {
    "duration": 24,
    "start_time": "2023-09-12T15:39:16.860Z"
   },
   {
    "duration": 10,
    "start_time": "2023-09-12T15:39:17.314Z"
   },
   {
    "duration": 122,
    "start_time": "2023-09-12T15:39:17.482Z"
   },
   {
    "duration": 10,
    "start_time": "2023-09-12T15:39:17.827Z"
   },
   {
    "duration": 77,
    "start_time": "2023-09-12T15:39:18.179Z"
   },
   {
    "duration": 16,
    "start_time": "2023-09-12T15:39:18.525Z"
   },
   {
    "duration": 5,
    "start_time": "2023-09-12T15:39:18.690Z"
   },
   {
    "duration": 22,
    "start_time": "2023-09-12T15:39:19.503Z"
   },
   {
    "duration": 7,
    "start_time": "2023-09-12T15:39:19.790Z"
   },
   {
    "duration": 22,
    "start_time": "2023-09-12T15:39:20.147Z"
   },
   {
    "duration": 5,
    "start_time": "2023-09-12T15:39:20.621Z"
   },
   {
    "duration": 6,
    "start_time": "2023-09-12T15:39:20.781Z"
   },
   {
    "duration": 232,
    "start_time": "2023-09-12T15:39:21.275Z"
   },
   {
    "duration": 11,
    "start_time": "2023-09-12T15:39:22.236Z"
   },
   {
    "duration": 21,
    "start_time": "2023-09-12T15:39:36.288Z"
   },
   {
    "duration": 10,
    "start_time": "2023-09-12T15:40:03.894Z"
   },
   {
    "duration": 71,
    "start_time": "2023-09-12T15:40:57.895Z"
   },
   {
    "duration": 137,
    "start_time": "2023-09-12T15:41:02.449Z"
   },
   {
    "duration": 11,
    "start_time": "2023-09-12T15:41:11.858Z"
   },
   {
    "duration": 12,
    "start_time": "2023-09-12T15:41:41.950Z"
   },
   {
    "duration": 19,
    "start_time": "2023-09-12T15:41:54.703Z"
   },
   {
    "duration": 222,
    "start_time": "2023-09-12T15:42:57.850Z"
   },
   {
    "duration": 221,
    "start_time": "2023-09-12T15:43:09.582Z"
   },
   {
    "duration": 260,
    "start_time": "2023-09-12T15:47:06.412Z"
   },
   {
    "duration": 224,
    "start_time": "2023-09-12T15:49:09.260Z"
   },
   {
    "duration": 237,
    "start_time": "2023-09-12T15:49:19.507Z"
   },
   {
    "duration": 281,
    "start_time": "2023-09-12T15:49:24.758Z"
   },
   {
    "duration": 261,
    "start_time": "2023-09-12T15:50:36.150Z"
   },
   {
    "duration": 150,
    "start_time": "2023-09-12T15:51:51.318Z"
   },
   {
    "duration": 281,
    "start_time": "2023-09-12T15:51:55.475Z"
   },
   {
    "duration": 375,
    "start_time": "2023-09-12T15:52:02.129Z"
   },
   {
    "duration": 20,
    "start_time": "2023-09-12T15:56:16.818Z"
   },
   {
    "duration": 21,
    "start_time": "2023-09-12T15:56:28.116Z"
   },
   {
    "duration": 8,
    "start_time": "2023-09-12T15:56:47.714Z"
   },
   {
    "duration": 6,
    "start_time": "2023-09-12T15:56:57.808Z"
   },
   {
    "duration": 7,
    "start_time": "2023-09-12T15:57:02.025Z"
   },
   {
    "duration": 6,
    "start_time": "2023-09-12T15:57:25.939Z"
   },
   {
    "duration": 10,
    "start_time": "2023-09-12T15:58:53.680Z"
   },
   {
    "duration": 3,
    "start_time": "2023-09-12T15:59:02.247Z"
   },
   {
    "duration": 180,
    "start_time": "2023-09-12T15:59:02.663Z"
   },
   {
    "duration": 9,
    "start_time": "2023-09-12T15:59:02.845Z"
   },
   {
    "duration": 3,
    "start_time": "2023-09-12T15:59:03.125Z"
   },
   {
    "duration": 22,
    "start_time": "2023-09-12T15:59:03.272Z"
   },
   {
    "duration": 8,
    "start_time": "2023-09-12T15:59:03.776Z"
   },
   {
    "duration": 109,
    "start_time": "2023-09-12T15:59:03.937Z"
   },
   {
    "duration": 10,
    "start_time": "2023-09-12T15:59:04.090Z"
   },
   {
    "duration": 75,
    "start_time": "2023-09-12T15:59:04.409Z"
   },
   {
    "duration": 18,
    "start_time": "2023-09-12T15:59:04.756Z"
   },
   {
    "duration": 4,
    "start_time": "2023-09-12T15:59:05.067Z"
   },
   {
    "duration": 21,
    "start_time": "2023-09-12T15:59:05.930Z"
   },
   {
    "duration": 9,
    "start_time": "2023-09-12T15:59:06.249Z"
   },
   {
    "duration": 23,
    "start_time": "2023-09-12T15:59:06.601Z"
   },
   {
    "duration": 5,
    "start_time": "2023-09-12T15:59:07.425Z"
   },
   {
    "duration": 5,
    "start_time": "2023-09-12T15:59:07.856Z"
   },
   {
    "duration": 223,
    "start_time": "2023-09-12T15:59:08.333Z"
   },
   {
    "duration": 236,
    "start_time": "2023-09-12T15:59:08.647Z"
   },
   {
    "duration": 336,
    "start_time": "2023-09-12T15:59:09.619Z"
   },
   {
    "duration": 212,
    "start_time": "2023-09-12T15:59:10.632Z"
   },
   {
    "duration": 8,
    "start_time": "2023-09-12T15:59:10.846Z"
   },
   {
    "duration": 22,
    "start_time": "2023-09-12T15:59:11.396Z"
   },
   {
    "duration": 19,
    "start_time": "2023-09-12T15:59:12.223Z"
   },
   {
    "duration": 19,
    "start_time": "2023-09-12T15:59:12.391Z"
   },
   {
    "duration": 6,
    "start_time": "2023-09-12T15:59:13.034Z"
   },
   {
    "duration": 21,
    "start_time": "2023-09-12T16:00:01.276Z"
   },
   {
    "duration": 28,
    "start_time": "2023-09-12T16:04:48.391Z"
   },
   {
    "duration": 28,
    "start_time": "2023-09-12T16:05:32.100Z"
   },
   {
    "duration": 165,
    "start_time": "2023-09-12T16:05:36.386Z"
   },
   {
    "duration": 173,
    "start_time": "2023-09-12T16:05:42.280Z"
   },
   {
    "duration": 153,
    "start_time": "2023-09-12T16:05:46.631Z"
   },
   {
    "duration": 28,
    "start_time": "2023-09-12T16:06:03.897Z"
   },
   {
    "duration": 186,
    "start_time": "2023-09-12T16:06:24.678Z"
   },
   {
    "duration": 140,
    "start_time": "2023-09-12T16:07:00.326Z"
   },
   {
    "duration": 146,
    "start_time": "2023-09-12T16:07:09.198Z"
   },
   {
    "duration": 153,
    "start_time": "2023-09-12T16:07:13.092Z"
   },
   {
    "duration": 168,
    "start_time": "2023-09-12T16:07:22.410Z"
   },
   {
    "duration": 15,
    "start_time": "2023-09-12T16:12:34.576Z"
   },
   {
    "duration": 122,
    "start_time": "2023-09-12T16:12:38.512Z"
   },
   {
    "duration": 7,
    "start_time": "2023-09-12T16:12:40.118Z"
   },
   {
    "duration": 11,
    "start_time": "2023-09-12T16:12:41.723Z"
   },
   {
    "duration": 118,
    "start_time": "2023-09-12T16:13:34.389Z"
   },
   {
    "duration": 6,
    "start_time": "2023-09-12T16:13:45.244Z"
   },
   {
    "duration": 150,
    "start_time": "2023-09-12T16:13:55.034Z"
   },
   {
    "duration": 45,
    "start_time": "2023-09-12T16:14:04.211Z"
   },
   {
    "duration": 6,
    "start_time": "2023-09-12T16:14:50.943Z"
   },
   {
    "duration": 15,
    "start_time": "2023-09-12T16:15:51.076Z"
   },
   {
    "duration": 6,
    "start_time": "2023-09-12T16:16:15.533Z"
   },
   {
    "duration": 384,
    "start_time": "2023-09-12T16:16:31.451Z"
   },
   {
    "duration": 26,
    "start_time": "2023-09-12T16:17:40.795Z"
   },
   {
    "duration": 29,
    "start_time": "2023-09-12T16:17:48.547Z"
   },
   {
    "duration": 26,
    "start_time": "2023-09-12T16:17:58.200Z"
   },
   {
    "duration": 27,
    "start_time": "2023-09-12T16:18:26.216Z"
   },
   {
    "duration": 12,
    "start_time": "2023-09-12T16:24:14.757Z"
   },
   {
    "duration": 11,
    "start_time": "2023-09-12T16:24:48.359Z"
   },
   {
    "duration": 3,
    "start_time": "2023-09-12T16:25:05.137Z"
   },
   {
    "duration": 9,
    "start_time": "2023-09-12T16:25:11.038Z"
   },
   {
    "duration": 124,
    "start_time": "2023-09-12T16:26:43.437Z"
   },
   {
    "duration": 59,
    "start_time": "2023-09-12T16:29:15.470Z"
   },
   {
    "duration": 19,
    "start_time": "2023-09-12T16:29:52.099Z"
   },
   {
    "duration": 17,
    "start_time": "2023-09-12T16:30:01.986Z"
   },
   {
    "duration": 16,
    "start_time": "2023-09-12T16:30:17.819Z"
   },
   {
    "duration": 10,
    "start_time": "2023-09-12T16:30:47.716Z"
   },
   {
    "duration": 22,
    "start_time": "2023-09-12T16:30:50.324Z"
   },
   {
    "duration": 25,
    "start_time": "2023-09-12T16:30:57.792Z"
   },
   {
    "duration": 15,
    "start_time": "2023-09-12T16:31:10.014Z"
   },
   {
    "duration": 10,
    "start_time": "2023-09-12T16:31:20.310Z"
   },
   {
    "duration": 11,
    "start_time": "2023-09-12T16:31:53.942Z"
   },
   {
    "duration": 13,
    "start_time": "2023-09-12T16:32:24.271Z"
   },
   {
    "duration": 14,
    "start_time": "2023-09-12T16:32:31.608Z"
   },
   {
    "duration": 12,
    "start_time": "2023-09-12T16:33:13.906Z"
   },
   {
    "duration": 12,
    "start_time": "2023-09-12T16:33:19.532Z"
   },
   {
    "duration": 12,
    "start_time": "2023-09-12T16:33:25.071Z"
   },
   {
    "duration": 12,
    "start_time": "2023-09-12T16:33:28.609Z"
   },
   {
    "duration": 12,
    "start_time": "2023-09-12T16:33:31.801Z"
   },
   {
    "duration": 11,
    "start_time": "2023-09-12T16:33:35.422Z"
   },
   {
    "duration": 11,
    "start_time": "2023-09-12T16:34:58.818Z"
   },
   {
    "duration": 11,
    "start_time": "2023-09-12T16:35:07.200Z"
   },
   {
    "duration": 12,
    "start_time": "2023-09-12T16:35:12.925Z"
   },
   {
    "duration": 1453,
    "start_time": "2023-09-12T20:38:08.297Z"
   },
   {
    "duration": 636,
    "start_time": "2023-09-12T20:38:09.754Z"
   },
   {
    "duration": 11,
    "start_time": "2023-09-12T20:38:10.392Z"
   },
   {
    "duration": 2,
    "start_time": "2023-09-12T20:38:10.404Z"
   },
   {
    "duration": 21,
    "start_time": "2023-09-12T20:38:10.408Z"
   },
   {
    "duration": 10,
    "start_time": "2023-09-12T20:38:10.431Z"
   },
   {
    "duration": 131,
    "start_time": "2023-09-12T20:38:10.442Z"
   },
   {
    "duration": 9,
    "start_time": "2023-09-12T20:38:10.575Z"
   },
   {
    "duration": 85,
    "start_time": "2023-09-12T20:38:10.585Z"
   },
   {
    "duration": 16,
    "start_time": "2023-09-12T20:38:10.672Z"
   },
   {
    "duration": 4,
    "start_time": "2023-09-12T20:38:10.689Z"
   },
   {
    "duration": 24,
    "start_time": "2023-09-12T20:38:10.694Z"
   },
   {
    "duration": 7,
    "start_time": "2023-09-12T20:38:10.720Z"
   },
   {
    "duration": 44,
    "start_time": "2023-09-12T20:38:10.729Z"
   },
   {
    "duration": 6,
    "start_time": "2023-09-12T20:38:10.775Z"
   },
   {
    "duration": 16,
    "start_time": "2023-09-12T20:38:10.783Z"
   },
   {
    "duration": 305,
    "start_time": "2023-09-12T20:38:10.801Z"
   },
   {
    "duration": 204,
    "start_time": "2023-09-12T20:38:11.107Z"
   },
   {
    "duration": 312,
    "start_time": "2023-09-12T20:38:11.313Z"
   },
   {
    "duration": 190,
    "start_time": "2023-09-12T20:38:11.627Z"
   },
   {
    "duration": 7,
    "start_time": "2023-09-12T20:38:11.819Z"
   },
   {
    "duration": 38,
    "start_time": "2023-09-12T20:38:11.827Z"
   },
   {
    "duration": 16,
    "start_time": "2023-09-12T20:38:11.873Z"
   },
   {
    "duration": 15,
    "start_time": "2023-09-12T20:38:11.891Z"
   },
   {
    "duration": 5,
    "start_time": "2023-09-12T20:38:11.907Z"
   },
   {
    "duration": 43,
    "start_time": "2023-09-12T20:38:11.914Z"
   },
   {
    "duration": 151,
    "start_time": "2023-09-12T20:38:11.958Z"
   },
   {
    "duration": 84,
    "start_time": "2023-09-12T20:38:12.111Z"
   },
   {
    "duration": 181,
    "start_time": "2023-09-12T20:38:12.196Z"
   },
   {
    "duration": 6,
    "start_time": "2023-09-12T20:38:12.379Z"
   },
   {
    "duration": 19,
    "start_time": "2023-09-12T20:38:12.386Z"
   },
   {
    "duration": 19,
    "start_time": "2023-09-12T20:38:12.407Z"
   },
   {
    "duration": 48,
    "start_time": "2023-09-12T20:38:12.450Z"
   },
   {
    "duration": 38,
    "start_time": "2023-09-12T20:38:12.550Z"
   },
   {
    "duration": 24,
    "start_time": "2023-09-12T20:38:12.589Z"
   },
   {
    "duration": 5,
    "start_time": "2023-09-12T20:38:12.615Z"
   },
   {
    "duration": 33,
    "start_time": "2023-09-12T20:38:12.621Z"
   },
   {
    "duration": 70,
    "start_time": "2023-09-12T20:38:12.666Z"
   },
   {
    "duration": 8,
    "start_time": "2023-09-12T20:38:12.737Z"
   },
   {
    "duration": 142,
    "start_time": "2023-09-12T20:38:12.746Z"
   },
   {
    "duration": 0,
    "start_time": "2023-09-12T20:38:12.890Z"
   },
   {
    "duration": 0,
    "start_time": "2023-09-12T20:38:12.892Z"
   },
   {
    "duration": 0,
    "start_time": "2023-09-12T20:38:12.892Z"
   },
   {
    "duration": 0,
    "start_time": "2023-09-12T20:38:12.894Z"
   },
   {
    "duration": 0,
    "start_time": "2023-09-12T20:38:12.895Z"
   },
   {
    "duration": 0,
    "start_time": "2023-09-12T20:38:12.896Z"
   },
   {
    "duration": 0,
    "start_time": "2023-09-12T20:38:12.897Z"
   },
   {
    "duration": 0,
    "start_time": "2023-09-12T20:38:12.898Z"
   },
   {
    "duration": 0,
    "start_time": "2023-09-12T20:38:12.899Z"
   },
   {
    "duration": 0,
    "start_time": "2023-09-12T20:38:12.901Z"
   },
   {
    "duration": 0,
    "start_time": "2023-09-12T20:38:12.902Z"
   },
   {
    "duration": 0,
    "start_time": "2023-09-12T20:38:12.903Z"
   },
   {
    "duration": 0,
    "start_time": "2023-09-12T20:38:12.905Z"
   },
   {
    "duration": 195,
    "start_time": "2023-09-12T20:39:08.485Z"
   },
   {
    "duration": 20,
    "start_time": "2023-09-12T20:39:21.403Z"
   },
   {
    "duration": 18,
    "start_time": "2023-09-12T20:39:32.005Z"
   },
   {
    "duration": 10,
    "start_time": "2023-09-12T20:39:42.609Z"
   },
   {
    "duration": 10,
    "start_time": "2023-09-12T20:39:54.397Z"
   },
   {
    "duration": 11,
    "start_time": "2023-09-12T20:40:10.878Z"
   },
   {
    "duration": 6,
    "start_time": "2023-09-12T20:40:24.116Z"
   },
   {
    "duration": 97,
    "start_time": "2023-09-12T20:41:01.668Z"
   },
   {
    "duration": 100,
    "start_time": "2023-09-12T20:41:15.169Z"
   },
   {
    "duration": 127,
    "start_time": "2023-09-12T20:41:42.746Z"
   },
   {
    "duration": 99,
    "start_time": "2023-09-12T20:41:55.489Z"
   },
   {
    "duration": 99,
    "start_time": "2023-09-12T20:42:09.719Z"
   },
   {
    "duration": 99,
    "start_time": "2023-09-12T20:45:07.011Z"
   },
   {
    "duration": 20,
    "start_time": "2023-09-12T20:56:32.718Z"
   },
   {
    "duration": 9,
    "start_time": "2023-09-12T20:56:54.717Z"
   },
   {
    "duration": 32,
    "start_time": "2023-09-12T20:59:52.184Z"
   },
   {
    "duration": 20,
    "start_time": "2023-09-12T21:00:16.905Z"
   },
   {
    "duration": 21,
    "start_time": "2023-09-12T21:00:49.075Z"
   },
   {
    "duration": 21,
    "start_time": "2023-09-12T21:00:58.029Z"
   },
   {
    "duration": 37,
    "start_time": "2023-09-12T21:06:42.995Z"
   },
   {
    "duration": 38,
    "start_time": "2023-09-12T21:06:48.090Z"
   },
   {
    "duration": 30,
    "start_time": "2023-09-12T21:07:46.285Z"
   },
   {
    "duration": 23,
    "start_time": "2023-09-12T21:07:46.876Z"
   },
   {
    "duration": 10,
    "start_time": "2023-09-12T21:07:47.946Z"
   },
   {
    "duration": 28,
    "start_time": "2023-09-12T21:10:43.097Z"
   },
   {
    "duration": 31,
    "start_time": "2023-09-12T21:10:47.032Z"
   },
   {
    "duration": 37,
    "start_time": "2023-09-12T21:11:19.744Z"
   },
   {
    "duration": 23,
    "start_time": "2023-09-12T21:11:35.124Z"
   },
   {
    "duration": 22,
    "start_time": "2023-09-12T21:11:44.326Z"
   },
   {
    "duration": 22,
    "start_time": "2023-09-12T21:11:44.976Z"
   },
   {
    "duration": 4,
    "start_time": "2023-09-12T21:11:47.084Z"
   },
   {
    "duration": 4,
    "start_time": "2023-09-12T21:11:49.403Z"
   },
   {
    "duration": 33,
    "start_time": "2023-09-12T21:16:00.630Z"
   },
   {
    "duration": 24,
    "start_time": "2023-09-12T21:16:01.115Z"
   },
   {
    "duration": 5,
    "start_time": "2023-09-12T21:16:03.006Z"
   },
   {
    "duration": 7,
    "start_time": "2023-09-12T21:16:03.072Z"
   },
   {
    "duration": 13,
    "start_time": "2023-09-12T21:20:30.250Z"
   },
   {
    "duration": 4,
    "start_time": "2023-09-12T21:20:31.279Z"
   },
   {
    "duration": 83,
    "start_time": "2023-09-12T21:22:38.915Z"
   },
   {
    "duration": 7,
    "start_time": "2023-09-12T21:22:39.629Z"
   },
   {
    "duration": 7,
    "start_time": "2023-09-12T21:24:15.172Z"
   },
   {
    "duration": 10,
    "start_time": "2023-09-12T21:24:32.676Z"
   },
   {
    "duration": 2444,
    "start_time": "2023-09-12T21:28:47.626Z"
   },
   {
    "duration": 34,
    "start_time": "2023-09-12T21:28:54.591Z"
   },
   {
    "duration": 44,
    "start_time": "2023-09-12T21:29:00.030Z"
   },
   {
    "duration": 41,
    "start_time": "2023-09-12T21:29:08.475Z"
   },
   {
    "duration": 37,
    "start_time": "2023-09-12T21:29:23.217Z"
   },
   {
    "duration": 47,
    "start_time": "2023-09-12T21:29:27.417Z"
   },
   {
    "duration": 37,
    "start_time": "2023-09-12T21:29:57.547Z"
   },
   {
    "duration": 22,
    "start_time": "2023-09-12T21:29:58.095Z"
   },
   {
    "duration": 10,
    "start_time": "2023-09-12T21:30:00.605Z"
   },
   {
    "duration": 29,
    "start_time": "2023-09-12T21:30:16.606Z"
   },
   {
    "duration": 35,
    "start_time": "2023-09-12T21:30:19.100Z"
   },
   {
    "duration": 35,
    "start_time": "2023-09-12T21:30:23.982Z"
   },
   {
    "duration": 5,
    "start_time": "2023-09-12T21:30:41.689Z"
   },
   {
    "duration": 4,
    "start_time": "2023-09-12T21:30:43.417Z"
   },
   {
    "duration": 71,
    "start_time": "2023-09-12T21:30:56.376Z"
   },
   {
    "duration": 6,
    "start_time": "2023-09-12T21:30:57.810Z"
   },
   {
    "duration": 17,
    "start_time": "2023-09-12T21:31:06.076Z"
   },
   {
    "duration": 77,
    "start_time": "2023-09-12T21:36:43.194Z"
   },
   {
    "duration": 6,
    "start_time": "2023-09-12T21:36:44.075Z"
   },
   {
    "duration": 4,
    "start_time": "2023-09-12T21:36:46.584Z"
   },
   {
    "duration": 12,
    "start_time": "2023-09-12T21:36:47.119Z"
   },
   {
    "duration": 10,
    "start_time": "2023-09-12T21:37:00.190Z"
   },
   {
    "duration": 1612,
    "start_time": "2023-09-12T21:37:04.750Z"
   },
   {
    "duration": 13,
    "start_time": "2023-09-12T21:37:26.490Z"
   },
   {
    "duration": 12,
    "start_time": "2023-09-12T21:37:50.336Z"
   },
   {
    "duration": 1441,
    "start_time": "2023-09-12T21:38:17.773Z"
   },
   {
    "duration": 1479,
    "start_time": "2023-09-12T21:38:25.526Z"
   },
   {
    "duration": 5,
    "start_time": "2023-09-12T21:39:24.078Z"
   },
   {
    "duration": 16,
    "start_time": "2023-09-12T21:39:33.603Z"
   },
   {
    "duration": 1130,
    "start_time": "2023-09-12T21:40:14.365Z"
   },
   {
    "duration": 12,
    "start_time": "2023-09-12T21:40:27.077Z"
   },
   {
    "duration": 10,
    "start_time": "2023-09-12T21:41:02.591Z"
   },
   {
    "duration": 5,
    "start_time": "2023-09-12T21:41:06.932Z"
   },
   {
    "duration": 6,
    "start_time": "2023-09-12T21:41:11.166Z"
   },
   {
    "duration": 12,
    "start_time": "2023-09-12T21:41:30.943Z"
   },
   {
    "duration": 11,
    "start_time": "2023-09-12T21:41:58.074Z"
   },
   {
    "duration": 5,
    "start_time": "2023-09-12T21:41:59.372Z"
   },
   {
    "duration": 9,
    "start_time": "2023-09-12T21:41:59.799Z"
   },
   {
    "duration": 4,
    "start_time": "2023-09-12T21:42:38.884Z"
   },
   {
    "duration": 8,
    "start_time": "2023-09-12T21:42:44.898Z"
   },
   {
    "duration": 7,
    "start_time": "2023-09-12T21:42:48.377Z"
   },
   {
    "duration": 14,
    "start_time": "2023-09-12T21:42:49.068Z"
   },
   {
    "duration": 5,
    "start_time": "2023-09-12T21:42:52.419Z"
   },
   {
    "duration": 9,
    "start_time": "2023-09-12T21:42:52.935Z"
   },
   {
    "duration": 75,
    "start_time": "2023-09-12T21:43:01.180Z"
   },
   {
    "duration": 7,
    "start_time": "2023-09-12T21:43:01.538Z"
   },
   {
    "duration": 5,
    "start_time": "2023-09-12T21:43:02.975Z"
   },
   {
    "duration": 10,
    "start_time": "2023-09-12T21:43:03.474Z"
   },
   {
    "duration": 5,
    "start_time": "2023-09-12T21:46:14.576Z"
   },
   {
    "duration": 8,
    "start_time": "2023-09-12T21:46:15.104Z"
   },
   {
    "duration": 8,
    "start_time": "2023-09-12T21:46:23.375Z"
   },
   {
    "duration": 5,
    "start_time": "2023-09-12T21:46:44.436Z"
   },
   {
    "duration": 8,
    "start_time": "2023-09-12T21:46:44.936Z"
   },
   {
    "duration": 20,
    "start_time": "2023-09-12T21:47:04.043Z"
   },
   {
    "duration": 8,
    "start_time": "2023-09-12T21:47:39.015Z"
   },
   {
    "duration": 70,
    "start_time": "2023-09-12T21:47:50.184Z"
   },
   {
    "duration": 6,
    "start_time": "2023-09-12T21:47:50.588Z"
   },
   {
    "duration": 4,
    "start_time": "2023-09-12T21:47:51.414Z"
   },
   {
    "duration": 8,
    "start_time": "2023-09-12T21:47:51.577Z"
   },
   {
    "duration": 12,
    "start_time": "2023-09-12T21:48:45.961Z"
   },
   {
    "duration": 5,
    "start_time": "2023-09-12T21:49:08.009Z"
   },
   {
    "duration": 9,
    "start_time": "2023-09-12T21:49:08.413Z"
   },
   {
    "duration": 5,
    "start_time": "2023-09-12T21:49:42.795Z"
   },
   {
    "duration": 10,
    "start_time": "2023-09-12T21:49:43.179Z"
   },
   {
    "duration": 8,
    "start_time": "2023-09-12T21:50:21.834Z"
   },
   {
    "duration": 5,
    "start_time": "2023-09-12T21:50:33.132Z"
   },
   {
    "duration": 5,
    "start_time": "2023-09-12T21:50:51.319Z"
   },
   {
    "duration": 10,
    "start_time": "2023-09-12T21:50:51.816Z"
   },
   {
    "duration": 5,
    "start_time": "2023-09-12T21:51:12.977Z"
   },
   {
    "duration": 11,
    "start_time": "2023-09-12T21:51:13.413Z"
   },
   {
    "duration": 5,
    "start_time": "2023-09-12T21:51:19.978Z"
   },
   {
    "duration": 8,
    "start_time": "2023-09-12T21:51:20.403Z"
   },
   {
    "duration": 7,
    "start_time": "2023-09-12T21:52:37.668Z"
   },
   {
    "duration": 8,
    "start_time": "2023-09-12T21:52:38.079Z"
   },
   {
    "duration": 5,
    "start_time": "2023-09-12T21:53:10.513Z"
   },
   {
    "duration": 9,
    "start_time": "2023-09-12T21:53:11.476Z"
   },
   {
    "duration": 8,
    "start_time": "2023-09-12T21:53:25.225Z"
   },
   {
    "duration": 4,
    "start_time": "2023-09-12T21:55:27.678Z"
   },
   {
    "duration": 8,
    "start_time": "2023-09-12T21:55:28.377Z"
   },
   {
    "duration": 5,
    "start_time": "2023-09-12T21:55:33.687Z"
   },
   {
    "duration": 8,
    "start_time": "2023-09-12T21:55:34.198Z"
   },
   {
    "duration": 7,
    "start_time": "2023-09-12T21:58:48.957Z"
   },
   {
    "duration": 7,
    "start_time": "2023-09-12T21:59:07.614Z"
   },
   {
    "duration": 1186,
    "start_time": "2023-09-12T22:00:17.518Z"
   },
   {
    "duration": 172,
    "start_time": "2023-09-12T22:00:18.706Z"
   },
   {
    "duration": 11,
    "start_time": "2023-09-12T22:00:18.879Z"
   },
   {
    "duration": 2,
    "start_time": "2023-09-12T22:00:18.892Z"
   },
   {
    "duration": 30,
    "start_time": "2023-09-12T22:00:18.896Z"
   },
   {
    "duration": 28,
    "start_time": "2023-09-12T22:00:18.928Z"
   },
   {
    "duration": 122,
    "start_time": "2023-09-12T22:00:18.958Z"
   },
   {
    "duration": 16,
    "start_time": "2023-09-12T22:00:19.082Z"
   },
   {
    "duration": 98,
    "start_time": "2023-09-12T22:00:19.100Z"
   },
   {
    "duration": 16,
    "start_time": "2023-09-12T22:00:19.200Z"
   },
   {
    "duration": 3,
    "start_time": "2023-09-12T22:00:19.218Z"
   },
   {
    "duration": 39,
    "start_time": "2023-09-12T22:00:19.222Z"
   },
   {
    "duration": 8,
    "start_time": "2023-09-12T22:00:19.263Z"
   },
   {
    "duration": 22,
    "start_time": "2023-09-12T22:00:19.274Z"
   },
   {
    "duration": 127,
    "start_time": "2023-09-12T22:00:19.297Z"
   },
   {
    "duration": 5,
    "start_time": "2023-09-12T22:00:19.425Z"
   },
   {
    "duration": 7,
    "start_time": "2023-09-12T22:00:19.431Z"
   },
   {
    "duration": 299,
    "start_time": "2023-09-12T22:00:19.440Z"
   },
   {
    "duration": 195,
    "start_time": "2023-09-12T22:00:19.740Z"
   },
   {
    "duration": 432,
    "start_time": "2023-09-12T22:00:19.936Z"
   },
   {
    "duration": 191,
    "start_time": "2023-09-12T22:00:20.369Z"
   },
   {
    "duration": 6,
    "start_time": "2023-09-12T22:00:20.561Z"
   },
   {
    "duration": 26,
    "start_time": "2023-09-12T22:00:20.569Z"
   },
   {
    "duration": 16,
    "start_time": "2023-09-12T22:00:20.597Z"
   },
   {
    "duration": 17,
    "start_time": "2023-09-12T22:00:20.615Z"
   },
   {
    "duration": 14,
    "start_time": "2023-09-12T22:00:20.633Z"
   },
   {
    "duration": 26,
    "start_time": "2023-09-12T22:00:20.648Z"
   },
   {
    "duration": 182,
    "start_time": "2023-09-12T22:00:20.675Z"
   },
   {
    "duration": 91,
    "start_time": "2023-09-12T22:00:20.859Z"
   },
   {
    "duration": 247,
    "start_time": "2023-09-12T22:00:20.952Z"
   },
   {
    "duration": 6,
    "start_time": "2023-09-12T22:00:21.201Z"
   },
   {
    "duration": 20,
    "start_time": "2023-09-12T22:00:21.208Z"
   },
   {
    "duration": 5,
    "start_time": "2023-09-12T22:00:21.230Z"
   },
   {
    "duration": 38,
    "start_time": "2023-09-12T22:00:21.249Z"
   },
   {
    "duration": 89,
    "start_time": "2023-09-12T22:00:21.288Z"
   },
   {
    "duration": 27,
    "start_time": "2023-09-12T22:00:21.378Z"
   },
   {
    "duration": 24,
    "start_time": "2023-09-12T22:00:21.406Z"
   },
   {
    "duration": 19,
    "start_time": "2023-09-12T22:00:21.432Z"
   },
   {
    "duration": 7,
    "start_time": "2023-09-12T22:00:21.453Z"
   },
   {
    "duration": 76,
    "start_time": "2023-09-12T22:00:21.461Z"
   },
   {
    "duration": 7,
    "start_time": "2023-09-12T22:00:21.551Z"
   },
   {
    "duration": 6,
    "start_time": "2023-09-12T22:00:21.559Z"
   },
   {
    "duration": 10,
    "start_time": "2023-09-12T22:00:21.566Z"
   },
   {
    "duration": 5,
    "start_time": "2023-09-12T22:00:21.578Z"
   },
   {
    "duration": 11,
    "start_time": "2023-09-12T22:00:21.584Z"
   },
   {
    "duration": 8,
    "start_time": "2023-09-12T22:00:21.596Z"
   },
   {
    "duration": 26,
    "start_time": "2023-09-12T22:00:21.606Z"
   },
   {
    "duration": 20,
    "start_time": "2023-09-12T22:00:21.633Z"
   },
   {
    "duration": 18,
    "start_time": "2023-09-12T22:00:21.655Z"
   },
   {
    "duration": 1455,
    "start_time": "2023-09-13T18:34:02.241Z"
   },
   {
    "duration": 585,
    "start_time": "2023-09-13T18:34:03.702Z"
   },
   {
    "duration": 20,
    "start_time": "2023-09-13T18:34:04.289Z"
   },
   {
    "duration": 29,
    "start_time": "2023-09-13T18:34:04.313Z"
   },
   {
    "duration": 38,
    "start_time": "2023-09-13T18:34:04.344Z"
   },
   {
    "duration": 15,
    "start_time": "2023-09-13T18:34:04.384Z"
   },
   {
    "duration": 135,
    "start_time": "2023-09-13T18:34:04.401Z"
   },
   {
    "duration": 18,
    "start_time": "2023-09-13T18:34:04.539Z"
   },
   {
    "duration": 158,
    "start_time": "2023-09-13T18:34:04.559Z"
   },
   {
    "duration": 24,
    "start_time": "2023-09-13T18:34:04.721Z"
   },
   {
    "duration": 5,
    "start_time": "2023-09-13T18:34:04.747Z"
   },
   {
    "duration": 42,
    "start_time": "2023-09-13T18:34:04.754Z"
   },
   {
    "duration": 15,
    "start_time": "2023-09-13T18:34:04.798Z"
   },
   {
    "duration": 30,
    "start_time": "2023-09-13T18:34:04.821Z"
   },
   {
    "duration": 167,
    "start_time": "2023-09-13T18:34:04.853Z"
   },
   {
    "duration": 5,
    "start_time": "2023-09-13T18:34:05.022Z"
   },
   {
    "duration": 10,
    "start_time": "2023-09-13T18:34:05.029Z"
   },
   {
    "duration": 331,
    "start_time": "2023-09-13T18:34:05.041Z"
   },
   {
    "duration": 243,
    "start_time": "2023-09-13T18:34:05.373Z"
   },
   {
    "duration": 365,
    "start_time": "2023-09-13T18:34:05.618Z"
   },
   {
    "duration": 223,
    "start_time": "2023-09-13T18:34:05.985Z"
   },
   {
    "duration": 8,
    "start_time": "2023-09-13T18:34:06.211Z"
   },
   {
    "duration": 47,
    "start_time": "2023-09-13T18:34:06.221Z"
   },
   {
    "duration": 20,
    "start_time": "2023-09-13T18:34:06.270Z"
   },
   {
    "duration": 41,
    "start_time": "2023-09-13T18:34:06.292Z"
   },
   {
    "duration": 20,
    "start_time": "2023-09-13T18:34:06.335Z"
   },
   {
    "duration": 34,
    "start_time": "2023-09-13T18:34:06.357Z"
   },
   {
    "duration": 191,
    "start_time": "2023-09-13T18:34:06.394Z"
   },
   {
    "duration": 91,
    "start_time": "2023-09-13T18:34:06.586Z"
   },
   {
    "duration": 1129,
    "start_time": "2023-09-13T18:34:06.679Z"
   },
   {
    "duration": 7,
    "start_time": "2023-09-13T18:34:07.813Z"
   },
   {
    "duration": 93,
    "start_time": "2023-09-13T18:34:07.822Z"
   },
   {
    "duration": 34,
    "start_time": "2023-09-13T18:34:07.916Z"
   },
   {
    "duration": 66,
    "start_time": "2023-09-13T18:34:07.952Z"
   },
   {
    "duration": 64,
    "start_time": "2023-09-13T18:34:08.020Z"
   },
   {
    "duration": 33,
    "start_time": "2023-09-13T18:34:08.085Z"
   },
   {
    "duration": 26,
    "start_time": "2023-09-13T18:34:08.120Z"
   },
   {
    "duration": 137,
    "start_time": "2023-09-13T18:34:08.147Z"
   },
   {
    "duration": 29,
    "start_time": "2023-09-13T18:34:08.286Z"
   },
   {
    "duration": 103,
    "start_time": "2023-09-13T18:34:08.317Z"
   },
   {
    "duration": 7,
    "start_time": "2023-09-13T18:34:08.421Z"
   },
   {
    "duration": 21,
    "start_time": "2023-09-13T18:34:08.430Z"
   },
   {
    "duration": 15,
    "start_time": "2023-09-13T18:34:08.453Z"
   },
   {
    "duration": 11,
    "start_time": "2023-09-13T18:34:08.470Z"
   },
   {
    "duration": 14,
    "start_time": "2023-09-13T18:34:08.483Z"
   },
   {
    "duration": 11,
    "start_time": "2023-09-13T18:34:08.503Z"
   },
   {
    "duration": 59,
    "start_time": "2023-09-13T18:34:08.515Z"
   },
   {
    "duration": 39,
    "start_time": "2023-09-13T18:34:08.576Z"
   },
   {
    "duration": 27,
    "start_time": "2023-09-13T18:34:08.618Z"
   },
   {
    "duration": 5,
    "start_time": "2023-09-13T18:38:56.575Z"
   },
   {
    "duration": 7,
    "start_time": "2023-09-13T18:39:07.916Z"
   },
   {
    "duration": 1489,
    "start_time": "2023-09-13T20:19:59.737Z"
   },
   {
    "duration": 656,
    "start_time": "2023-09-13T20:20:01.229Z"
   },
   {
    "duration": 11,
    "start_time": "2023-09-13T20:20:01.887Z"
   },
   {
    "duration": 62,
    "start_time": "2023-09-13T20:20:01.899Z"
   },
   {
    "duration": 128,
    "start_time": "2023-09-13T20:20:01.963Z"
   },
   {
    "duration": 119,
    "start_time": "2023-09-13T20:20:02.093Z"
   },
   {
    "duration": 209,
    "start_time": "2023-09-13T20:20:02.214Z"
   },
   {
    "duration": 10,
    "start_time": "2023-09-13T20:20:02.425Z"
   },
   {
    "duration": 133,
    "start_time": "2023-09-13T20:20:02.436Z"
   },
   {
    "duration": 16,
    "start_time": "2023-09-13T20:20:02.571Z"
   },
   {
    "duration": 54,
    "start_time": "2023-09-13T20:20:02.589Z"
   },
   {
    "duration": 56,
    "start_time": "2023-09-13T20:20:02.645Z"
   },
   {
    "duration": 40,
    "start_time": "2023-09-13T20:20:02.703Z"
   },
   {
    "duration": 51,
    "start_time": "2023-09-13T20:20:02.746Z"
   },
   {
    "duration": 125,
    "start_time": "2023-09-13T20:20:02.798Z"
   },
   {
    "duration": 4,
    "start_time": "2023-09-13T20:20:02.925Z"
   },
   {
    "duration": 17,
    "start_time": "2023-09-13T20:20:02.930Z"
   },
   {
    "duration": 325,
    "start_time": "2023-09-13T20:20:02.948Z"
   },
   {
    "duration": 230,
    "start_time": "2023-09-13T20:20:03.275Z"
   },
   {
    "duration": 369,
    "start_time": "2023-09-13T20:20:03.506Z"
   },
   {
    "duration": 212,
    "start_time": "2023-09-13T20:20:03.877Z"
   },
   {
    "duration": 6,
    "start_time": "2023-09-13T20:20:04.091Z"
   },
   {
    "duration": 29,
    "start_time": "2023-09-13T20:20:04.099Z"
   },
   {
    "duration": 34,
    "start_time": "2023-09-13T20:20:04.130Z"
   },
   {
    "duration": 19,
    "start_time": "2023-09-13T20:20:04.166Z"
   },
   {
    "duration": 8,
    "start_time": "2023-09-13T20:20:04.187Z"
   },
   {
    "duration": 57,
    "start_time": "2023-09-13T20:20:04.196Z"
   },
   {
    "duration": 180,
    "start_time": "2023-09-13T20:20:04.254Z"
   },
   {
    "duration": 78,
    "start_time": "2023-09-13T20:20:04.436Z"
   },
   {
    "duration": 314,
    "start_time": "2023-09-13T20:20:04.516Z"
   },
   {
    "duration": 5,
    "start_time": "2023-09-13T20:20:04.832Z"
   },
   {
    "duration": 17,
    "start_time": "2023-09-13T20:20:04.839Z"
   },
   {
    "duration": 4,
    "start_time": "2023-09-13T20:20:04.857Z"
   },
   {
    "duration": 93,
    "start_time": "2023-09-13T20:20:04.863Z"
   },
   {
    "duration": 47,
    "start_time": "2023-09-13T20:20:04.958Z"
   },
   {
    "duration": 62,
    "start_time": "2023-09-13T20:20:05.007Z"
   },
   {
    "duration": 24,
    "start_time": "2023-09-13T20:20:05.071Z"
   },
   {
    "duration": 6,
    "start_time": "2023-09-13T20:20:05.097Z"
   },
   {
    "duration": 13,
    "start_time": "2023-09-13T20:20:05.104Z"
   },
   {
    "duration": 101,
    "start_time": "2023-09-13T20:20:05.118Z"
   },
   {
    "duration": 7,
    "start_time": "2023-09-13T20:20:05.223Z"
   },
   {
    "duration": 23,
    "start_time": "2023-09-13T20:20:05.232Z"
   },
   {
    "duration": 23,
    "start_time": "2023-09-13T20:20:05.257Z"
   },
   {
    "duration": 27,
    "start_time": "2023-09-13T20:20:05.282Z"
   },
   {
    "duration": 21,
    "start_time": "2023-09-13T20:20:05.311Z"
   },
   {
    "duration": 50,
    "start_time": "2023-09-13T20:20:05.334Z"
   },
   {
    "duration": 33,
    "start_time": "2023-09-13T20:20:05.389Z"
   },
   {
    "duration": 21,
    "start_time": "2023-09-13T20:20:05.424Z"
   },
   {
    "duration": 48,
    "start_time": "2023-09-13T20:20:05.447Z"
   },
   {
    "duration": 228,
    "start_time": "2023-09-13T20:20:17.706Z"
   },
   {
    "duration": 119,
    "start_time": "2023-09-13T20:20:32.590Z"
   },
   {
    "duration": 122,
    "start_time": "2023-09-13T20:21:04.866Z"
   },
   {
    "duration": 126,
    "start_time": "2023-09-13T20:21:58.846Z"
   },
   {
    "duration": 118,
    "start_time": "2023-09-13T20:22:06.754Z"
   },
   {
    "duration": 1188,
    "start_time": "2023-09-13T20:22:13.883Z"
   },
   {
    "duration": 187,
    "start_time": "2023-09-13T20:22:15.073Z"
   },
   {
    "duration": 12,
    "start_time": "2023-09-13T20:22:15.262Z"
   },
   {
    "duration": 3,
    "start_time": "2023-09-13T20:22:15.276Z"
   },
   {
    "duration": 32,
    "start_time": "2023-09-13T20:22:15.281Z"
   },
   {
    "duration": 32,
    "start_time": "2023-09-13T20:22:15.315Z"
   },
   {
    "duration": 121,
    "start_time": "2023-09-13T20:22:15.349Z"
   },
   {
    "duration": 11,
    "start_time": "2023-09-13T20:22:15.472Z"
   },
   {
    "duration": 110,
    "start_time": "2023-09-13T20:22:15.485Z"
   },
   {
    "duration": 17,
    "start_time": "2023-09-13T20:22:15.598Z"
   },
   {
    "duration": 4,
    "start_time": "2023-09-13T20:22:15.616Z"
   },
   {
    "duration": 40,
    "start_time": "2023-09-13T20:22:15.622Z"
   },
   {
    "duration": 8,
    "start_time": "2023-09-13T20:22:15.664Z"
   },
   {
    "duration": 32,
    "start_time": "2023-09-13T20:22:15.674Z"
   },
   {
    "duration": 179,
    "start_time": "2023-09-13T20:22:15.708Z"
   },
   {
    "duration": 6,
    "start_time": "2023-09-13T20:22:15.889Z"
   },
   {
    "duration": 11,
    "start_time": "2023-09-13T20:22:15.898Z"
   },
   {
    "duration": 357,
    "start_time": "2023-09-13T20:22:15.912Z"
   },
   {
    "duration": 230,
    "start_time": "2023-09-13T20:22:16.271Z"
   },
   {
    "duration": 362,
    "start_time": "2023-09-13T20:22:16.503Z"
   },
   {
    "duration": 219,
    "start_time": "2023-09-13T20:22:16.867Z"
   },
   {
    "duration": 7,
    "start_time": "2023-09-13T20:22:17.088Z"
   },
   {
    "duration": 24,
    "start_time": "2023-09-13T20:22:17.096Z"
   },
   {
    "duration": 33,
    "start_time": "2023-09-13T20:22:17.122Z"
   },
   {
    "duration": 18,
    "start_time": "2023-09-13T20:22:17.156Z"
   },
   {
    "duration": 6,
    "start_time": "2023-09-13T20:22:17.176Z"
   },
   {
    "duration": 31,
    "start_time": "2023-09-13T20:22:17.184Z"
   },
   {
    "duration": 176,
    "start_time": "2023-09-13T20:22:17.246Z"
   },
   {
    "duration": 98,
    "start_time": "2023-09-13T20:22:17.423Z"
   },
   {
    "duration": 251,
    "start_time": "2023-09-13T20:22:17.522Z"
   },
   {
    "duration": 5,
    "start_time": "2023-09-13T20:22:17.774Z"
   },
   {
    "duration": 19,
    "start_time": "2023-09-13T20:22:17.781Z"
   },
   {
    "duration": 5,
    "start_time": "2023-09-13T20:22:17.802Z"
   },
   {
    "duration": 67,
    "start_time": "2023-09-13T20:22:17.809Z"
   },
   {
    "duration": 88,
    "start_time": "2023-09-13T20:22:17.878Z"
   },
   {
    "duration": 26,
    "start_time": "2023-09-13T20:22:17.967Z"
   },
   {
    "duration": 55,
    "start_time": "2023-09-13T20:22:17.995Z"
   },
   {
    "duration": 7,
    "start_time": "2023-09-13T20:22:18.052Z"
   },
   {
    "duration": 29,
    "start_time": "2023-09-13T20:22:18.060Z"
   },
   {
    "duration": 86,
    "start_time": "2023-09-13T20:22:18.092Z"
   },
   {
    "duration": 7,
    "start_time": "2023-09-13T20:22:18.179Z"
   },
   {
    "duration": 7,
    "start_time": "2023-09-13T20:22:18.188Z"
   },
   {
    "duration": 16,
    "start_time": "2023-09-13T20:22:18.197Z"
   },
   {
    "duration": 45,
    "start_time": "2023-09-13T20:22:18.215Z"
   },
   {
    "duration": 22,
    "start_time": "2023-09-13T20:22:18.262Z"
   },
   {
    "duration": 17,
    "start_time": "2023-09-13T20:22:18.285Z"
   },
   {
    "duration": 33,
    "start_time": "2023-09-13T20:22:18.304Z"
   },
   {
    "duration": 20,
    "start_time": "2023-09-13T20:22:18.340Z"
   },
   {
    "duration": 23,
    "start_time": "2023-09-13T20:22:18.362Z"
   },
   {
    "duration": 239,
    "start_time": "2023-09-13T20:26:40.556Z"
   },
   {
    "duration": 24,
    "start_time": "2023-09-13T20:26:48.154Z"
   },
   {
    "duration": 122,
    "start_time": "2023-09-13T20:26:49.679Z"
   },
   {
    "duration": 119,
    "start_time": "2023-09-13T20:26:57.945Z"
   },
   {
    "duration": 119,
    "start_time": "2023-09-13T20:27:11.378Z"
   },
   {
    "duration": 3,
    "start_time": "2023-09-13T20:27:31.098Z"
   },
   {
    "duration": 190,
    "start_time": "2023-09-13T20:27:31.523Z"
   },
   {
    "duration": 9,
    "start_time": "2023-09-13T20:27:31.807Z"
   },
   {
    "duration": 4,
    "start_time": "2023-09-13T20:27:32.680Z"
   },
   {
    "duration": 22,
    "start_time": "2023-09-13T20:27:32.910Z"
   },
   {
    "duration": 8,
    "start_time": "2023-09-13T20:27:33.513Z"
   },
   {
    "duration": 112,
    "start_time": "2023-09-13T20:27:33.704Z"
   },
   {
    "duration": 9,
    "start_time": "2023-09-13T20:27:33.873Z"
   },
   {
    "duration": 79,
    "start_time": "2023-09-13T20:27:34.478Z"
   },
   {
    "duration": 14,
    "start_time": "2023-09-13T20:27:34.829Z"
   },
   {
    "duration": 6,
    "start_time": "2023-09-13T20:27:35.479Z"
   },
   {
    "duration": 20,
    "start_time": "2023-09-13T20:27:37.482Z"
   },
   {
    "duration": 8,
    "start_time": "2023-09-13T20:27:37.864Z"
   },
   {
    "duration": 24,
    "start_time": "2023-09-13T20:27:38.259Z"
   },
   {
    "duration": 123,
    "start_time": "2023-09-13T20:27:38.844Z"
   },
   {
    "duration": 6,
    "start_time": "2023-09-13T20:27:39.856Z"
   },
   {
    "duration": 6,
    "start_time": "2023-09-13T20:27:40.056Z"
   },
   {
    "duration": 235,
    "start_time": "2023-09-13T20:27:40.673Z"
   },
   {
    "duration": 221,
    "start_time": "2023-09-13T20:27:41.037Z"
   },
   {
    "duration": 354,
    "start_time": "2023-09-13T20:27:42.616Z"
   },
   {
    "duration": 211,
    "start_time": "2023-09-13T20:27:46.363Z"
   },
   {
    "duration": 8,
    "start_time": "2023-09-13T20:27:48.859Z"
   },
   {
    "duration": 21,
    "start_time": "2023-09-13T20:27:49.241Z"
   },
   {
    "duration": 22,
    "start_time": "2023-09-13T20:27:50.371Z"
   },
   {
    "duration": 19,
    "start_time": "2023-09-13T20:27:50.810Z"
   },
   {
    "duration": 6,
    "start_time": "2023-09-13T20:27:51.725Z"
   },
   {
    "duration": 12,
    "start_time": "2023-09-13T20:28:41.197Z"
   },
   {
    "duration": 32,
    "start_time": "2023-09-13T20:29:02.046Z"
   },
   {
    "duration": 31,
    "start_time": "2023-09-13T20:29:10.549Z"
   },
   {
    "duration": 6,
    "start_time": "2023-09-13T20:29:19.528Z"
   },
   {
    "duration": 36,
    "start_time": "2023-09-13T20:30:32.127Z"
   },
   {
    "duration": 271,
    "start_time": "2023-09-13T20:30:32.267Z"
   },
   {
    "duration": 79,
    "start_time": "2023-09-13T20:30:33.966Z"
   },
   {
    "duration": 12,
    "start_time": "2023-09-13T20:30:34.305Z"
   },
   {
    "duration": 13,
    "start_time": "2023-09-13T20:32:38.866Z"
   },
   {
    "duration": 13,
    "start_time": "2023-09-13T20:33:54.355Z"
   },
   {
    "duration": 1407,
    "start_time": "2023-09-13T20:35:11.527Z"
   },
   {
    "duration": 10,
    "start_time": "2023-09-13T20:35:35.474Z"
   },
   {
    "duration": 1196,
    "start_time": "2023-09-13T20:35:36.731Z"
   },
   {
    "duration": 6,
    "start_time": "2023-09-13T20:35:49.420Z"
   },
   {
    "duration": 9,
    "start_time": "2023-09-13T20:35:49.857Z"
   },
   {
    "duration": 13,
    "start_time": "2023-09-13T20:35:51.279Z"
   },
   {
    "duration": 18,
    "start_time": "2023-09-13T20:36:31.461Z"
   },
   {
    "duration": 13,
    "start_time": "2023-09-13T20:36:38.480Z"
   },
   {
    "duration": 12,
    "start_time": "2023-09-13T20:36:54.490Z"
   },
   {
    "duration": 13,
    "start_time": "2023-09-13T20:43:44.141Z"
   },
   {
    "duration": 9,
    "start_time": "2023-09-13T20:43:48.617Z"
   },
   {
    "duration": 12,
    "start_time": "2023-09-13T20:43:49.854Z"
   },
   {
    "duration": 13,
    "start_time": "2023-09-13T20:43:50.227Z"
   },
   {
    "duration": 13,
    "start_time": "2023-09-13T20:44:32.042Z"
   },
   {
    "duration": 77,
    "start_time": "2023-09-13T20:45:23.856Z"
   },
   {
    "duration": 100,
    "start_time": "2023-09-13T20:45:57.120Z"
   },
   {
    "duration": 16,
    "start_time": "2023-09-13T20:46:33.628Z"
   },
   {
    "duration": 86,
    "start_time": "2023-09-13T20:46:51.797Z"
   },
   {
    "duration": 33,
    "start_time": "2023-09-13T20:46:56.997Z"
   },
   {
    "duration": 258,
    "start_time": "2023-09-13T20:47:08.790Z"
   },
   {
    "duration": 57,
    "start_time": "2023-09-13T20:47:57.785Z"
   },
   {
    "duration": 54,
    "start_time": "2023-09-13T20:49:11.352Z"
   },
   {
    "duration": 14,
    "start_time": "2023-09-13T20:49:45.757Z"
   },
   {
    "duration": 13,
    "start_time": "2023-09-13T20:50:28.830Z"
   },
   {
    "duration": 94,
    "start_time": "2023-09-13T20:50:34.725Z"
   },
   {
    "duration": 10,
    "start_time": "2023-09-13T20:50:40.252Z"
   },
   {
    "duration": 76,
    "start_time": "2023-09-13T20:50:41.977Z"
   },
   {
    "duration": 12,
    "start_time": "2023-09-13T20:50:47.603Z"
   },
   {
    "duration": 14,
    "start_time": "2023-09-13T20:53:00.192Z"
   },
   {
    "duration": 14,
    "start_time": "2023-09-13T20:53:17.749Z"
   },
   {
    "duration": 15,
    "start_time": "2023-09-13T20:53:22.493Z"
   },
   {
    "duration": 19,
    "start_time": "2023-09-13T20:53:51.561Z"
   },
   {
    "duration": 13,
    "start_time": "2023-09-13T20:54:17.539Z"
   },
   {
    "duration": 13,
    "start_time": "2023-09-13T20:55:40.443Z"
   },
   {
    "duration": 12,
    "start_time": "2023-09-13T20:56:53.250Z"
   },
   {
    "duration": 13,
    "start_time": "2023-09-13T20:56:57.422Z"
   },
   {
    "duration": 14,
    "start_time": "2023-09-13T20:57:53.178Z"
   },
   {
    "duration": 12,
    "start_time": "2023-09-13T20:57:57.050Z"
   },
   {
    "duration": 13,
    "start_time": "2023-09-13T20:58:05.874Z"
   },
   {
    "duration": 15,
    "start_time": "2023-09-13T20:59:55.401Z"
   },
   {
    "duration": 3,
    "start_time": "2023-09-13T21:00:19.845Z"
   },
   {
    "duration": 33,
    "start_time": "2023-09-13T21:00:21.708Z"
   },
   {
    "duration": 40,
    "start_time": "2023-09-13T21:00:22.235Z"
   },
   {
    "duration": 27,
    "start_time": "2023-09-13T21:24:23.424Z"
   },
   {
    "duration": 77,
    "start_time": "2023-09-13T21:24:56.243Z"
   },
   {
    "duration": 33,
    "start_time": "2023-09-13T21:25:01.844Z"
   },
   {
    "duration": 36,
    "start_time": "2023-09-13T21:25:05.652Z"
   },
   {
    "duration": 28,
    "start_time": "2023-09-13T21:25:10.356Z"
   },
   {
    "duration": 32,
    "start_time": "2023-09-13T21:25:16.393Z"
   },
   {
    "duration": 26,
    "start_time": "2023-09-13T21:25:23.120Z"
   },
   {
    "duration": 26,
    "start_time": "2023-09-13T21:25:32.162Z"
   },
   {
    "duration": 24,
    "start_time": "2023-09-13T21:25:57.390Z"
   },
   {
    "duration": 28,
    "start_time": "2023-09-13T21:26:00.635Z"
   },
   {
    "duration": 26,
    "start_time": "2023-09-13T21:26:14.222Z"
   },
   {
    "duration": 26,
    "start_time": "2023-09-13T21:26:24.651Z"
   },
   {
    "duration": 29,
    "start_time": "2023-09-13T21:26:25.343Z"
   },
   {
    "duration": 28,
    "start_time": "2023-09-13T21:26:34.573Z"
   },
   {
    "duration": 26,
    "start_time": "2023-09-13T21:26:34.933Z"
   },
   {
    "duration": 7,
    "start_time": "2023-09-13T21:26:35.329Z"
   },
   {
    "duration": 5,
    "start_time": "2023-09-13T21:26:37.387Z"
   },
   {
    "duration": 77,
    "start_time": "2023-09-13T21:28:44.685Z"
   },
   {
    "duration": 8,
    "start_time": "2023-09-13T21:28:47.144Z"
   },
   {
    "duration": 7,
    "start_time": "2023-09-13T21:29:08.892Z"
   },
   {
    "duration": 9,
    "start_time": "2023-09-13T21:31:47.857Z"
   },
   {
    "duration": 5,
    "start_time": "2023-09-13T21:34:24.192Z"
   },
   {
    "duration": 5,
    "start_time": "2023-09-13T21:34:26.247Z"
   },
   {
    "duration": 27,
    "start_time": "2023-09-13T21:35:01.325Z"
   },
   {
    "duration": 27,
    "start_time": "2023-09-13T21:35:01.530Z"
   },
   {
    "duration": 5,
    "start_time": "2023-09-13T21:35:01.856Z"
   },
   {
    "duration": 5,
    "start_time": "2023-09-13T21:35:02.817Z"
   },
   {
    "duration": 8,
    "start_time": "2023-09-13T21:35:30.921Z"
   },
   {
    "duration": 8,
    "start_time": "2023-09-13T21:35:33.617Z"
   },
   {
    "duration": 5,
    "start_time": "2023-09-13T21:35:36.918Z"
   },
   {
    "duration": 82,
    "start_time": "2023-09-13T21:35:37.573Z"
   },
   {
    "duration": 7,
    "start_time": "2023-09-13T21:35:37.919Z"
   },
   {
    "duration": 5,
    "start_time": "2023-09-13T21:35:41.108Z"
   },
   {
    "duration": 8,
    "start_time": "2023-09-13T21:35:41.549Z"
   },
   {
    "duration": 6,
    "start_time": "2023-09-13T21:35:56.691Z"
   },
   {
    "duration": 9,
    "start_time": "2023-09-13T21:35:56.840Z"
   },
   {
    "duration": 6,
    "start_time": "2023-09-13T21:35:57.143Z"
   },
   {
    "duration": 11,
    "start_time": "2023-09-13T21:35:57.280Z"
   },
   {
    "duration": 5,
    "start_time": "2023-09-13T21:35:57.575Z"
   },
   {
    "duration": 10,
    "start_time": "2023-09-13T21:35:57.728Z"
   },
   {
    "duration": 1321,
    "start_time": "2023-09-13T21:37:08.903Z"
   },
   {
    "duration": 203,
    "start_time": "2023-09-13T21:37:10.226Z"
   },
   {
    "duration": 23,
    "start_time": "2023-09-13T21:37:10.430Z"
   },
   {
    "duration": 34,
    "start_time": "2023-09-13T21:37:10.454Z"
   },
   {
    "duration": 27,
    "start_time": "2023-09-13T21:37:10.490Z"
   },
   {
    "duration": 13,
    "start_time": "2023-09-13T21:37:10.519Z"
   },
   {
    "duration": 119,
    "start_time": "2023-09-13T21:37:10.534Z"
   },
   {
    "duration": 10,
    "start_time": "2023-09-13T21:37:10.655Z"
   },
   {
    "duration": 106,
    "start_time": "2023-09-13T21:37:10.666Z"
   },
   {
    "duration": 17,
    "start_time": "2023-09-13T21:37:10.774Z"
   },
   {
    "duration": 4,
    "start_time": "2023-09-13T21:37:10.793Z"
   },
   {
    "duration": 21,
    "start_time": "2023-09-13T21:37:10.798Z"
   },
   {
    "duration": 30,
    "start_time": "2023-09-13T21:37:10.820Z"
   },
   {
    "duration": 21,
    "start_time": "2023-09-13T21:37:10.852Z"
   },
   {
    "duration": 153,
    "start_time": "2023-09-13T21:37:10.875Z"
   },
   {
    "duration": 4,
    "start_time": "2023-09-13T21:37:11.030Z"
   },
   {
    "duration": 16,
    "start_time": "2023-09-13T21:37:11.036Z"
   },
   {
    "duration": 321,
    "start_time": "2023-09-13T21:37:11.054Z"
   },
   {
    "duration": 227,
    "start_time": "2023-09-13T21:37:11.377Z"
   },
   {
    "duration": 359,
    "start_time": "2023-09-13T21:37:11.606Z"
   },
   {
    "duration": 216,
    "start_time": "2023-09-13T21:37:11.967Z"
   },
   {
    "duration": 7,
    "start_time": "2023-09-13T21:37:12.185Z"
   },
   {
    "duration": 28,
    "start_time": "2023-09-13T21:37:12.194Z"
   },
   {
    "duration": 55,
    "start_time": "2023-09-13T21:37:12.224Z"
   },
   {
    "duration": 38,
    "start_time": "2023-09-13T21:37:12.280Z"
   },
   {
    "duration": 6,
    "start_time": "2023-09-13T21:37:12.320Z"
   },
   {
    "duration": 50,
    "start_time": "2023-09-13T21:37:12.328Z"
   },
   {
    "duration": 177,
    "start_time": "2023-09-13T21:37:12.380Z"
   },
   {
    "duration": 91,
    "start_time": "2023-09-13T21:37:12.559Z"
   },
   {
    "duration": 5,
    "start_time": "2023-09-13T21:37:12.652Z"
   },
   {
    "duration": 11,
    "start_time": "2023-09-13T21:37:12.659Z"
   },
   {
    "duration": 281,
    "start_time": "2023-09-13T21:37:12.671Z"
   },
   {
    "duration": 4,
    "start_time": "2023-09-13T21:37:12.953Z"
   },
   {
    "duration": 100,
    "start_time": "2023-09-13T21:37:12.959Z"
   },
   {
    "duration": 41,
    "start_time": "2023-09-13T21:37:13.061Z"
   },
   {
    "duration": 68,
    "start_time": "2023-09-13T21:37:13.103Z"
   },
   {
    "duration": 29,
    "start_time": "2023-09-13T21:37:13.172Z"
   },
   {
    "duration": 5,
    "start_time": "2023-09-13T21:37:13.203Z"
   },
   {
    "duration": 9,
    "start_time": "2023-09-13T21:37:13.209Z"
   },
   {
    "duration": 106,
    "start_time": "2023-09-13T21:37:13.219Z"
   },
   {
    "duration": 8,
    "start_time": "2023-09-13T21:37:13.329Z"
   },
   {
    "duration": 5,
    "start_time": "2023-09-13T21:37:13.346Z"
   },
   {
    "duration": 13,
    "start_time": "2023-09-13T21:37:13.353Z"
   },
   {
    "duration": 12,
    "start_time": "2023-09-13T21:37:13.367Z"
   },
   {
    "duration": 17,
    "start_time": "2023-09-13T21:37:13.380Z"
   },
   {
    "duration": 13,
    "start_time": "2023-09-13T21:37:13.399Z"
   },
   {
    "duration": 19,
    "start_time": "2023-09-13T21:37:13.414Z"
   },
   {
    "duration": 9,
    "start_time": "2023-09-13T21:37:13.435Z"
   },
   {
    "duration": 21,
    "start_time": "2023-09-13T21:37:13.446Z"
   },
   {
    "duration": 28,
    "start_time": "2023-09-13T21:37:56.662Z"
   },
   {
    "duration": 27,
    "start_time": "2023-09-13T21:37:57.017Z"
   },
   {
    "duration": 5,
    "start_time": "2023-09-13T21:37:58.417Z"
   },
   {
    "duration": 5,
    "start_time": "2023-09-13T21:38:06.250Z"
   },
   {
    "duration": 82,
    "start_time": "2023-09-13T21:38:16.014Z"
   },
   {
    "duration": 8,
    "start_time": "2023-09-13T21:38:16.592Z"
   },
   {
    "duration": 10,
    "start_time": "2023-09-13T21:38:41.116Z"
   },
   {
    "duration": 1365,
    "start_time": "2023-09-13T22:09:25.001Z"
   },
   {
    "duration": 577,
    "start_time": "2023-09-13T22:09:26.369Z"
   },
   {
    "duration": 11,
    "start_time": "2023-09-13T22:09:26.948Z"
   },
   {
    "duration": 19,
    "start_time": "2023-09-13T22:09:26.960Z"
   },
   {
    "duration": 42,
    "start_time": "2023-09-13T22:09:26.981Z"
   },
   {
    "duration": 12,
    "start_time": "2023-09-13T22:09:27.025Z"
   },
   {
    "duration": 121,
    "start_time": "2023-09-13T22:09:27.039Z"
   },
   {
    "duration": 9,
    "start_time": "2023-09-13T22:09:27.162Z"
   },
   {
    "duration": 105,
    "start_time": "2023-09-13T22:09:27.173Z"
   },
   {
    "duration": 33,
    "start_time": "2023-09-13T22:09:27.280Z"
   },
   {
    "duration": 21,
    "start_time": "2023-09-13T22:09:27.315Z"
   },
   {
    "duration": 42,
    "start_time": "2023-09-13T22:09:27.338Z"
   },
   {
    "duration": 8,
    "start_time": "2023-09-13T22:09:27.382Z"
   },
   {
    "duration": 31,
    "start_time": "2023-09-13T22:09:27.393Z"
   },
   {
    "duration": 141,
    "start_time": "2023-09-13T22:09:27.426Z"
   },
   {
    "duration": 4,
    "start_time": "2023-09-13T22:09:27.569Z"
   },
   {
    "duration": 11,
    "start_time": "2023-09-13T22:09:27.575Z"
   },
   {
    "duration": 330,
    "start_time": "2023-09-13T22:09:27.587Z"
   },
   {
    "duration": 224,
    "start_time": "2023-09-13T22:09:27.919Z"
   },
   {
    "duration": 343,
    "start_time": "2023-09-13T22:09:28.145Z"
   },
   {
    "duration": 230,
    "start_time": "2023-09-13T22:09:28.490Z"
   },
   {
    "duration": 9,
    "start_time": "2023-09-13T22:09:28.722Z"
   },
   {
    "duration": 55,
    "start_time": "2023-09-13T22:09:28.733Z"
   },
   {
    "duration": 53,
    "start_time": "2023-09-13T22:09:28.790Z"
   },
   {
    "duration": 35,
    "start_time": "2023-09-13T22:09:28.845Z"
   },
   {
    "duration": 6,
    "start_time": "2023-09-13T22:09:28.881Z"
   },
   {
    "duration": 40,
    "start_time": "2023-09-13T22:09:28.889Z"
   },
   {
    "duration": 185,
    "start_time": "2023-09-13T22:09:28.931Z"
   },
   {
    "duration": 76,
    "start_time": "2023-09-13T22:09:29.118Z"
   },
   {
    "duration": 19,
    "start_time": "2023-09-13T22:09:29.195Z"
   },
   {
    "duration": 29,
    "start_time": "2023-09-13T22:09:29.215Z"
   },
   {
    "duration": 952,
    "start_time": "2023-09-13T22:09:29.246Z"
   },
   {
    "duration": 5,
    "start_time": "2023-09-13T22:09:30.199Z"
   },
   {
    "duration": 99,
    "start_time": "2023-09-13T22:09:30.218Z"
   },
   {
    "duration": 40,
    "start_time": "2023-09-13T22:09:30.319Z"
   },
   {
    "duration": 60,
    "start_time": "2023-09-13T22:09:30.361Z"
   },
   {
    "duration": 71,
    "start_time": "2023-09-13T22:09:30.423Z"
   },
   {
    "duration": 17,
    "start_time": "2023-09-13T22:09:30.496Z"
   },
   {
    "duration": 30,
    "start_time": "2023-09-13T22:09:30.515Z"
   },
   {
    "duration": 138,
    "start_time": "2023-09-13T22:09:30.547Z"
   },
   {
    "duration": 19,
    "start_time": "2023-09-13T22:09:30.690Z"
   },
   {
    "duration": 32,
    "start_time": "2023-09-13T22:09:30.710Z"
   },
   {
    "duration": 51,
    "start_time": "2023-09-13T22:09:30.744Z"
   },
   {
    "duration": 31,
    "start_time": "2023-09-13T22:09:30.797Z"
   },
   {
    "duration": 82,
    "start_time": "2023-09-13T22:09:30.830Z"
   },
   {
    "duration": 50,
    "start_time": "2023-09-13T22:09:30.913Z"
   },
   {
    "duration": 68,
    "start_time": "2023-09-13T22:09:30.965Z"
   },
   {
    "duration": 38,
    "start_time": "2023-09-13T22:09:31.035Z"
   },
   {
    "duration": 47,
    "start_time": "2023-09-13T22:09:31.074Z"
   },
   {
    "duration": 10,
    "start_time": "2023-09-13T22:15:35.512Z"
   },
   {
    "duration": 10,
    "start_time": "2023-09-13T22:15:42.918Z"
   },
   {
    "duration": 18,
    "start_time": "2023-09-13T22:16:04.725Z"
   },
   {
    "duration": 15,
    "start_time": "2023-09-13T22:16:16.660Z"
   },
   {
    "duration": 150,
    "start_time": "2023-09-13T22:16:44.495Z"
   },
   {
    "duration": 9,
    "start_time": "2023-09-13T22:16:48.023Z"
   },
   {
    "duration": 14,
    "start_time": "2023-09-13T22:16:53.117Z"
   },
   {
    "duration": 27,
    "start_time": "2023-09-13T22:17:06.588Z"
   },
   {
    "duration": 1412,
    "start_time": "2023-10-18T20:41:32.774Z"
   },
   {
    "duration": 522,
    "start_time": "2023-10-18T20:41:34.188Z"
   },
   {
    "duration": 12,
    "start_time": "2023-10-18T20:41:34.712Z"
   },
   {
    "duration": 11,
    "start_time": "2023-10-18T20:41:34.726Z"
   },
   {
    "duration": 27,
    "start_time": "2023-10-18T20:41:34.740Z"
   },
   {
    "duration": 14,
    "start_time": "2023-10-18T20:41:34.770Z"
   },
   {
    "duration": 134,
    "start_time": "2023-10-18T20:41:34.786Z"
   },
   {
    "duration": 10,
    "start_time": "2023-10-18T20:41:34.921Z"
   },
   {
    "duration": 133,
    "start_time": "2023-10-18T20:41:34.932Z"
   },
   {
    "duration": 17,
    "start_time": "2023-10-18T20:41:35.067Z"
   },
   {
    "duration": 16,
    "start_time": "2023-10-18T20:41:35.086Z"
   },
   {
    "duration": 28,
    "start_time": "2023-10-18T20:41:35.107Z"
   },
   {
    "duration": 12,
    "start_time": "2023-10-18T20:41:35.136Z"
   },
   {
    "duration": 21,
    "start_time": "2023-10-18T20:41:35.149Z"
   },
   {
    "duration": 166,
    "start_time": "2023-10-18T20:41:35.171Z"
   },
   {
    "duration": 5,
    "start_time": "2023-10-18T20:41:35.339Z"
   },
   {
    "duration": 21,
    "start_time": "2023-10-18T20:41:35.346Z"
   },
   {
    "duration": 325,
    "start_time": "2023-10-18T20:41:35.369Z"
   },
   {
    "duration": 216,
    "start_time": "2023-10-18T20:41:35.696Z"
   },
   {
    "duration": 402,
    "start_time": "2023-10-18T20:41:35.913Z"
   },
   {
    "duration": 201,
    "start_time": "2023-10-18T20:41:36.317Z"
   },
   {
    "duration": 7,
    "start_time": "2023-10-18T20:41:36.520Z"
   },
   {
    "duration": 27,
    "start_time": "2023-10-18T20:41:36.528Z"
   },
   {
    "duration": 61,
    "start_time": "2023-10-18T20:41:36.557Z"
   },
   {
    "duration": 42,
    "start_time": "2023-10-18T20:41:36.620Z"
   },
   {
    "duration": 8,
    "start_time": "2023-10-18T20:41:36.664Z"
   },
   {
    "duration": 56,
    "start_time": "2023-10-18T20:41:36.675Z"
   },
   {
    "duration": 201,
    "start_time": "2023-10-18T20:41:36.735Z"
   },
   {
    "duration": 129,
    "start_time": "2023-10-18T20:41:36.938Z"
   },
   {
    "duration": 6,
    "start_time": "2023-10-18T20:41:37.070Z"
   },
   {
    "duration": 13,
    "start_time": "2023-10-18T20:41:37.078Z"
   },
   {
    "duration": 274,
    "start_time": "2023-10-18T20:41:37.106Z"
   },
   {
    "duration": 18,
    "start_time": "2023-10-18T20:41:37.382Z"
   },
   {
    "duration": 13,
    "start_time": "2023-10-18T20:41:37.403Z"
   },
   {
    "duration": 100,
    "start_time": "2023-10-18T20:41:37.418Z"
   },
   {
    "duration": 59,
    "start_time": "2023-10-18T20:41:37.520Z"
   },
   {
    "duration": 52,
    "start_time": "2023-10-18T20:41:37.581Z"
   },
   {
    "duration": 30,
    "start_time": "2023-10-18T20:41:37.635Z"
   },
   {
    "duration": 5,
    "start_time": "2023-10-18T20:41:37.666Z"
   },
   {
    "duration": 8,
    "start_time": "2023-10-18T20:41:37.673Z"
   },
   {
    "duration": 125,
    "start_time": "2023-10-18T20:41:37.682Z"
   },
   {
    "duration": 7,
    "start_time": "2023-10-18T20:41:37.809Z"
   },
   {
    "duration": 17,
    "start_time": "2023-10-18T20:41:37.818Z"
   },
   {
    "duration": 16,
    "start_time": "2023-10-18T20:41:37.837Z"
   },
   {
    "duration": 7,
    "start_time": "2023-10-18T20:41:37.855Z"
   },
   {
    "duration": 43,
    "start_time": "2023-10-18T20:41:37.864Z"
   },
   {
    "duration": 13,
    "start_time": "2023-10-18T20:41:37.909Z"
   },
   {
    "duration": 33,
    "start_time": "2023-10-18T20:41:37.924Z"
   },
   {
    "duration": 31,
    "start_time": "2023-10-18T20:41:37.959Z"
   },
   {
    "duration": 19,
    "start_time": "2023-10-18T20:41:37.992Z"
   },
   {
    "duration": 1626,
    "start_time": "2023-10-19T14:47:50.235Z"
   },
   {
    "duration": 707,
    "start_time": "2023-10-19T14:47:51.863Z"
   },
   {
    "duration": 18,
    "start_time": "2023-10-19T14:47:52.573Z"
   },
   {
    "duration": 14,
    "start_time": "2023-10-19T14:47:52.594Z"
   },
   {
    "duration": 55,
    "start_time": "2023-10-19T14:47:52.612Z"
   },
   {
    "duration": 14,
    "start_time": "2023-10-19T14:47:52.669Z"
   },
   {
    "duration": 153,
    "start_time": "2023-10-19T14:47:52.684Z"
   },
   {
    "duration": 10,
    "start_time": "2023-10-19T14:47:52.839Z"
   },
   {
    "duration": 119,
    "start_time": "2023-10-19T14:47:52.851Z"
   },
   {
    "duration": 17,
    "start_time": "2023-10-19T14:47:52.972Z"
   },
   {
    "duration": 28,
    "start_time": "2023-10-19T14:47:52.991Z"
   },
   {
    "duration": 75,
    "start_time": "2023-10-19T14:47:53.021Z"
   },
   {
    "duration": 41,
    "start_time": "2023-10-19T14:47:53.098Z"
   },
   {
    "duration": 66,
    "start_time": "2023-10-19T14:47:53.142Z"
   },
   {
    "duration": 182,
    "start_time": "2023-10-19T14:47:53.210Z"
   },
   {
    "duration": 5,
    "start_time": "2023-10-19T14:47:53.394Z"
   },
   {
    "duration": 143,
    "start_time": "2023-10-19T14:47:53.401Z"
   },
   {
    "duration": 429,
    "start_time": "2023-10-19T14:47:53.546Z"
   },
   {
    "duration": 258,
    "start_time": "2023-10-19T14:47:53.978Z"
   },
   {
    "duration": 360,
    "start_time": "2023-10-19T14:47:54.238Z"
   },
   {
    "duration": 225,
    "start_time": "2023-10-19T14:47:54.600Z"
   },
   {
    "duration": 7,
    "start_time": "2023-10-19T14:47:54.827Z"
   },
   {
    "duration": 92,
    "start_time": "2023-10-19T14:47:54.835Z"
   },
   {
    "duration": 176,
    "start_time": "2023-10-19T14:47:54.930Z"
   },
   {
    "duration": 81,
    "start_time": "2023-10-19T14:47:55.107Z"
   },
   {
    "duration": 10,
    "start_time": "2023-10-19T14:47:55.190Z"
   },
   {
    "duration": 75,
    "start_time": "2023-10-19T14:47:55.202Z"
   },
   {
    "duration": 230,
    "start_time": "2023-10-19T14:47:55.280Z"
   },
   {
    "duration": 87,
    "start_time": "2023-10-19T14:47:55.512Z"
   },
   {
    "duration": 6,
    "start_time": "2023-10-19T14:47:55.600Z"
   },
   {
    "duration": 24,
    "start_time": "2023-10-19T14:47:55.607Z"
   },
   {
    "duration": 279,
    "start_time": "2023-10-19T14:47:55.633Z"
   },
   {
    "duration": 19,
    "start_time": "2023-10-19T14:47:55.914Z"
   },
   {
    "duration": 15,
    "start_time": "2023-10-19T14:47:55.935Z"
   },
   {
    "duration": 96,
    "start_time": "2023-10-19T14:47:55.953Z"
   },
   {
    "duration": 44,
    "start_time": "2023-10-19T14:47:56.051Z"
   },
   {
    "duration": 68,
    "start_time": "2023-10-19T14:47:56.097Z"
   },
   {
    "duration": 26,
    "start_time": "2023-10-19T14:47:56.167Z"
   },
   {
    "duration": 6,
    "start_time": "2023-10-19T14:47:56.195Z"
   },
   {
    "duration": 13,
    "start_time": "2023-10-19T14:47:56.203Z"
   },
   {
    "duration": 118,
    "start_time": "2023-10-19T14:47:56.220Z"
   },
   {
    "duration": 12,
    "start_time": "2023-10-19T14:47:56.341Z"
   },
   {
    "duration": 12,
    "start_time": "2023-10-19T14:47:56.354Z"
   },
   {
    "duration": 24,
    "start_time": "2023-10-19T14:47:56.367Z"
   },
   {
    "duration": 25,
    "start_time": "2023-10-19T14:47:56.393Z"
   },
   {
    "duration": 29,
    "start_time": "2023-10-19T14:47:56.420Z"
   },
   {
    "duration": 13,
    "start_time": "2023-10-19T14:47:56.451Z"
   },
   {
    "duration": 24,
    "start_time": "2023-10-19T14:47:56.466Z"
   },
   {
    "duration": 21,
    "start_time": "2023-10-19T14:47:56.493Z"
   },
   {
    "duration": 33,
    "start_time": "2023-10-19T14:47:56.516Z"
   },
   {
    "duration": 21,
    "start_time": "2023-10-19T14:54:50.765Z"
   },
   {
    "duration": 92,
    "start_time": "2023-10-19T15:17:30.066Z"
   },
   {
    "duration": 19,
    "start_time": "2023-10-19T15:18:57.083Z"
   },
   {
    "duration": 20,
    "start_time": "2023-10-19T15:19:05.543Z"
   },
   {
    "duration": 19,
    "start_time": "2023-10-19T15:19:09.742Z"
   },
   {
    "duration": 4,
    "start_time": "2023-10-19T15:19:21.682Z"
   },
   {
    "duration": 19,
    "start_time": "2023-10-19T15:19:26.669Z"
   },
   {
    "duration": 134,
    "start_time": "2023-10-19T15:19:37.160Z"
   },
   {
    "duration": 150,
    "start_time": "2023-10-19T15:19:41.333Z"
   },
   {
    "duration": 90,
    "start_time": "2023-10-19T15:20:17.415Z"
   },
   {
    "duration": 18,
    "start_time": "2023-10-19T15:20:33.464Z"
   },
   {
    "duration": 8,
    "start_time": "2023-10-19T15:20:45.077Z"
   },
   {
    "duration": 7,
    "start_time": "2023-10-19T15:21:18.475Z"
   },
   {
    "duration": 21,
    "start_time": "2023-10-19T15:21:48.054Z"
   },
   {
    "duration": 145,
    "start_time": "2023-10-19T15:22:40.755Z"
   },
   {
    "duration": 173,
    "start_time": "2023-10-19T15:22:45.163Z"
   },
   {
    "duration": 143,
    "start_time": "2023-10-19T15:22:54.359Z"
   },
   {
    "duration": 146,
    "start_time": "2023-10-19T15:23:02.834Z"
   },
   {
    "duration": 145,
    "start_time": "2023-10-19T15:23:05.559Z"
   },
   {
    "duration": 144,
    "start_time": "2023-10-19T15:23:08.371Z"
   },
   {
    "duration": 146,
    "start_time": "2023-10-19T15:23:14.598Z"
   },
   {
    "duration": 146,
    "start_time": "2023-10-19T15:23:58.371Z"
   },
   {
    "duration": 148,
    "start_time": "2023-10-19T15:24:18.413Z"
   },
   {
    "duration": 238,
    "start_time": "2023-10-19T15:24:32.053Z"
   },
   {
    "duration": 5,
    "start_time": "2023-10-19T15:25:33.279Z"
   },
   {
    "duration": 5,
    "start_time": "2023-10-19T15:25:34.657Z"
   },
   {
    "duration": 27,
    "start_time": "2023-10-19T15:32:22.822Z"
   },
   {
    "duration": 21,
    "start_time": "2023-10-19T15:32:31.354Z"
   },
   {
    "duration": 179,
    "start_time": "2023-10-19T15:33:11.875Z"
   },
   {
    "duration": 3,
    "start_time": "2023-10-19T15:34:25.233Z"
   },
   {
    "duration": 81,
    "start_time": "2023-10-19T15:34:25.789Z"
   },
   {
    "duration": 80,
    "start_time": "2023-10-19T15:34:35.722Z"
   },
   {
    "duration": 83,
    "start_time": "2023-10-19T15:34:45.668Z"
   },
   {
    "duration": 86,
    "start_time": "2023-10-19T15:35:09.719Z"
   },
   {
    "duration": 5,
    "start_time": "2023-10-19T15:35:32.287Z"
   },
   {
    "duration": 9,
    "start_time": "2023-10-19T15:35:32.765Z"
   },
   {
    "duration": 16,
    "start_time": "2023-10-19T15:36:44.130Z"
   },
   {
    "duration": 15,
    "start_time": "2023-10-19T15:37:31.710Z"
   },
   {
    "duration": 117,
    "start_time": "2023-10-19T15:37:38.531Z"
   },
   {
    "duration": 16,
    "start_time": "2023-10-19T15:37:42.823Z"
   }
  ],
  "kernelspec": {
   "display_name": "Python 3 (ipykernel)",
   "language": "python",
   "name": "python3"
  },
  "language_info": {
   "codemirror_mode": {
    "name": "ipython",
    "version": 3
   },
   "file_extension": ".py",
   "mimetype": "text/x-python",
   "name": "python",
   "nbconvert_exporter": "python",
   "pygments_lexer": "ipython3",
   "version": "3.9.5"
  },
  "toc": {
   "base_numbering": 1,
   "nav_menu": {},
   "number_sections": true,
   "sideBar": true,
   "skip_h1_title": true,
   "title_cell": "Table of Contents",
   "title_sidebar": "Contents",
   "toc_cell": false,
   "toc_position": {},
   "toc_section_display": true,
   "toc_window_display": true
  }
 },
 "nbformat": 4,
 "nbformat_minor": 2
}
